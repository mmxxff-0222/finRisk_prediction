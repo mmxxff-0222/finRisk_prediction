{
 "cells": [
  {
   "cell_type": "code",
   "execution_count": 2,
   "metadata": {
    "collapsed": true
   },
   "outputs": [],
   "source": [
    "import pandas as pd"
   ]
  },
  {
   "cell_type": "code",
   "execution_count": 3,
   "outputs": [
    {
     "name": "stderr",
     "output_type": "stream",
     "text": [
      "/var/folders/8m/6cpmqrns19n25q6dpm3wnyzh0000gn/T/ipykernel_85062/2186751444.py:7: DtypeWarning: Columns (19,55) have mixed types. Specify dtype option on import or set low_memory=False.\n",
      "  df_loan = pd.read_csv(\"/Users/mxfmeng/PycharmProjects/GraduationDesign/MLmodels/dataset/loan_old.csv\")\n"
     ]
    },
    {
     "name": "stdout",
     "output_type": "stream",
     "text": [
      "<class 'pandas.core.frame.DataFrame'>\n",
      "Index: 773968 entries, 42535 to 887378\n",
      "Data columns (total 25 columns):\n",
      " #   Column               Non-Null Count   Dtype  \n",
      "---  ------               --------------   -----  \n",
      " 0   loan_amnt            773968 non-null  float64\n",
      " 1   term                 773968 non-null  object \n",
      " 2   int_rate             773968 non-null  float64\n",
      " 3   installment          773968 non-null  float64\n",
      " 4   grade                773968 non-null  object \n",
      " 5   emp_length           773968 non-null  object \n",
      " 6   home_ownership       773968 non-null  object \n",
      " 7   annual_inc           773968 non-null  float64\n",
      " 8   verification_status  773968 non-null  object \n",
      " 9   purpose              773968 non-null  object \n",
      " 10  addr_state           773968 non-null  object \n",
      " 11  dti                  773968 non-null  float64\n",
      " 12  delinq_2yrs          773968 non-null  float64\n",
      " 13  open_acc             773968 non-null  float64\n",
      " 14  pub_rec              773968 non-null  float64\n",
      " 15  revol_bal            773968 non-null  float64\n",
      " 16  revol_util           773968 non-null  float64\n",
      " 17  total_acc            773968 non-null  float64\n",
      " 18  total_pymnt          773968 non-null  float64\n",
      " 19  total_rec_late_fee   773968 non-null  float64\n",
      " 20  last_pymnt_amnt      773968 non-null  float64\n",
      " 21  application_type     773968 non-null  object \n",
      " 22  acc_now_delinq       773968 non-null  float64\n",
      " 23  tot_coll_amt         773968 non-null  float64\n",
      " 24  tot_cur_bal          773968 non-null  float64\n",
      "dtypes: float64(17), object(8)\n",
      "memory usage: 153.5+ MB\n"
     ]
    }
   ],
   "source": [
    "columnList = ['loan_amnt', 'term', 'int_rate', 'installment', 'grade', 'emp_length',\n",
    "       'home_ownership', 'annual_inc', 'verification_status',\n",
    "       'purpose', 'addr_state', 'dti', 'delinq_2yrs', 'open_acc', 'pub_rec',\n",
    "       'revol_bal', 'revol_util', 'total_acc', 'total_pymnt',\n",
    "       'total_rec_late_fee', 'last_pymnt_amnt', 'application_type',\n",
    "       'acc_now_delinq', 'tot_coll_amt', 'tot_cur_bal']\n",
    "df_loan = pd.read_csv(\"/Users/mxfmeng/PycharmProjects/GraduationDesign/MLmodels/dataset/loan_old.csv\")\n",
    "df_loan.drop(columns = df_loan.columns.difference(columnList),inplace=True)\n",
    "df_loan.dropna(inplace=True)\n",
    "df_loan.info()"
   ],
   "metadata": {
    "collapsed": false
   }
  },
  {
   "cell_type": "code",
   "execution_count": 4,
   "outputs": [
    {
     "data": {
      "text/plain": "        loan_amnt        term  int_rate  installment grade emp_length  \\\n42535     27050.0   36 months     10.99       885.46     B  10+ years   \n42536      9750.0   36 months     13.98       333.14     C     1 year   \n42537     12000.0   36 months      6.62       368.45     A  10+ years   \n42538     12000.0   36 months     13.53       407.40     B  10+ years   \n42539     15000.0   36 months      8.90       476.30     A    2 years   \n...           ...         ...       ...          ...   ...        ...   \n887374    10000.0   36 months     11.99       332.10     B    8 years   \n887375    24000.0   36 months     11.99       797.03     B  10+ years   \n887376    13000.0   60 months     15.99       316.07     D    5 years   \n887377    12000.0   60 months     19.99       317.86     E     1 year   \n887378    20000.0   36 months     11.99       664.20     B  10+ years   \n\n       home_ownership  annual_inc verification_status             purpose  \\\n42535             OWN     55000.0            Verified  debt_consolidation   \n42536            RENT     26000.0        Not Verified  debt_consolidation   \n42537        MORTGAGE    105000.0        Not Verified  debt_consolidation   \n42538            RENT     40000.0     Source Verified  debt_consolidation   \n42539        MORTGAGE     63000.0        Not Verified  debt_consolidation   \n...               ...         ...                 ...                 ...   \n887374           RENT     31000.0            Verified  debt_consolidation   \n887375       MORTGAGE     79000.0            Verified    home_improvement   \n887376           RENT     35000.0            Verified  debt_consolidation   \n887377           RENT     64400.0     Source Verified  debt_consolidation   \n887378           RENT    100000.0            Verified         credit_card   \n\n        ... revol_bal  revol_util  total_acc  total_pymnt  total_rec_late_fee  \\\n42535   ...   36638.0        61.2       27.0     21251.04                 0.0   \n42536   ...    7967.0        52.8       28.0      7994.83                 0.0   \n42537   ...   13168.0        21.6       22.0      8842.80                 0.0   \n42538   ...    5572.0        68.8       32.0     13359.77                 0.0   \n42539   ...   11431.0        74.2       29.0     11431.20                 0.0   \n...     ...       ...         ...        ...          ...                 ...   \n887374  ...   14037.0        82.1       15.0      3971.88                 0.0   \n887375  ...    8621.0        84.5       23.0      9532.39                 0.0   \n887376  ...   11031.0        61.3       22.0      3769.74                 0.0   \n887377  ...    8254.0        30.6       20.0      3787.67                 0.0   \n887378  ...   33266.0        79.8       10.0      7943.76                 0.0   \n\n        last_pymnt_amnt  application_type  acc_now_delinq  tot_coll_amt  \\\n42535            885.46        INDIVIDUAL             0.0           0.0   \n42536            333.14        INDIVIDUAL             0.0           0.0   \n42537            368.45        INDIVIDUAL             0.0           0.0   \n42538            119.17        INDIVIDUAL             0.0       15386.0   \n42539            476.30        INDIVIDUAL             0.0        1514.0   \n...                 ...               ...             ...           ...   \n887374           332.10        INDIVIDUAL             0.0           0.0   \n887375           797.03        INDIVIDUAL             0.0           0.0   \n887376           316.07        INDIVIDUAL             0.0           0.0   \n887377           317.86        INDIVIDUAL             0.0           0.0   \n887378           664.20        INDIVIDUAL             0.0           0.0   \n\n        tot_cur_bal  \n42535      114834.0  \n42536       14123.0  \n42537      267646.0  \n42538       13605.0  \n42539      272492.0  \n...             ...  \n887374      25274.0  \n887375     140285.0  \n887376      34178.0  \n887377      58418.0  \n887378      33307.0  \n\n[773968 rows x 25 columns]",
      "text/html": "<div>\n<style scoped>\n    .dataframe tbody tr th:only-of-type {\n        vertical-align: middle;\n    }\n\n    .dataframe tbody tr th {\n        vertical-align: top;\n    }\n\n    .dataframe thead th {\n        text-align: right;\n    }\n</style>\n<table border=\"1\" class=\"dataframe\">\n  <thead>\n    <tr style=\"text-align: right;\">\n      <th></th>\n      <th>loan_amnt</th>\n      <th>term</th>\n      <th>int_rate</th>\n      <th>installment</th>\n      <th>grade</th>\n      <th>emp_length</th>\n      <th>home_ownership</th>\n      <th>annual_inc</th>\n      <th>verification_status</th>\n      <th>purpose</th>\n      <th>...</th>\n      <th>revol_bal</th>\n      <th>revol_util</th>\n      <th>total_acc</th>\n      <th>total_pymnt</th>\n      <th>total_rec_late_fee</th>\n      <th>last_pymnt_amnt</th>\n      <th>application_type</th>\n      <th>acc_now_delinq</th>\n      <th>tot_coll_amt</th>\n      <th>tot_cur_bal</th>\n    </tr>\n  </thead>\n  <tbody>\n    <tr>\n      <th>42535</th>\n      <td>27050.0</td>\n      <td>36 months</td>\n      <td>10.99</td>\n      <td>885.46</td>\n      <td>B</td>\n      <td>10+ years</td>\n      <td>OWN</td>\n      <td>55000.0</td>\n      <td>Verified</td>\n      <td>debt_consolidation</td>\n      <td>...</td>\n      <td>36638.0</td>\n      <td>61.2</td>\n      <td>27.0</td>\n      <td>21251.04</td>\n      <td>0.0</td>\n      <td>885.46</td>\n      <td>INDIVIDUAL</td>\n      <td>0.0</td>\n      <td>0.0</td>\n      <td>114834.0</td>\n    </tr>\n    <tr>\n      <th>42536</th>\n      <td>9750.0</td>\n      <td>36 months</td>\n      <td>13.98</td>\n      <td>333.14</td>\n      <td>C</td>\n      <td>1 year</td>\n      <td>RENT</td>\n      <td>26000.0</td>\n      <td>Not Verified</td>\n      <td>debt_consolidation</td>\n      <td>...</td>\n      <td>7967.0</td>\n      <td>52.8</td>\n      <td>28.0</td>\n      <td>7994.83</td>\n      <td>0.0</td>\n      <td>333.14</td>\n      <td>INDIVIDUAL</td>\n      <td>0.0</td>\n      <td>0.0</td>\n      <td>14123.0</td>\n    </tr>\n    <tr>\n      <th>42537</th>\n      <td>12000.0</td>\n      <td>36 months</td>\n      <td>6.62</td>\n      <td>368.45</td>\n      <td>A</td>\n      <td>10+ years</td>\n      <td>MORTGAGE</td>\n      <td>105000.0</td>\n      <td>Not Verified</td>\n      <td>debt_consolidation</td>\n      <td>...</td>\n      <td>13168.0</td>\n      <td>21.6</td>\n      <td>22.0</td>\n      <td>8842.80</td>\n      <td>0.0</td>\n      <td>368.45</td>\n      <td>INDIVIDUAL</td>\n      <td>0.0</td>\n      <td>0.0</td>\n      <td>267646.0</td>\n    </tr>\n    <tr>\n      <th>42538</th>\n      <td>12000.0</td>\n      <td>36 months</td>\n      <td>13.53</td>\n      <td>407.40</td>\n      <td>B</td>\n      <td>10+ years</td>\n      <td>RENT</td>\n      <td>40000.0</td>\n      <td>Source Verified</td>\n      <td>debt_consolidation</td>\n      <td>...</td>\n      <td>5572.0</td>\n      <td>68.8</td>\n      <td>32.0</td>\n      <td>13359.77</td>\n      <td>0.0</td>\n      <td>119.17</td>\n      <td>INDIVIDUAL</td>\n      <td>0.0</td>\n      <td>15386.0</td>\n      <td>13605.0</td>\n    </tr>\n    <tr>\n      <th>42539</th>\n      <td>15000.0</td>\n      <td>36 months</td>\n      <td>8.90</td>\n      <td>476.30</td>\n      <td>A</td>\n      <td>2 years</td>\n      <td>MORTGAGE</td>\n      <td>63000.0</td>\n      <td>Not Verified</td>\n      <td>debt_consolidation</td>\n      <td>...</td>\n      <td>11431.0</td>\n      <td>74.2</td>\n      <td>29.0</td>\n      <td>11431.20</td>\n      <td>0.0</td>\n      <td>476.30</td>\n      <td>INDIVIDUAL</td>\n      <td>0.0</td>\n      <td>1514.0</td>\n      <td>272492.0</td>\n    </tr>\n    <tr>\n      <th>...</th>\n      <td>...</td>\n      <td>...</td>\n      <td>...</td>\n      <td>...</td>\n      <td>...</td>\n      <td>...</td>\n      <td>...</td>\n      <td>...</td>\n      <td>...</td>\n      <td>...</td>\n      <td>...</td>\n      <td>...</td>\n      <td>...</td>\n      <td>...</td>\n      <td>...</td>\n      <td>...</td>\n      <td>...</td>\n      <td>...</td>\n      <td>...</td>\n      <td>...</td>\n      <td>...</td>\n    </tr>\n    <tr>\n      <th>887374</th>\n      <td>10000.0</td>\n      <td>36 months</td>\n      <td>11.99</td>\n      <td>332.10</td>\n      <td>B</td>\n      <td>8 years</td>\n      <td>RENT</td>\n      <td>31000.0</td>\n      <td>Verified</td>\n      <td>debt_consolidation</td>\n      <td>...</td>\n      <td>14037.0</td>\n      <td>82.1</td>\n      <td>15.0</td>\n      <td>3971.88</td>\n      <td>0.0</td>\n      <td>332.10</td>\n      <td>INDIVIDUAL</td>\n      <td>0.0</td>\n      <td>0.0</td>\n      <td>25274.0</td>\n    </tr>\n    <tr>\n      <th>887375</th>\n      <td>24000.0</td>\n      <td>36 months</td>\n      <td>11.99</td>\n      <td>797.03</td>\n      <td>B</td>\n      <td>10+ years</td>\n      <td>MORTGAGE</td>\n      <td>79000.0</td>\n      <td>Verified</td>\n      <td>home_improvement</td>\n      <td>...</td>\n      <td>8621.0</td>\n      <td>84.5</td>\n      <td>23.0</td>\n      <td>9532.39</td>\n      <td>0.0</td>\n      <td>797.03</td>\n      <td>INDIVIDUAL</td>\n      <td>0.0</td>\n      <td>0.0</td>\n      <td>140285.0</td>\n    </tr>\n    <tr>\n      <th>887376</th>\n      <td>13000.0</td>\n      <td>60 months</td>\n      <td>15.99</td>\n      <td>316.07</td>\n      <td>D</td>\n      <td>5 years</td>\n      <td>RENT</td>\n      <td>35000.0</td>\n      <td>Verified</td>\n      <td>debt_consolidation</td>\n      <td>...</td>\n      <td>11031.0</td>\n      <td>61.3</td>\n      <td>22.0</td>\n      <td>3769.74</td>\n      <td>0.0</td>\n      <td>316.07</td>\n      <td>INDIVIDUAL</td>\n      <td>0.0</td>\n      <td>0.0</td>\n      <td>34178.0</td>\n    </tr>\n    <tr>\n      <th>887377</th>\n      <td>12000.0</td>\n      <td>60 months</td>\n      <td>19.99</td>\n      <td>317.86</td>\n      <td>E</td>\n      <td>1 year</td>\n      <td>RENT</td>\n      <td>64400.0</td>\n      <td>Source Verified</td>\n      <td>debt_consolidation</td>\n      <td>...</td>\n      <td>8254.0</td>\n      <td>30.6</td>\n      <td>20.0</td>\n      <td>3787.67</td>\n      <td>0.0</td>\n      <td>317.86</td>\n      <td>INDIVIDUAL</td>\n      <td>0.0</td>\n      <td>0.0</td>\n      <td>58418.0</td>\n    </tr>\n    <tr>\n      <th>887378</th>\n      <td>20000.0</td>\n      <td>36 months</td>\n      <td>11.99</td>\n      <td>664.20</td>\n      <td>B</td>\n      <td>10+ years</td>\n      <td>RENT</td>\n      <td>100000.0</td>\n      <td>Verified</td>\n      <td>credit_card</td>\n      <td>...</td>\n      <td>33266.0</td>\n      <td>79.8</td>\n      <td>10.0</td>\n      <td>7943.76</td>\n      <td>0.0</td>\n      <td>664.20</td>\n      <td>INDIVIDUAL</td>\n      <td>0.0</td>\n      <td>0.0</td>\n      <td>33307.0</td>\n    </tr>\n  </tbody>\n</table>\n<p>773968 rows × 25 columns</p>\n</div>"
     },
     "execution_count": 4,
     "metadata": {},
     "output_type": "execute_result"
    }
   ],
   "source": [
    "df_loan"
   ],
   "metadata": {
    "collapsed": false
   }
  },
  {
   "cell_type": "code",
   "execution_count": 5,
   "outputs": [
    {
     "data": {
      "text/plain": "loan_amnt                    9000.0\nterm                      36 months\nint_rate                      12.85\ninstallment                   302.6\ngrade                             B\nemp_length                  3 years\nhome_ownership             MORTGAGE\nannual_inc                  70000.0\nverification_status    Not Verified\npurpose                 credit_card\naddr_state                       NY\ndti                           15.36\ndelinq_2yrs                     0.0\nopen_acc                        8.0\npub_rec                         0.0\nrevol_bal                   14124.0\nrevol_util                     90.0\ntotal_acc                      13.0\ntotal_pymnt            10040.262227\ntotal_rec_late_fee              0.0\nlast_pymnt_amnt             4665.23\napplication_type         INDIVIDUAL\nacc_now_delinq                  0.0\ntot_coll_amt                    0.0\ntot_cur_bal                 69053.0\nName: 43811, dtype: object"
     },
     "execution_count": 5,
     "metadata": {},
     "output_type": "execute_result"
    }
   ],
   "source": [
    "# keys = df_loan.columns\n",
    "# values =\n",
    "selectData = df_loan.iloc[1234]\n",
    "selectData"
   ],
   "metadata": {
    "collapsed": false
   }
  },
  {
   "cell_type": "code",
   "execution_count": 6,
   "outputs": [
    {
     "data": {
      "text/plain": "{'loan_amnt': 9000.0,\n 'term': ' 36 months',\n 'int_rate': 12.85,\n 'installment': 302.6,\n 'grade': 'B',\n 'emp_length': '3 years',\n 'home_ownership': 'MORTGAGE',\n 'annual_inc': 70000.0,\n 'verification_status': 'Not Verified',\n 'purpose': 'credit_card',\n 'addr_state': 'NY',\n 'dti': 15.36,\n 'delinq_2yrs': 0.0,\n 'open_acc': 8.0,\n 'pub_rec': 0.0,\n 'revol_bal': 14124.0,\n 'revol_util': 90.0,\n 'total_acc': 13.0,\n 'total_pymnt': 10040.2622265,\n 'total_rec_late_fee': 0.0,\n 'last_pymnt_amnt': 4665.23,\n 'application_type': 'INDIVIDUAL',\n 'acc_now_delinq': 0.0,\n 'tot_coll_amt': 0.0,\n 'tot_cur_bal': 69053.0}"
     },
     "execution_count": 6,
     "metadata": {},
     "output_type": "execute_result"
    }
   ],
   "source": [
    "selectData.to_dict()"
   ],
   "metadata": {
    "collapsed": false
   }
  },
  {
   "cell_type": "code",
   "execution_count": 8,
   "outputs": [
    {
     "name": "stdout",
     "output_type": "stream",
     "text": [
      "<class 'pandas.core.frame.DataFrame'>\n",
      "Index: 773968 entries, 42535 to 887378\n",
      "Data columns (total 5 columns):\n",
      " #   Column               Non-Null Count   Dtype  \n",
      "---  ------               --------------   -----  \n",
      " 0   emp_length           773968 non-null  object \n",
      " 1   addr_state           773968 non-null  object \n",
      " 2   home_ownership       773968 non-null  object \n",
      " 3   annual_inc           773968 non-null  float64\n",
      " 4   verification_status  773968 non-null  object \n",
      "dtypes: float64(1), object(4)\n",
      "memory usage: 35.4+ MB\n"
     ]
    }
   ],
   "source": [
    "borrowerInfo = ['emp_length','addr_state','home_ownership','annual_inc','verification_status']\n",
    "df_loan[borrowerInfo].info()"
   ],
   "metadata": {
    "collapsed": false
   }
  },
  {
   "cell_type": "code",
   "execution_count": null,
   "outputs": [],
   "source": [],
   "metadata": {
    "collapsed": false
   }
  }
 ],
 "metadata": {
  "kernelspec": {
   "display_name": "Python 3",
   "language": "python",
   "name": "python3"
  },
  "language_info": {
   "codemirror_mode": {
    "name": "ipython",
    "version": 2
   },
   "file_extension": ".py",
   "mimetype": "text/x-python",
   "name": "python",
   "nbconvert_exporter": "python",
   "pygments_lexer": "ipython2",
   "version": "2.7.6"
  }
 },
 "nbformat": 4,
 "nbformat_minor": 0
}
