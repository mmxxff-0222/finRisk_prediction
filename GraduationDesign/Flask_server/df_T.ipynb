{
 "cells": [
  {
   "cell_type": "code",
   "execution_count": 2,
   "metadata": {
    "collapsed": true
   },
   "outputs": [
    {
     "data": {
      "text/plain": "        loan_amnt  term  int_rate  installment  grade  emp_length  \\\n0         27050.0     0     10.99       885.46      4          12   \n1          9750.0     0     13.98       333.14      3           2   \n2         12000.0     0      6.62       368.45      5          12   \n3         12000.0     0     13.53       407.40      4          12   \n4         15000.0     0      8.90       476.30      5           3   \n...           ...   ...       ...          ...    ...         ...   \n816717    10000.0     0     11.99       332.10      4           9   \n816718    24000.0     0     11.99       797.03      4          12   \n816719    13000.0     1     15.99       316.07      2           6   \n816720    12000.0     1     19.99       317.86      1           2   \n816721    20000.0     0     11.99       664.20      4          12   \n\n        home_ownership  annual_inc  verification_status  purpose  ...  \\\n0                    3     55000.0                    2        2  ...   \n1                    1     26000.0                    0        2  ...   \n2                    2    105000.0                    0        2  ...   \n3                    1     40000.0                    1        2  ...   \n4                    2     63000.0                    0        2  ...   \n...                ...         ...                  ...      ...  ...   \n816717               1     31000.0                    2        2  ...   \n816718               2     79000.0                    2        4  ...   \n816719               1     35000.0                    2        2  ...   \n816720               1     64400.0                    1        2  ...   \n816721               1    100000.0                    2        1  ...   \n\n        revol_bal  revol_util  total_acc  total_pymnt  total_rec_late_fee  \\\n0         36638.0        61.2       27.0     21251.04                 0.0   \n1          7967.0        52.8       28.0      7994.83                 0.0   \n2         13168.0        21.6       22.0      8842.80                 0.0   \n3          5572.0        68.8       32.0     13359.77                 0.0   \n4         11431.0        74.2       29.0     11431.20                 0.0   \n...           ...         ...        ...          ...                 ...   \n816717    14037.0        82.1       15.0      3971.88                 0.0   \n816718     8621.0        84.5       23.0      9532.39                 0.0   \n816719    11031.0        61.3       22.0      3769.74                 0.0   \n816720     8254.0        30.6       20.0      3787.67                 0.0   \n816721    33266.0        79.8       10.0      7943.76                 0.0   \n\n        last_pymnt_amnt  application_type  acc_now_delinq  tot_coll_amt  \\\n0                885.46                 0             0.0           0.0   \n1                333.14                 0             0.0           0.0   \n2                368.45                 0             0.0           0.0   \n3                119.17                 0             0.0       15386.0   \n4                476.30                 0             0.0        1514.0   \n...                 ...               ...             ...           ...   \n816717           332.10                 0             0.0           0.0   \n816718           797.03                 0             0.0           0.0   \n816719           316.07                 0             0.0           0.0   \n816720           317.86                 0             0.0           0.0   \n816721           664.20                 0             0.0           0.0   \n\n        tot_cur_bal  \n0          114834.0  \n1           14123.0  \n2          267646.0  \n3           13605.0  \n4          272492.0  \n...             ...  \n816717      25274.0  \n816718     140285.0  \n816719      34178.0  \n816720      58418.0  \n816721      33307.0  \n\n[816722 rows x 25 columns]",
      "text/html": "<div>\n<style scoped>\n    .dataframe tbody tr th:only-of-type {\n        vertical-align: middle;\n    }\n\n    .dataframe tbody tr th {\n        vertical-align: top;\n    }\n\n    .dataframe thead th {\n        text-align: right;\n    }\n</style>\n<table border=\"1\" class=\"dataframe\">\n  <thead>\n    <tr style=\"text-align: right;\">\n      <th></th>\n      <th>loan_amnt</th>\n      <th>term</th>\n      <th>int_rate</th>\n      <th>installment</th>\n      <th>grade</th>\n      <th>emp_length</th>\n      <th>home_ownership</th>\n      <th>annual_inc</th>\n      <th>verification_status</th>\n      <th>purpose</th>\n      <th>...</th>\n      <th>revol_bal</th>\n      <th>revol_util</th>\n      <th>total_acc</th>\n      <th>total_pymnt</th>\n      <th>total_rec_late_fee</th>\n      <th>last_pymnt_amnt</th>\n      <th>application_type</th>\n      <th>acc_now_delinq</th>\n      <th>tot_coll_amt</th>\n      <th>tot_cur_bal</th>\n    </tr>\n  </thead>\n  <tbody>\n    <tr>\n      <th>0</th>\n      <td>27050.0</td>\n      <td>0</td>\n      <td>10.99</td>\n      <td>885.46</td>\n      <td>4</td>\n      <td>12</td>\n      <td>3</td>\n      <td>55000.0</td>\n      <td>2</td>\n      <td>2</td>\n      <td>...</td>\n      <td>36638.0</td>\n      <td>61.2</td>\n      <td>27.0</td>\n      <td>21251.04</td>\n      <td>0.0</td>\n      <td>885.46</td>\n      <td>0</td>\n      <td>0.0</td>\n      <td>0.0</td>\n      <td>114834.0</td>\n    </tr>\n    <tr>\n      <th>1</th>\n      <td>9750.0</td>\n      <td>0</td>\n      <td>13.98</td>\n      <td>333.14</td>\n      <td>3</td>\n      <td>2</td>\n      <td>1</td>\n      <td>26000.0</td>\n      <td>0</td>\n      <td>2</td>\n      <td>...</td>\n      <td>7967.0</td>\n      <td>52.8</td>\n      <td>28.0</td>\n      <td>7994.83</td>\n      <td>0.0</td>\n      <td>333.14</td>\n      <td>0</td>\n      <td>0.0</td>\n      <td>0.0</td>\n      <td>14123.0</td>\n    </tr>\n    <tr>\n      <th>2</th>\n      <td>12000.0</td>\n      <td>0</td>\n      <td>6.62</td>\n      <td>368.45</td>\n      <td>5</td>\n      <td>12</td>\n      <td>2</td>\n      <td>105000.0</td>\n      <td>0</td>\n      <td>2</td>\n      <td>...</td>\n      <td>13168.0</td>\n      <td>21.6</td>\n      <td>22.0</td>\n      <td>8842.80</td>\n      <td>0.0</td>\n      <td>368.45</td>\n      <td>0</td>\n      <td>0.0</td>\n      <td>0.0</td>\n      <td>267646.0</td>\n    </tr>\n    <tr>\n      <th>3</th>\n      <td>12000.0</td>\n      <td>0</td>\n      <td>13.53</td>\n      <td>407.40</td>\n      <td>4</td>\n      <td>12</td>\n      <td>1</td>\n      <td>40000.0</td>\n      <td>1</td>\n      <td>2</td>\n      <td>...</td>\n      <td>5572.0</td>\n      <td>68.8</td>\n      <td>32.0</td>\n      <td>13359.77</td>\n      <td>0.0</td>\n      <td>119.17</td>\n      <td>0</td>\n      <td>0.0</td>\n      <td>15386.0</td>\n      <td>13605.0</td>\n    </tr>\n    <tr>\n      <th>4</th>\n      <td>15000.0</td>\n      <td>0</td>\n      <td>8.90</td>\n      <td>476.30</td>\n      <td>5</td>\n      <td>3</td>\n      <td>2</td>\n      <td>63000.0</td>\n      <td>0</td>\n      <td>2</td>\n      <td>...</td>\n      <td>11431.0</td>\n      <td>74.2</td>\n      <td>29.0</td>\n      <td>11431.20</td>\n      <td>0.0</td>\n      <td>476.30</td>\n      <td>0</td>\n      <td>0.0</td>\n      <td>1514.0</td>\n      <td>272492.0</td>\n    </tr>\n    <tr>\n      <th>...</th>\n      <td>...</td>\n      <td>...</td>\n      <td>...</td>\n      <td>...</td>\n      <td>...</td>\n      <td>...</td>\n      <td>...</td>\n      <td>...</td>\n      <td>...</td>\n      <td>...</td>\n      <td>...</td>\n      <td>...</td>\n      <td>...</td>\n      <td>...</td>\n      <td>...</td>\n      <td>...</td>\n      <td>...</td>\n      <td>...</td>\n      <td>...</td>\n      <td>...</td>\n      <td>...</td>\n    </tr>\n    <tr>\n      <th>816717</th>\n      <td>10000.0</td>\n      <td>0</td>\n      <td>11.99</td>\n      <td>332.10</td>\n      <td>4</td>\n      <td>9</td>\n      <td>1</td>\n      <td>31000.0</td>\n      <td>2</td>\n      <td>2</td>\n      <td>...</td>\n      <td>14037.0</td>\n      <td>82.1</td>\n      <td>15.0</td>\n      <td>3971.88</td>\n      <td>0.0</td>\n      <td>332.10</td>\n      <td>0</td>\n      <td>0.0</td>\n      <td>0.0</td>\n      <td>25274.0</td>\n    </tr>\n    <tr>\n      <th>816718</th>\n      <td>24000.0</td>\n      <td>0</td>\n      <td>11.99</td>\n      <td>797.03</td>\n      <td>4</td>\n      <td>12</td>\n      <td>2</td>\n      <td>79000.0</td>\n      <td>2</td>\n      <td>4</td>\n      <td>...</td>\n      <td>8621.0</td>\n      <td>84.5</td>\n      <td>23.0</td>\n      <td>9532.39</td>\n      <td>0.0</td>\n      <td>797.03</td>\n      <td>0</td>\n      <td>0.0</td>\n      <td>0.0</td>\n      <td>140285.0</td>\n    </tr>\n    <tr>\n      <th>816719</th>\n      <td>13000.0</td>\n      <td>1</td>\n      <td>15.99</td>\n      <td>316.07</td>\n      <td>2</td>\n      <td>6</td>\n      <td>1</td>\n      <td>35000.0</td>\n      <td>2</td>\n      <td>2</td>\n      <td>...</td>\n      <td>11031.0</td>\n      <td>61.3</td>\n      <td>22.0</td>\n      <td>3769.74</td>\n      <td>0.0</td>\n      <td>316.07</td>\n      <td>0</td>\n      <td>0.0</td>\n      <td>0.0</td>\n      <td>34178.0</td>\n    </tr>\n    <tr>\n      <th>816720</th>\n      <td>12000.0</td>\n      <td>1</td>\n      <td>19.99</td>\n      <td>317.86</td>\n      <td>1</td>\n      <td>2</td>\n      <td>1</td>\n      <td>64400.0</td>\n      <td>1</td>\n      <td>2</td>\n      <td>...</td>\n      <td>8254.0</td>\n      <td>30.6</td>\n      <td>20.0</td>\n      <td>3787.67</td>\n      <td>0.0</td>\n      <td>317.86</td>\n      <td>0</td>\n      <td>0.0</td>\n      <td>0.0</td>\n      <td>58418.0</td>\n    </tr>\n    <tr>\n      <th>816721</th>\n      <td>20000.0</td>\n      <td>0</td>\n      <td>11.99</td>\n      <td>664.20</td>\n      <td>4</td>\n      <td>12</td>\n      <td>1</td>\n      <td>100000.0</td>\n      <td>2</td>\n      <td>1</td>\n      <td>...</td>\n      <td>33266.0</td>\n      <td>79.8</td>\n      <td>10.0</td>\n      <td>7943.76</td>\n      <td>0.0</td>\n      <td>664.20</td>\n      <td>0</td>\n      <td>0.0</td>\n      <td>0.0</td>\n      <td>33307.0</td>\n    </tr>\n  </tbody>\n</table>\n<p>816722 rows × 25 columns</p>\n</div>"
     },
     "execution_count": 2,
     "metadata": {},
     "output_type": "execute_result"
    }
   ],
   "source": [
    "import pandas as pd\n",
    "df_loan = pd.read_csv(\"/Users/mxfmeng/Desktop/FinRisk-Prediction/GraduationDesign/MLmodels/dataset/loan_new_3_1.csv\")\n",
    "df_loan.drop(columns=['loan_status','label'], inplace=True)\n",
    "df_loan"
   ]
  },
  {
   "cell_type": "code",
   "execution_count": 10,
   "outputs": [
    {
     "data": {
      "text/plain": "pandas.core.frame.DataFrame"
     },
     "execution_count": 10,
     "metadata": {},
     "output_type": "execute_result"
    }
   ],
   "source": [
    "df_tmp = df_loan.iloc[[0]]\n",
    "type(df_tmp.T)"
   ],
   "metadata": {
    "collapsed": false
   }
  },
  {
   "cell_type": "code",
   "execution_count": null,
   "outputs": [],
   "source": [],
   "metadata": {
    "collapsed": false
   }
  }
 ],
 "metadata": {
  "kernelspec": {
   "display_name": "Python 3",
   "language": "python",
   "name": "python3"
  },
  "language_info": {
   "codemirror_mode": {
    "name": "ipython",
    "version": 2
   },
   "file_extension": ".py",
   "mimetype": "text/x-python",
   "name": "python",
   "nbconvert_exporter": "python",
   "pygments_lexer": "ipython2",
   "version": "2.7.6"
  }
 },
 "nbformat": 4,
 "nbformat_minor": 0
}
