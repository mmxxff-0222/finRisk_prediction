{
 "cells": [
  {
   "cell_type": "code",
   "execution_count": 5,
   "metadata": {
    "collapsed": true
   },
   "outputs": [
    {
     "data": {
      "text/plain": "        loan_amnt        term  int_rate  installment grade emp_length  \\\n0         14400.0   60 months     21.00       389.57     E    5 years   \n1         16800.0   60 months     14.49       395.19     C    8 years   \n2         12000.0   60 months     15.61       289.34     D     1 year   \n3         12800.0   60 months     12.99       291.18     C  10+ years   \n4          5000.0   36 months      9.17       159.40     B  10+ years   \n...           ...         ...       ...          ...   ...        ...   \n773943    10425.0   36 months     18.25       378.20     D   < 1 year   \n773944     7000.0   36 months     19.24       257.45     E   < 1 year   \n773945    25000.0   36 months      7.62       779.04     A    9 years   \n773946     9000.0   36 months     16.55       318.87     D    3 years   \n773947    20000.0   36 months     12.99       673.79     C  10+ years   \n\n       home_ownership  annual_inc verification_status             purpose  \\\n0            MORTGAGE     72000.0     Source Verified    home_improvement   \n1                 OWN     57000.0            Verified      small_business   \n2                RENT    100000.0        Not Verified         credit_card   \n3                RENT    137000.0            Verified  debt_consolidation   \n4            MORTGAGE     35000.0     Source Verified    home_improvement   \n...               ...         ...                 ...                 ...   \n773943           RENT     35000.0        Not Verified  debt_consolidation   \n773944           RENT     45000.0            Verified  debt_consolidation   \n773945       MORTGAGE     74000.0            Verified  debt_consolidation   \n773946           RENT     25000.0     Source Verified  debt_consolidation   \n773947       MORTGAGE    115000.0     Source Verified  debt_consolidation   \n\n        ... revol_util  total_acc   total_pymnt  total_rec_late_fee  \\\n0       ...       50.0       41.0  19971.279988                 0.0   \n1       ...       21.7       27.0  18581.960000                 0.0   \n2       ...       80.2        4.0    857.610000                 0.0   \n3       ...       51.7       39.0  14210.080000                 0.0   \n4       ...       41.4       21.0    631.230000                 0.0   \n...     ...        ...        ...           ...                 ...   \n773943  ...       83.3       40.0  12179.800000                 0.0   \n773944  ...       38.9       88.0   3081.920000                 0.0   \n773945  ...       19.8       11.0  27180.990000                 0.0   \n773946  ...       61.3       24.0   1896.670000                 0.0   \n773947  ...       21.8       29.0  20300.800000                 0.0   \n\n        last_pymnt_amnt  application_type  acc_now_delinq  tot_coll_amt  \\\n0              10621.60        INDIVIDUAL             0.0           0.0   \n1              15420.44        INDIVIDUAL             0.0           0.0   \n2                289.34        INDIVIDUAL             0.0           0.0   \n3              11589.46        INDIVIDUAL             0.0           0.0   \n4                159.40        INDIVIDUAL             0.0           0.0   \n...                 ...               ...             ...           ...   \n773943          8019.60        INDIVIDUAL             0.0           0.0   \n773944           257.45        INDIVIDUAL             0.0           0.0   \n773945         14716.35        INDIVIDUAL             0.0           0.0   \n773946           318.87        INDIVIDUAL             0.0         444.0   \n773947         20315.23        INDIVIDUAL             0.0           0.0   \n\n        tot_cur_bal  label  \n0          233557.0      0  \n1          148290.0      0  \n2           12508.0      1  \n3           99900.0      0  \n4           11891.0      1  \n...             ...    ...  \n773943      48219.0      0  \n773944     230058.0      1  \n773945      29307.0      0  \n773946       8300.0      1  \n773947      25077.0      0  \n\n[773948 rows x 26 columns]",
      "text/html": "<div>\n<style scoped>\n    .dataframe tbody tr th:only-of-type {\n        vertical-align: middle;\n    }\n\n    .dataframe tbody tr th {\n        vertical-align: top;\n    }\n\n    .dataframe thead th {\n        text-align: right;\n    }\n</style>\n<table border=\"1\" class=\"dataframe\">\n  <thead>\n    <tr style=\"text-align: right;\">\n      <th></th>\n      <th>loan_amnt</th>\n      <th>term</th>\n      <th>int_rate</th>\n      <th>installment</th>\n      <th>grade</th>\n      <th>emp_length</th>\n      <th>home_ownership</th>\n      <th>annual_inc</th>\n      <th>verification_status</th>\n      <th>purpose</th>\n      <th>...</th>\n      <th>revol_util</th>\n      <th>total_acc</th>\n      <th>total_pymnt</th>\n      <th>total_rec_late_fee</th>\n      <th>last_pymnt_amnt</th>\n      <th>application_type</th>\n      <th>acc_now_delinq</th>\n      <th>tot_coll_amt</th>\n      <th>tot_cur_bal</th>\n      <th>label</th>\n    </tr>\n  </thead>\n  <tbody>\n    <tr>\n      <th>0</th>\n      <td>14400.0</td>\n      <td>60 months</td>\n      <td>21.00</td>\n      <td>389.57</td>\n      <td>E</td>\n      <td>5 years</td>\n      <td>MORTGAGE</td>\n      <td>72000.0</td>\n      <td>Source Verified</td>\n      <td>home_improvement</td>\n      <td>...</td>\n      <td>50.0</td>\n      <td>41.0</td>\n      <td>19971.279988</td>\n      <td>0.0</td>\n      <td>10621.60</td>\n      <td>INDIVIDUAL</td>\n      <td>0.0</td>\n      <td>0.0</td>\n      <td>233557.0</td>\n      <td>0</td>\n    </tr>\n    <tr>\n      <th>1</th>\n      <td>16800.0</td>\n      <td>60 months</td>\n      <td>14.49</td>\n      <td>395.19</td>\n      <td>C</td>\n      <td>8 years</td>\n      <td>OWN</td>\n      <td>57000.0</td>\n      <td>Verified</td>\n      <td>small_business</td>\n      <td>...</td>\n      <td>21.7</td>\n      <td>27.0</td>\n      <td>18581.960000</td>\n      <td>0.0</td>\n      <td>15420.44</td>\n      <td>INDIVIDUAL</td>\n      <td>0.0</td>\n      <td>0.0</td>\n      <td>148290.0</td>\n      <td>0</td>\n    </tr>\n    <tr>\n      <th>2</th>\n      <td>12000.0</td>\n      <td>60 months</td>\n      <td>15.61</td>\n      <td>289.34</td>\n      <td>D</td>\n      <td>1 year</td>\n      <td>RENT</td>\n      <td>100000.0</td>\n      <td>Not Verified</td>\n      <td>credit_card</td>\n      <td>...</td>\n      <td>80.2</td>\n      <td>4.0</td>\n      <td>857.610000</td>\n      <td>0.0</td>\n      <td>289.34</td>\n      <td>INDIVIDUAL</td>\n      <td>0.0</td>\n      <td>0.0</td>\n      <td>12508.0</td>\n      <td>1</td>\n    </tr>\n    <tr>\n      <th>3</th>\n      <td>12800.0</td>\n      <td>60 months</td>\n      <td>12.99</td>\n      <td>291.18</td>\n      <td>C</td>\n      <td>10+ years</td>\n      <td>RENT</td>\n      <td>137000.0</td>\n      <td>Verified</td>\n      <td>debt_consolidation</td>\n      <td>...</td>\n      <td>51.7</td>\n      <td>39.0</td>\n      <td>14210.080000</td>\n      <td>0.0</td>\n      <td>11589.46</td>\n      <td>INDIVIDUAL</td>\n      <td>0.0</td>\n      <td>0.0</td>\n      <td>99900.0</td>\n      <td>0</td>\n    </tr>\n    <tr>\n      <th>4</th>\n      <td>5000.0</td>\n      <td>36 months</td>\n      <td>9.17</td>\n      <td>159.40</td>\n      <td>B</td>\n      <td>10+ years</td>\n      <td>MORTGAGE</td>\n      <td>35000.0</td>\n      <td>Source Verified</td>\n      <td>home_improvement</td>\n      <td>...</td>\n      <td>41.4</td>\n      <td>21.0</td>\n      <td>631.230000</td>\n      <td>0.0</td>\n      <td>159.40</td>\n      <td>INDIVIDUAL</td>\n      <td>0.0</td>\n      <td>0.0</td>\n      <td>11891.0</td>\n      <td>1</td>\n    </tr>\n    <tr>\n      <th>...</th>\n      <td>...</td>\n      <td>...</td>\n      <td>...</td>\n      <td>...</td>\n      <td>...</td>\n      <td>...</td>\n      <td>...</td>\n      <td>...</td>\n      <td>...</td>\n      <td>...</td>\n      <td>...</td>\n      <td>...</td>\n      <td>...</td>\n      <td>...</td>\n      <td>...</td>\n      <td>...</td>\n      <td>...</td>\n      <td>...</td>\n      <td>...</td>\n      <td>...</td>\n      <td>...</td>\n    </tr>\n    <tr>\n      <th>773943</th>\n      <td>10425.0</td>\n      <td>36 months</td>\n      <td>18.25</td>\n      <td>378.20</td>\n      <td>D</td>\n      <td>&lt; 1 year</td>\n      <td>RENT</td>\n      <td>35000.0</td>\n      <td>Not Verified</td>\n      <td>debt_consolidation</td>\n      <td>...</td>\n      <td>83.3</td>\n      <td>40.0</td>\n      <td>12179.800000</td>\n      <td>0.0</td>\n      <td>8019.60</td>\n      <td>INDIVIDUAL</td>\n      <td>0.0</td>\n      <td>0.0</td>\n      <td>48219.0</td>\n      <td>0</td>\n    </tr>\n    <tr>\n      <th>773944</th>\n      <td>7000.0</td>\n      <td>36 months</td>\n      <td>19.24</td>\n      <td>257.45</td>\n      <td>E</td>\n      <td>&lt; 1 year</td>\n      <td>RENT</td>\n      <td>45000.0</td>\n      <td>Verified</td>\n      <td>debt_consolidation</td>\n      <td>...</td>\n      <td>38.9</td>\n      <td>88.0</td>\n      <td>3081.920000</td>\n      <td>0.0</td>\n      <td>257.45</td>\n      <td>INDIVIDUAL</td>\n      <td>0.0</td>\n      <td>0.0</td>\n      <td>230058.0</td>\n      <td>1</td>\n    </tr>\n    <tr>\n      <th>773945</th>\n      <td>25000.0</td>\n      <td>36 months</td>\n      <td>7.62</td>\n      <td>779.04</td>\n      <td>A</td>\n      <td>9 years</td>\n      <td>MORTGAGE</td>\n      <td>74000.0</td>\n      <td>Verified</td>\n      <td>debt_consolidation</td>\n      <td>...</td>\n      <td>19.8</td>\n      <td>11.0</td>\n      <td>27180.990000</td>\n      <td>0.0</td>\n      <td>14716.35</td>\n      <td>INDIVIDUAL</td>\n      <td>0.0</td>\n      <td>0.0</td>\n      <td>29307.0</td>\n      <td>0</td>\n    </tr>\n    <tr>\n      <th>773946</th>\n      <td>9000.0</td>\n      <td>36 months</td>\n      <td>16.55</td>\n      <td>318.87</td>\n      <td>D</td>\n      <td>3 years</td>\n      <td>RENT</td>\n      <td>25000.0</td>\n      <td>Source Verified</td>\n      <td>debt_consolidation</td>\n      <td>...</td>\n      <td>61.3</td>\n      <td>24.0</td>\n      <td>1896.670000</td>\n      <td>0.0</td>\n      <td>318.87</td>\n      <td>INDIVIDUAL</td>\n      <td>0.0</td>\n      <td>444.0</td>\n      <td>8300.0</td>\n      <td>1</td>\n    </tr>\n    <tr>\n      <th>773947</th>\n      <td>20000.0</td>\n      <td>36 months</td>\n      <td>12.99</td>\n      <td>673.79</td>\n      <td>C</td>\n      <td>10+ years</td>\n      <td>MORTGAGE</td>\n      <td>115000.0</td>\n      <td>Source Verified</td>\n      <td>debt_consolidation</td>\n      <td>...</td>\n      <td>21.8</td>\n      <td>29.0</td>\n      <td>20300.800000</td>\n      <td>0.0</td>\n      <td>20315.23</td>\n      <td>INDIVIDUAL</td>\n      <td>0.0</td>\n      <td>0.0</td>\n      <td>25077.0</td>\n      <td>0</td>\n    </tr>\n  </tbody>\n</table>\n<p>773948 rows × 26 columns</p>\n</div>"
     },
     "execution_count": 5,
     "metadata": {},
     "output_type": "execute_result"
    }
   ],
   "source": [
    "import pandas as pd\n",
    "df_loan = pd.read_csv(\"/Users/mxfmeng/Desktop/FinRisk-Prediction/GraduationDesign/MLmodels/dataset/loanData(no preprocessing).csv\")\n",
    "# df_loan.drop(columns=['loan_status','label'], inplace=True)\n",
    "df_loan"
   ]
  },
  {
   "cell_type": "code",
   "execution_count": 6,
   "outputs": [
    {
     "data": {
      "text/plain": "term\n 36 months    532288\n 60 months    241660\nName: count, dtype: int64"
     },
     "execution_count": 6,
     "metadata": {},
     "output_type": "execute_result"
    }
   ],
   "source": [
    "df_loan['term'].value_counts()"
   ],
   "metadata": {
    "collapsed": false
   }
  },
  {
   "cell_type": "code",
   "execution_count": 7,
   "outputs": [
    {
     "data": {
      "text/plain": "grade\nB    220617\nC    218883\nA    125163\nD    122309\nE     62290\nF     20072\nG      4614\nName: count, dtype: int64"
     },
     "execution_count": 7,
     "metadata": {},
     "output_type": "execute_result"
    }
   ],
   "source": [
    "df_loan['grade'].value_counts()"
   ],
   "metadata": {
    "collapsed": false
   }
  },
  {
   "cell_type": "code",
   "execution_count": 8,
   "outputs": [
    {
     "data": {
      "text/plain": "application_type\nINDIVIDUAL    773498\nJOINT            450\nName: count, dtype: int64"
     },
     "execution_count": 8,
     "metadata": {},
     "output_type": "execute_result"
    }
   ],
   "source": [
    "df_loan['application_type'].value_counts()"
   ],
   "metadata": {
    "collapsed": false
   }
  },
  {
   "cell_type": "code",
   "execution_count": 18,
   "outputs": [
    {
     "data": {
      "text/plain": "Index(['CA', 'NY', 'TX', 'FL', 'IL', 'NJ', 'PA', 'OH', 'GA', 'VA', 'NC', 'MI',\n       'MD', 'MA', 'AZ', 'WA', 'CO', 'MN', 'IN', 'MO', 'TN', 'CT', 'NV', 'WI',\n       'AL', 'OR', 'LA', 'SC', 'KY', 'OK', 'KS', 'AR', 'UT', 'NM', 'HI', 'NH',\n       'WV', 'MS', 'RI', 'MT', 'DE', 'DC', 'AK', 'WY', 'SD', 'VT', 'NE', 'ME',\n       'ND', 'ID', 'IA'],\n      dtype='object', name='addr_state')"
     },
     "execution_count": 18,
     "metadata": {},
     "output_type": "execute_result"
    }
   ],
   "source": [
    "df_loan['addr_state'].value_counts().keys()\n"
   ],
   "metadata": {
    "collapsed": false
   }
  },
  {
   "cell_type": "code",
   "execution_count": null,
   "outputs": [],
   "source": [],
   "metadata": {
    "collapsed": false
   }
  }
 ],
 "metadata": {
  "kernelspec": {
   "display_name": "Python 3",
   "language": "python",
   "name": "python3"
  },
  "language_info": {
   "codemirror_mode": {
    "name": "ipython",
    "version": 2
   },
   "file_extension": ".py",
   "mimetype": "text/x-python",
   "name": "python",
   "nbconvert_exporter": "python",
   "pygments_lexer": "ipython2",
   "version": "2.7.6"
  }
 },
 "nbformat": 4,
 "nbformat_minor": 0
}
