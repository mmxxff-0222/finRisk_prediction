{
 "cells": [
  {
   "cell_type": "code",
   "execution_count": 5,
   "metadata": {
    "collapsed": true
   },
   "outputs": [
    {
     "data": {
      "text/plain": "        loan_amnt        term  int_rate  installment grade emp_length  \\\n0         14400.0   60 months     21.00       389.57     E    5 years   \n1         16800.0   60 months     14.49       395.19     C    8 years   \n2         12000.0   60 months     15.61       289.34     D     1 year   \n3         12800.0   60 months     12.99       291.18     C  10+ years   \n4          5000.0   36 months      9.17       159.40     B  10+ years   \n...           ...         ...       ...          ...   ...        ...   \n773943    10425.0   36 months     18.25       378.20     D   < 1 year   \n773944     7000.0   36 months     19.24       257.45     E   < 1 year   \n773945    25000.0   36 months      7.62       779.04     A    9 years   \n773946     9000.0   36 months     16.55       318.87     D    3 years   \n773947    20000.0   36 months     12.99       673.79     C  10+ years   \n\n       home_ownership  annual_inc verification_status             purpose  \\\n0            MORTGAGE     72000.0     Source Verified    home_improvement   \n1                 OWN     57000.0            Verified      small_business   \n2                RENT    100000.0        Not Verified         credit_card   \n3                RENT    137000.0            Verified  debt_consolidation   \n4            MORTGAGE     35000.0     Source Verified    home_improvement   \n...               ...         ...                 ...                 ...   \n773943           RENT     35000.0        Not Verified  debt_consolidation   \n773944           RENT     45000.0            Verified  debt_consolidation   \n773945       MORTGAGE     74000.0            Verified  debt_consolidation   \n773946           RENT     25000.0     Source Verified  debt_consolidation   \n773947       MORTGAGE    115000.0     Source Verified  debt_consolidation   \n\n        ... revol_util  total_acc   total_pymnt  total_rec_late_fee  \\\n0       ...       50.0       41.0  19971.279988                 0.0   \n1       ...       21.7       27.0  18581.960000                 0.0   \n2       ...       80.2        4.0    857.610000                 0.0   \n3       ...       51.7       39.0  14210.080000                 0.0   \n4       ...       41.4       21.0    631.230000                 0.0   \n...     ...        ...        ...           ...                 ...   \n773943  ...       83.3       40.0  12179.800000                 0.0   \n773944  ...       38.9       88.0   3081.920000                 0.0   \n773945  ...       19.8       11.0  27180.990000                 0.0   \n773946  ...       61.3       24.0   1896.670000                 0.0   \n773947  ...       21.8       29.0  20300.800000                 0.0   \n\n        last_pymnt_amnt  application_type  acc_now_delinq  tot_coll_amt  \\\n0              10621.60        INDIVIDUAL             0.0           0.0   \n1              15420.44        INDIVIDUAL             0.0           0.0   \n2                289.34        INDIVIDUAL             0.0           0.0   \n3              11589.46        INDIVIDUAL             0.0           0.0   \n4                159.40        INDIVIDUAL             0.0           0.0   \n...                 ...               ...             ...           ...   \n773943          8019.60        INDIVIDUAL             0.0           0.0   \n773944           257.45        INDIVIDUAL             0.0           0.0   \n773945         14716.35        INDIVIDUAL             0.0           0.0   \n773946           318.87        INDIVIDUAL             0.0         444.0   \n773947         20315.23        INDIVIDUAL             0.0           0.0   \n\n        tot_cur_bal  label  \n0          233557.0      0  \n1          148290.0      0  \n2           12508.0      1  \n3           99900.0      0  \n4           11891.0      1  \n...             ...    ...  \n773943      48219.0      0  \n773944     230058.0      1  \n773945      29307.0      0  \n773946       8300.0      1  \n773947      25077.0      0  \n\n[773948 rows x 26 columns]",
      "text/html": "<div>\n<style scoped>\n    .dataframe tbody tr th:only-of-type {\n        vertical-align: middle;\n    }\n\n    .dataframe tbody tr th {\n        vertical-align: top;\n    }\n\n    .dataframe thead th {\n        text-align: right;\n    }\n</style>\n<table border=\"1\" class=\"dataframe\">\n  <thead>\n    <tr style=\"text-align: right;\">\n      <th></th>\n      <th>loan_amnt</th>\n      <th>term</th>\n      <th>int_rate</th>\n      <th>installment</th>\n      <th>grade</th>\n      <th>emp_length</th>\n      <th>home_ownership</th>\n      <th>annual_inc</th>\n      <th>verification_status</th>\n      <th>purpose</th>\n      <th>...</th>\n      <th>revol_util</th>\n      <th>total_acc</th>\n      <th>total_pymnt</th>\n      <th>total_rec_late_fee</th>\n      <th>last_pymnt_amnt</th>\n      <th>application_type</th>\n      <th>acc_now_delinq</th>\n      <th>tot_coll_amt</th>\n      <th>tot_cur_bal</th>\n      <th>label</th>\n    </tr>\n  </thead>\n  <tbody>\n    <tr>\n      <th>0</th>\n      <td>14400.0</td>\n      <td>60 months</td>\n      <td>21.00</td>\n      <td>389.57</td>\n      <td>E</td>\n      <td>5 years</td>\n      <td>MORTGAGE</td>\n      <td>72000.0</td>\n      <td>Source Verified</td>\n      <td>home_improvement</td>\n      <td>...</td>\n      <td>50.0</td>\n      <td>41.0</td>\n      <td>19971.279988</td>\n      <td>0.0</td>\n      <td>10621.60</td>\n      <td>INDIVIDUAL</td>\n      <td>0.0</td>\n      <td>0.0</td>\n      <td>233557.0</td>\n      <td>0</td>\n    </tr>\n    <tr>\n      <th>1</th>\n      <td>16800.0</td>\n      <td>60 months</td>\n      <td>14.49</td>\n      <td>395.19</td>\n      <td>C</td>\n      <td>8 years</td>\n      <td>OWN</td>\n      <td>57000.0</td>\n      <td>Verified</td>\n      <td>small_business</td>\n      <td>...</td>\n      <td>21.7</td>\n      <td>27.0</td>\n      <td>18581.960000</td>\n      <td>0.0</td>\n      <td>15420.44</td>\n      <td>INDIVIDUAL</td>\n      <td>0.0</td>\n      <td>0.0</td>\n      <td>148290.0</td>\n      <td>0</td>\n    </tr>\n    <tr>\n      <th>2</th>\n      <td>12000.0</td>\n      <td>60 months</td>\n      <td>15.61</td>\n      <td>289.34</td>\n      <td>D</td>\n      <td>1 year</td>\n      <td>RENT</td>\n      <td>100000.0</td>\n      <td>Not Verified</td>\n      <td>credit_card</td>\n      <td>...</td>\n      <td>80.2</td>\n      <td>4.0</td>\n      <td>857.610000</td>\n      <td>0.0</td>\n      <td>289.34</td>\n      <td>INDIVIDUAL</td>\n      <td>0.0</td>\n      <td>0.0</td>\n      <td>12508.0</td>\n      <td>1</td>\n    </tr>\n    <tr>\n      <th>3</th>\n      <td>12800.0</td>\n      <td>60 months</td>\n      <td>12.99</td>\n      <td>291.18</td>\n      <td>C</td>\n      <td>10+ years</td>\n      <td>RENT</td>\n      <td>137000.0</td>\n      <td>Verified</td>\n      <td>debt_consolidation</td>\n      <td>...</td>\n      <td>51.7</td>\n      <td>39.0</td>\n      <td>14210.080000</td>\n      <td>0.0</td>\n      <td>11589.46</td>\n      <td>INDIVIDUAL</td>\n      <td>0.0</td>\n      <td>0.0</td>\n      <td>99900.0</td>\n      <td>0</td>\n    </tr>\n    <tr>\n      <th>4</th>\n      <td>5000.0</td>\n      <td>36 months</td>\n      <td>9.17</td>\n      <td>159.40</td>\n      <td>B</td>\n      <td>10+ years</td>\n      <td>MORTGAGE</td>\n      <td>35000.0</td>\n      <td>Source Verified</td>\n      <td>home_improvement</td>\n      <td>...</td>\n      <td>41.4</td>\n      <td>21.0</td>\n      <td>631.230000</td>\n      <td>0.0</td>\n      <td>159.40</td>\n      <td>INDIVIDUAL</td>\n      <td>0.0</td>\n      <td>0.0</td>\n      <td>11891.0</td>\n      <td>1</td>\n    </tr>\n    <tr>\n      <th>...</th>\n      <td>...</td>\n      <td>...</td>\n      <td>...</td>\n      <td>...</td>\n      <td>...</td>\n      <td>...</td>\n      <td>...</td>\n      <td>...</td>\n      <td>...</td>\n      <td>...</td>\n      <td>...</td>\n      <td>...</td>\n      <td>...</td>\n      <td>...</td>\n      <td>...</td>\n      <td>...</td>\n      <td>...</td>\n      <td>...</td>\n      <td>...</td>\n      <td>...</td>\n      <td>...</td>\n    </tr>\n    <tr>\n      <th>773943</th>\n      <td>10425.0</td>\n      <td>36 months</td>\n      <td>18.25</td>\n      <td>378.20</td>\n      <td>D</td>\n      <td>&lt; 1 year</td>\n      <td>RENT</td>\n      <td>35000.0</td>\n      <td>Not Verified</td>\n      <td>debt_consolidation</td>\n      <td>...</td>\n      <td>83.3</td>\n      <td>40.0</td>\n      <td>12179.800000</td>\n      <td>0.0</td>\n      <td>8019.60</td>\n      <td>INDIVIDUAL</td>\n      <td>0.0</td>\n      <td>0.0</td>\n      <td>48219.0</td>\n      <td>0</td>\n    </tr>\n    <tr>\n      <th>773944</th>\n      <td>7000.0</td>\n      <td>36 months</td>\n      <td>19.24</td>\n      <td>257.45</td>\n      <td>E</td>\n      <td>&lt; 1 year</td>\n      <td>RENT</td>\n      <td>45000.0</td>\n      <td>Verified</td>\n      <td>debt_consolidation</td>\n      <td>...</td>\n      <td>38.9</td>\n      <td>88.0</td>\n      <td>3081.920000</td>\n      <td>0.0</td>\n      <td>257.45</td>\n      <td>INDIVIDUAL</td>\n      <td>0.0</td>\n      <td>0.0</td>\n      <td>230058.0</td>\n      <td>1</td>\n    </tr>\n    <tr>\n      <th>773945</th>\n      <td>25000.0</td>\n      <td>36 months</td>\n      <td>7.62</td>\n      <td>779.04</td>\n      <td>A</td>\n      <td>9 years</td>\n      <td>MORTGAGE</td>\n      <td>74000.0</td>\n      <td>Verified</td>\n      <td>debt_consolidation</td>\n      <td>...</td>\n      <td>19.8</td>\n      <td>11.0</td>\n      <td>27180.990000</td>\n      <td>0.0</td>\n      <td>14716.35</td>\n      <td>INDIVIDUAL</td>\n      <td>0.0</td>\n      <td>0.0</td>\n      <td>29307.0</td>\n      <td>0</td>\n    </tr>\n    <tr>\n      <th>773946</th>\n      <td>9000.0</td>\n      <td>36 months</td>\n      <td>16.55</td>\n      <td>318.87</td>\n      <td>D</td>\n      <td>3 years</td>\n      <td>RENT</td>\n      <td>25000.0</td>\n      <td>Source Verified</td>\n      <td>debt_consolidation</td>\n      <td>...</td>\n      <td>61.3</td>\n      <td>24.0</td>\n      <td>1896.670000</td>\n      <td>0.0</td>\n      <td>318.87</td>\n      <td>INDIVIDUAL</td>\n      <td>0.0</td>\n      <td>444.0</td>\n      <td>8300.0</td>\n      <td>1</td>\n    </tr>\n    <tr>\n      <th>773947</th>\n      <td>20000.0</td>\n      <td>36 months</td>\n      <td>12.99</td>\n      <td>673.79</td>\n      <td>C</td>\n      <td>10+ years</td>\n      <td>MORTGAGE</td>\n      <td>115000.0</td>\n      <td>Source Verified</td>\n      <td>debt_consolidation</td>\n      <td>...</td>\n      <td>21.8</td>\n      <td>29.0</td>\n      <td>20300.800000</td>\n      <td>0.0</td>\n      <td>20315.23</td>\n      <td>INDIVIDUAL</td>\n      <td>0.0</td>\n      <td>0.0</td>\n      <td>25077.0</td>\n      <td>0</td>\n    </tr>\n  </tbody>\n</table>\n<p>773948 rows × 26 columns</p>\n</div>"
     },
     "execution_count": 5,
     "metadata": {},
     "output_type": "execute_result"
    }
   ],
   "source": [
    "import pandas as pd\n",
    "df_loan = pd.read_csv(\"/Users/mxfmeng/Desktop/FinRisk-Prediction/GraduationDesign/MLmodels/dataset/loanData(no preprocessing).csv\")\n",
    "# df_loan.drop(columns=['loan_status','label'], inplace=True)\n",
    "df_loan"
   ]
  },
  {
   "cell_type": "code",
   "execution_count": 6,
   "outputs": [
    {
     "data": {
      "text/plain": "term\n 36 months    532288\n 60 months    241660\nName: count, dtype: int64"
     },
     "execution_count": 6,
     "metadata": {},
     "output_type": "execute_result"
    }
   ],
   "source": [
    "df_loan['term'].value_counts()"
   ],
   "metadata": {
    "collapsed": false
   }
  },
  {
   "cell_type": "code",
   "execution_count": 7,
   "outputs": [
    {
     "data": {
      "text/plain": "grade\nB    220617\nC    218883\nA    125163\nD    122309\nE     62290\nF     20072\nG      4614\nName: count, dtype: int64"
     },
     "execution_count": 7,
     "metadata": {},
     "output_type": "execute_result"
    }
   ],
   "source": [
    "df_loan['grade'].value_counts()"
   ],
   "metadata": {
    "collapsed": false
   }
  },
  {
   "cell_type": "code",
   "execution_count": 8,
   "outputs": [
    {
     "data": {
      "text/plain": "application_type\nINDIVIDUAL    773498\nJOINT            450\nName: count, dtype: int64"
     },
     "execution_count": 8,
     "metadata": {},
     "output_type": "execute_result"
    }
   ],
   "source": [
    "df_loan['application_type'].value_counts()"
   ],
   "metadata": {
    "collapsed": false
   }
  },
  {
   "cell_type": "code",
   "execution_count": 19,
   "outputs": [
    {
     "data": {
      "text/plain": "purpose\ndebt_consolidation    465406\ncredit_card           184601\nhome_improvement       43731\nother                  34145\nmajor_purchase         13348\nsmall_business          7241\nmedical                 6891\ncar                     6320\nmoving                  4270\nvacation                3840\nhouse                   2883\nwedding                  861\nrenewable_energy         410\neducational                1\nName: count, dtype: int64"
     },
     "execution_count": 19,
     "metadata": {},
     "output_type": "execute_result"
    }
   ],
   "source": [
    "df_loan['purpose'].value_counts()"
   ],
   "metadata": {
    "collapsed": false
   }
  },
  {
   "cell_type": "code",
   "execution_count": 25,
   "outputs": [
    {
     "data": {
      "text/plain": "pandas.core.series.Series"
     },
     "execution_count": 25,
     "metadata": {},
     "output_type": "execute_result"
    }
   ],
   "source": [
    "type(df_loan['loan_amnt'])"
   ],
   "metadata": {
    "collapsed": false
   }
  },
  {
   "cell_type": "markdown",
   "source": [
    "# 统计 loan_amnt 个区间人数"
   ],
   "metadata": {
    "collapsed": false
   }
  },
  {
   "cell_type": "code",
   "execution_count": 27,
   "outputs": [
    {
     "name": "stdout",
     "output_type": "stream",
     "text": [
      "loan_amnt\n",
      "(0, 2000]         10864\n",
      "(2000, 4000]      34241\n",
      "(4000, 6000]      68644\n",
      "(6000, 8000]      67407\n",
      "(8000, 10000]     94321\n",
      "(10000, 12000]    80433\n",
      "(12000, 14000]    40765\n",
      "(14000, 16000]    85922\n",
      "(16000, 18000]    43366\n",
      "(18000, 20000]    62460\n",
      "(20000, 22000]    28339\n",
      "(22000, 24000]    34075\n",
      "(24000, 26000]    31359\n",
      "(26000, 28000]    22634\n",
      "(28000, 30000]    22623\n",
      "(30000, 32000]     6423\n",
      "(32000, 34000]     4948\n",
      "(34000, 36000]    35124\n",
      "Name: count, dtype: int64\n"
     ]
    }
   ],
   "source": [
    "# 定义区间边界\n",
    "bins = [i*2000 for i in range(0, int((36000-1000)/2000)+2)]\n",
    "\n",
    "# 使用pd.cut将数据划分为区间\n",
    "categorized_data = pd.cut(df_loan['loan_amnt'], bins=bins)\n",
    "\n",
    "# 统计每个区间的个数\n",
    "counts = categorized_data.value_counts().sort_index()\n",
    "\n"
   ],
   "metadata": {
    "collapsed": false
   }
  },
  {
   "cell_type": "code",
   "execution_count": 32,
   "outputs": [
    {
     "name": "stdout",
     "output_type": "stream",
     "text": [
      "[Interval(0, 2000, closed='right'), Interval(2000, 4000, closed='right'), Interval(4000, 6000, closed='right'), Interval(6000, 8000, closed='right'), Interval(8000, 10000, closed='right'), Interval(10000, 12000, closed='right'), Interval(12000, 14000, closed='right'), Interval(14000, 16000, closed='right'), Interval(16000, 18000, closed='right'), Interval(18000, 20000, closed='right'), Interval(20000, 22000, closed='right'), Interval(22000, 24000, closed='right'), Interval(24000, 26000, closed='right'), Interval(26000, 28000, closed='right'), Interval(28000, 30000, closed='right'), Interval(30000, 32000, closed='right'), Interval(32000, 34000, closed='right'), Interval(34000, 36000, closed='right')]\n"
     ]
    }
   ],
   "source": [
    "print(list(counts.index))"
   ],
   "metadata": {
    "collapsed": false
   }
  },
  {
   "cell_type": "code",
   "execution_count": 36,
   "outputs": [
    {
     "name": "stdout",
     "output_type": "stream",
     "text": [
      "[1000, 3000, 5000, 7000, 9000, 11000, 13000, 15000, 17000, 19000, 21000, 23000, 25000, 27000, 29000, 31000, 33000, 35000]\n"
     ]
    }
   ],
   "source": [
    "print(list(range(1000,36000,2000)))\n"
   ],
   "metadata": {
    "collapsed": false
   }
  },
  {
   "cell_type": "code",
   "execution_count": 39,
   "outputs": [],
   "source": [
    "purposeSer = df_loan['purpose'].value_counts()"
   ],
   "metadata": {
    "collapsed": false
   }
  },
  {
   "cell_type": "code",
   "execution_count": 42,
   "outputs": [
    {
     "name": "stdout",
     "output_type": "stream",
     "text": [
      "[465406, 184601, 43731, 34145, 13348, 7241, 6891, 6320, 4270, 3840, 2883, 861, 410, 1]\n"
     ]
    }
   ],
   "source": [
    "print(list(purposeSer.values))"
   ],
   "metadata": {
    "collapsed": false
   }
  },
  {
   "cell_type": "code",
   "execution_count": 43,
   "outputs": [
    {
     "name": "stdout",
     "output_type": "stream",
     "text": [
      "['debt_consolidation', 'credit_card', 'home_improvement', 'other', 'major_purchase', 'small_business', 'medical', 'car', 'moving', 'vacation', 'house', 'wedding', 'renewable_energy', 'educational']\n"
     ]
    }
   ],
   "source": [
    "print(list(purposeSer.index))\n",
    "# { value: 1048, name: 'Search Engine' },"
   ],
   "metadata": {
    "collapsed": false
   }
  },
  {
   "cell_type": "code",
   "execution_count": 45,
   "outputs": [
    {
     "name": "stdout",
     "output_type": "stream",
     "text": [
      "{ value: 465406, name: 'debt_consolidation' },\n",
      "{ value: 184601, name: 'credit_card' },\n",
      "{ value: 43731, name: 'home_improvement' },\n",
      "{ value: 34145, name: 'other' },\n",
      "{ value: 13348, name: 'major_purchase' },\n",
      "{ value: 7241, name: 'small_business' },\n",
      "{ value: 6891, name: 'medical' },\n",
      "{ value: 6320, name: 'car' },\n",
      "{ value: 4270, name: 'moving' },\n",
      "{ value: 3840, name: 'vacation' },\n",
      "{ value: 2883, name: 'house' },\n",
      "{ value: 861, name: 'wedding' },\n",
      "{ value: 410, name: 'renewable_energy' },\n",
      "{ value: 1, name: 'educational' },\n"
     ]
    }
   ],
   "source": [
    "values = list(purposeSer.values)\n",
    "names = list(purposeSer.index)\n",
    "for i in range(0,len(values)):\n",
    "    print(\"{\"+f\" value: {values[i]}, name: '{names[i]}' \"+\"},\")\n",
    "\n"
   ],
   "metadata": {
    "collapsed": false
   }
  },
  {
   "cell_type": "code",
   "execution_count": null,
   "outputs": [],
   "source": [],
   "metadata": {
    "collapsed": false
   }
  },
  {
   "cell_type": "code",
   "execution_count": null,
   "outputs": [],
   "source": [],
   "metadata": {
    "collapsed": false
   }
  }
 ],
 "metadata": {
  "kernelspec": {
   "display_name": "Python 3",
   "language": "python",
   "name": "python3"
  },
  "language_info": {
   "codemirror_mode": {
    "name": "ipython",
    "version": 2
   },
   "file_extension": ".py",
   "mimetype": "text/x-python",
   "name": "python",
   "nbconvert_exporter": "python",
   "pygments_lexer": "ipython2",
   "version": "2.7.6"
  }
 },
 "nbformat": 4,
 "nbformat_minor": 0
}
