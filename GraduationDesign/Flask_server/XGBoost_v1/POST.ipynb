{
 "cells": [
  {
   "cell_type": "code",
   "execution_count": 42,
   "metadata": {
    "collapsed": true
   },
   "outputs": [],
   "source": [
    "import requests\n",
    "import json\n",
    "\n",
    "def featuresInit():\n",
    "    features = {'loan_amnt': 12000.0,\n",
    "     'term': 0.0,\n",
    "     'int_rate': 12.12,\n",
    "     'installment': 399.26,\n",
    "     'grade': 4.0,\n",
    "     'emp_length': 0.0,\n",
    "     'home_ownership': 2.0,\n",
    "     'annual_inc': 64000.0,\n",
    "     'verification_status': 2.0,\n",
    "     'purpose': 1.0,\n",
    "     'addr_state': 25.0,\n",
    "     'dti': 17.33,\n",
    "     'delinq_2yrs': 0.0,\n",
    "     'open_acc': 16.0,\n",
    "     'pub_rec': 0.0,\n",
    "     'revol_bal': 23825.0,\n",
    "     'revol_util': 45.6,\n",
    "     'total_acc': 31.0,\n",
    "     'total_pymnt': 13971.58,\n",
    "     'total_rec_late_fee': 0.0,\n",
    "     'last_pymnt_amnt': 399.26,\n",
    "     'application_type': 0.0,\n",
    "     'acc_now_delinq': 0.0,\n",
    "     'tot_coll_amt': 226.0,\n",
    "     'tot_cur_bal': 143211.0}\n",
    "    return features\n",
    "\n",
    "wrongFeatures = {\n",
    "    'loan_amnt': 32000.0,\n",
    "    'term': 1,\n",
    "    'int_rate': 14.65,\n",
    "    'installment': 755.42,\n",
    "    'grade': 3,\n",
    "    'emp_length': 3,\n",
    "    'home_ownership': 2,\n",
    "    'annual_inc': 147000.0,\n",
    "    'verification_status': 1,\n",
    "    'purpose': 2,\n",
    "    'addr_state': 11,\n",
    "    'dti': 17.29,\n",
    "    'delinq_2yrs': 0.0,\n",
    "    'open_acc': 15.0,\n",
    "    'pub_rec': 0.0,\n",
    "    'revol_bal': 39304.0,\n",
    "    'revol_util': 78.8,\n",
    "    'total_acc': 48.0,\n",
    "    'total_pymnt': 34995.1,\n",
    "    'total_rec_late_fee': 0.0,\n",
    "    'last_pymnt_amnt': 29733.2,\n",
    "    'application_type': 0,\n",
    "    'acc_now_delinq': 0.0,\n",
    "    'tot_coll_amt': 0.0,\n",
    "    'tot_cur_bal': 344082.0\n",
    "}\n",
    "\n",
    "features = featuresInit()\n",
    "# 构造 POST 请求的数据\n",
    "data = {'features': features}\n",
    "url = 'http://127.0.0.1:5000/predict'"
   ]
  },
  {
   "cell_type": "code",
   "execution_count": 43,
   "outputs": [
    {
     "name": "stdout",
     "output_type": "stream",
     "text": [
      "<Response [200]>\n"
     ]
    }
   ],
   "source": [
    "response = requests.post(url, json=data)\n",
    "# jsonResponse = json.loads(str(response))\n",
    "# response = requests.get(url)\n",
    "print(response)\n",
    "# jsonResponse = json.loads(response.text.replace(\"\\'\",\"\\\"\"))\n",
    "# print(jsonResponse)"
   ],
   "metadata": {
    "collapsed": false
   }
  },
  {
   "cell_type": "code",
   "execution_count": 44,
   "outputs": [
    {
     "name": "stdout",
     "output_type": "stream",
     "text": [
      "loan_amnt :  <Response [200]>\n",
      "term :  <Response [200]>\n",
      "int_rate :  <Response [200]>\n",
      "installment :  <Response [200]>\n",
      "grade :  <Response [200]>\n",
      "emp_length :  <Response [200]>\n",
      "home_ownership :  <Response [200]>\n",
      "annual_inc :  <Response [200]>\n",
      "verification_status :  <Response [200]>\n",
      "purpose :  <Response [200]>\n",
      "addr_state :  <Response [200]>\n",
      "dti :  <Response [200]>\n",
      "delinq_2yrs :  <Response [200]>\n",
      "open_acc :  <Response [200]>\n",
      "pub_rec :  <Response [200]>\n",
      "revol_bal :  <Response [200]>\n",
      "revol_util :  <Response [200]>\n",
      "total_acc :  <Response [200]>\n",
      "total_pymnt :  <Response [500]>\n",
      "total_rec_late_fee :  <Response [200]>\n",
      "last_pymnt_amnt :  <Response [500]>\n",
      "application_type :  <Response [200]>\n",
      "acc_now_delinq :  <Response [200]>\n",
      "tot_coll_amt :  <Response [200]>\n",
      "tot_cur_bal :  <Response [200]>\n"
     ]
    }
   ],
   "source": [
    "feaNames = list(features.keys())\n",
    "for feaName in feaNames:\n",
    "    features = featuresInit()\n",
    "    features.update({feaName: wrongFeatures.get(feaName)})\n",
    "    data = {'features': features}\n",
    "    response = requests.post(url, json=data)\n",
    "    print(feaName,\": \",response)"
   ],
   "metadata": {
    "collapsed": false
   }
  },
  {
   "cell_type": "code",
   "execution_count": 45,
   "outputs": [
    {
     "name": "stdout",
     "output_type": "stream",
     "text": [
      "total_pymnt:\n",
      "标准:13971.58\n",
      "错误:34995.1\n",
      "last_pymnt_amnt:\n",
      "标准:399.26\n",
      "错误:29733.2\n"
     ]
    }
   ],
   "source": [
    "features = featuresInit()\n",
    "# total_pymnt, last_pymnt_amnt 两个属性存在问题\n",
    "print('total_pymnt:')\n",
    "print(f\"标准:{features.get('total_pymnt')}\")\n",
    "print(f\"错误:{wrongFeatures.get('total_pymnt')}\")\n",
    "print('last_pymnt_amnt:')\n",
    "print(f\"标准:{features.get('last_pymnt_amnt')}\")\n",
    "print(f\"错误:{wrongFeatures.get('last_pymnt_amnt')}\")"
   ],
   "metadata": {
    "collapsed": false
   }
  },
  {
   "cell_type": "code",
   "execution_count": 54,
   "outputs": [
    {
     "name": "stdout",
     "output_type": "stream",
     "text": [
      "<Response [200]>\n"
     ]
    }
   ],
   "source": [
    "# 测试是否因数据只有1位小叔而报错 -- 结果不是\n",
    "features = featuresInit()\n",
    "# features.update({'total_pymnt': 13971.58})\n",
    "features.update({'total_pymnt': 34995.1})\n",
    "data = {'features': features}\n",
    "response = requests.post(url, json=data)\n",
    "print(response)"
   ],
   "metadata": {
    "collapsed": false
   }
  },
  {
   "cell_type": "code",
   "execution_count": null,
   "outputs": [],
   "source": [
    "# 问题定位到 模型中的 self.model2.predict(c2_input.values)"
   ],
   "metadata": {
    "collapsed": false
   }
  }
 ],
 "metadata": {
  "kernelspec": {
   "display_name": "Python 3",
   "language": "python",
   "name": "python3"
  },
  "language_info": {
   "codemirror_mode": {
    "name": "ipython",
    "version": 2
   },
   "file_extension": ".py",
   "mimetype": "text/x-python",
   "name": "python",
   "nbconvert_exporter": "python",
   "pygments_lexer": "ipython2",
   "version": "2.7.6"
  }
 },
 "nbformat": 4,
 "nbformat_minor": 0
}
