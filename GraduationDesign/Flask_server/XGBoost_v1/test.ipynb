{
 "cells": [
  {
   "cell_type": "code",
   "execution_count": 1,
   "outputs": [],
   "source": [
    "import pickle\n",
    "from flask import Flask, request\n",
    "import joblib\n",
    "import numpy as np"
   ],
   "metadata": {
    "collapsed": false
   }
  },
  {
   "cell_type": "code",
   "execution_count": 2,
   "outputs": [],
   "source": [
    "with open('/Users/mxfmeng/PycharmProjects/GraduationDesign/Flask_server/XGBoost_v1/XGBoost_v1.pkl', 'rb') as f:\n",
    "    # t = f.read()\n",
    "    # 使用pickle.load()从文件中读取序列化的对象并还原为原来的Python对象\n",
    "    model = pickle.load(f)"
   ],
   "metadata": {
    "collapsed": false
   }
  },
  {
   "cell_type": "code",
   "execution_count": 3,
   "outputs": [
    {
     "data": {
      "text/plain": "        loan_amnt  term  int_rate  installment  grade  emp_length  \\\n0         27050.0     0     10.99       885.46      4          12   \n1          9750.0     0     13.98       333.14      3           2   \n2         12000.0     0      6.62       368.45      5          12   \n3         12000.0     0     13.53       407.40      4          12   \n4         15000.0     0      8.90       476.30      5           3   \n...           ...   ...       ...          ...    ...         ...   \n816717    10000.0     0     11.99       332.10      4           9   \n816718    24000.0     0     11.99       797.03      4          12   \n816719    13000.0     1     15.99       316.07      2           6   \n816720    12000.0     1     19.99       317.86      1           2   \n816721    20000.0     0     11.99       664.20      4          12   \n\n        home_ownership  annual_inc  verification_status  purpose  ...  \\\n0                    3     55000.0                    2        2  ...   \n1                    1     26000.0                    0        2  ...   \n2                    2    105000.0                    0        2  ...   \n3                    1     40000.0                    1        2  ...   \n4                    2     63000.0                    0        2  ...   \n...                ...         ...                  ...      ...  ...   \n816717               1     31000.0                    2        2  ...   \n816718               2     79000.0                    2        4  ...   \n816719               1     35000.0                    2        2  ...   \n816720               1     64400.0                    1        2  ...   \n816721               1    100000.0                    2        1  ...   \n\n        revol_util  total_acc  total_pymnt  total_rec_late_fee  \\\n0             61.2       27.0     21251.04                 0.0   \n1             52.8       28.0      7994.83                 0.0   \n2             21.6       22.0      8842.80                 0.0   \n3             68.8       32.0     13359.77                 0.0   \n4             74.2       29.0     11431.20                 0.0   \n...            ...        ...          ...                 ...   \n816717        82.1       15.0      3971.88                 0.0   \n816718        84.5       23.0      9532.39                 0.0   \n816719        61.3       22.0      3769.74                 0.0   \n816720        30.6       20.0      3787.67                 0.0   \n816721        79.8       10.0      7943.76                 0.0   \n\n        last_pymnt_amnt  application_type  acc_now_delinq  tot_coll_amt  \\\n0                885.46                 0             0.0           0.0   \n1                333.14                 0             0.0           0.0   \n2                368.45                 0             0.0           0.0   \n3                119.17                 0             0.0       15386.0   \n4                476.30                 0             0.0        1514.0   \n...                 ...               ...             ...           ...   \n816717           332.10                 0             0.0           0.0   \n816718           797.03                 0             0.0           0.0   \n816719           316.07                 0             0.0           0.0   \n816720           317.86                 0             0.0           0.0   \n816721           664.20                 0             0.0           0.0   \n\n        tot_cur_bal  label  \n0          114834.0      1  \n1           14123.0      1  \n2          267646.0      1  \n3           13605.0      0  \n4          272492.0      1  \n...             ...    ...  \n816717      25274.0      1  \n816718     140285.0      1  \n816719      34178.0      1  \n816720      58418.0      1  \n816721      33307.0      1  \n\n[816722 rows x 26 columns]",
      "text/html": "<div>\n<style scoped>\n    .dataframe tbody tr th:only-of-type {\n        vertical-align: middle;\n    }\n\n    .dataframe tbody tr th {\n        vertical-align: top;\n    }\n\n    .dataframe thead th {\n        text-align: right;\n    }\n</style>\n<table border=\"1\" class=\"dataframe\">\n  <thead>\n    <tr style=\"text-align: right;\">\n      <th></th>\n      <th>loan_amnt</th>\n      <th>term</th>\n      <th>int_rate</th>\n      <th>installment</th>\n      <th>grade</th>\n      <th>emp_length</th>\n      <th>home_ownership</th>\n      <th>annual_inc</th>\n      <th>verification_status</th>\n      <th>purpose</th>\n      <th>...</th>\n      <th>revol_util</th>\n      <th>total_acc</th>\n      <th>total_pymnt</th>\n      <th>total_rec_late_fee</th>\n      <th>last_pymnt_amnt</th>\n      <th>application_type</th>\n      <th>acc_now_delinq</th>\n      <th>tot_coll_amt</th>\n      <th>tot_cur_bal</th>\n      <th>label</th>\n    </tr>\n  </thead>\n  <tbody>\n    <tr>\n      <th>0</th>\n      <td>27050.0</td>\n      <td>0</td>\n      <td>10.99</td>\n      <td>885.46</td>\n      <td>4</td>\n      <td>12</td>\n      <td>3</td>\n      <td>55000.0</td>\n      <td>2</td>\n      <td>2</td>\n      <td>...</td>\n      <td>61.2</td>\n      <td>27.0</td>\n      <td>21251.04</td>\n      <td>0.0</td>\n      <td>885.46</td>\n      <td>0</td>\n      <td>0.0</td>\n      <td>0.0</td>\n      <td>114834.0</td>\n      <td>1</td>\n    </tr>\n    <tr>\n      <th>1</th>\n      <td>9750.0</td>\n      <td>0</td>\n      <td>13.98</td>\n      <td>333.14</td>\n      <td>3</td>\n      <td>2</td>\n      <td>1</td>\n      <td>26000.0</td>\n      <td>0</td>\n      <td>2</td>\n      <td>...</td>\n      <td>52.8</td>\n      <td>28.0</td>\n      <td>7994.83</td>\n      <td>0.0</td>\n      <td>333.14</td>\n      <td>0</td>\n      <td>0.0</td>\n      <td>0.0</td>\n      <td>14123.0</td>\n      <td>1</td>\n    </tr>\n    <tr>\n      <th>2</th>\n      <td>12000.0</td>\n      <td>0</td>\n      <td>6.62</td>\n      <td>368.45</td>\n      <td>5</td>\n      <td>12</td>\n      <td>2</td>\n      <td>105000.0</td>\n      <td>0</td>\n      <td>2</td>\n      <td>...</td>\n      <td>21.6</td>\n      <td>22.0</td>\n      <td>8842.80</td>\n      <td>0.0</td>\n      <td>368.45</td>\n      <td>0</td>\n      <td>0.0</td>\n      <td>0.0</td>\n      <td>267646.0</td>\n      <td>1</td>\n    </tr>\n    <tr>\n      <th>3</th>\n      <td>12000.0</td>\n      <td>0</td>\n      <td>13.53</td>\n      <td>407.40</td>\n      <td>4</td>\n      <td>12</td>\n      <td>1</td>\n      <td>40000.0</td>\n      <td>1</td>\n      <td>2</td>\n      <td>...</td>\n      <td>68.8</td>\n      <td>32.0</td>\n      <td>13359.77</td>\n      <td>0.0</td>\n      <td>119.17</td>\n      <td>0</td>\n      <td>0.0</td>\n      <td>15386.0</td>\n      <td>13605.0</td>\n      <td>0</td>\n    </tr>\n    <tr>\n      <th>4</th>\n      <td>15000.0</td>\n      <td>0</td>\n      <td>8.90</td>\n      <td>476.30</td>\n      <td>5</td>\n      <td>3</td>\n      <td>2</td>\n      <td>63000.0</td>\n      <td>0</td>\n      <td>2</td>\n      <td>...</td>\n      <td>74.2</td>\n      <td>29.0</td>\n      <td>11431.20</td>\n      <td>0.0</td>\n      <td>476.30</td>\n      <td>0</td>\n      <td>0.0</td>\n      <td>1514.0</td>\n      <td>272492.0</td>\n      <td>1</td>\n    </tr>\n    <tr>\n      <th>...</th>\n      <td>...</td>\n      <td>...</td>\n      <td>...</td>\n      <td>...</td>\n      <td>...</td>\n      <td>...</td>\n      <td>...</td>\n      <td>...</td>\n      <td>...</td>\n      <td>...</td>\n      <td>...</td>\n      <td>...</td>\n      <td>...</td>\n      <td>...</td>\n      <td>...</td>\n      <td>...</td>\n      <td>...</td>\n      <td>...</td>\n      <td>...</td>\n      <td>...</td>\n      <td>...</td>\n    </tr>\n    <tr>\n      <th>816717</th>\n      <td>10000.0</td>\n      <td>0</td>\n      <td>11.99</td>\n      <td>332.10</td>\n      <td>4</td>\n      <td>9</td>\n      <td>1</td>\n      <td>31000.0</td>\n      <td>2</td>\n      <td>2</td>\n      <td>...</td>\n      <td>82.1</td>\n      <td>15.0</td>\n      <td>3971.88</td>\n      <td>0.0</td>\n      <td>332.10</td>\n      <td>0</td>\n      <td>0.0</td>\n      <td>0.0</td>\n      <td>25274.0</td>\n      <td>1</td>\n    </tr>\n    <tr>\n      <th>816718</th>\n      <td>24000.0</td>\n      <td>0</td>\n      <td>11.99</td>\n      <td>797.03</td>\n      <td>4</td>\n      <td>12</td>\n      <td>2</td>\n      <td>79000.0</td>\n      <td>2</td>\n      <td>4</td>\n      <td>...</td>\n      <td>84.5</td>\n      <td>23.0</td>\n      <td>9532.39</td>\n      <td>0.0</td>\n      <td>797.03</td>\n      <td>0</td>\n      <td>0.0</td>\n      <td>0.0</td>\n      <td>140285.0</td>\n      <td>1</td>\n    </tr>\n    <tr>\n      <th>816719</th>\n      <td>13000.0</td>\n      <td>1</td>\n      <td>15.99</td>\n      <td>316.07</td>\n      <td>2</td>\n      <td>6</td>\n      <td>1</td>\n      <td>35000.0</td>\n      <td>2</td>\n      <td>2</td>\n      <td>...</td>\n      <td>61.3</td>\n      <td>22.0</td>\n      <td>3769.74</td>\n      <td>0.0</td>\n      <td>316.07</td>\n      <td>0</td>\n      <td>0.0</td>\n      <td>0.0</td>\n      <td>34178.0</td>\n      <td>1</td>\n    </tr>\n    <tr>\n      <th>816720</th>\n      <td>12000.0</td>\n      <td>1</td>\n      <td>19.99</td>\n      <td>317.86</td>\n      <td>1</td>\n      <td>2</td>\n      <td>1</td>\n      <td>64400.0</td>\n      <td>1</td>\n      <td>2</td>\n      <td>...</td>\n      <td>30.6</td>\n      <td>20.0</td>\n      <td>3787.67</td>\n      <td>0.0</td>\n      <td>317.86</td>\n      <td>0</td>\n      <td>0.0</td>\n      <td>0.0</td>\n      <td>58418.0</td>\n      <td>1</td>\n    </tr>\n    <tr>\n      <th>816721</th>\n      <td>20000.0</td>\n      <td>0</td>\n      <td>11.99</td>\n      <td>664.20</td>\n      <td>4</td>\n      <td>12</td>\n      <td>1</td>\n      <td>100000.0</td>\n      <td>2</td>\n      <td>1</td>\n      <td>...</td>\n      <td>79.8</td>\n      <td>10.0</td>\n      <td>7943.76</td>\n      <td>0.0</td>\n      <td>664.20</td>\n      <td>0</td>\n      <td>0.0</td>\n      <td>0.0</td>\n      <td>33307.0</td>\n      <td>1</td>\n    </tr>\n  </tbody>\n</table>\n<p>816722 rows × 26 columns</p>\n</div>"
     },
     "execution_count": 3,
     "metadata": {},
     "output_type": "execute_result"
    }
   ],
   "source": [
    "from sklearn.model_selection import train_test_split\n",
    "import pandas as pd\n",
    "\n",
    "# 加载数据集\n",
    "df_loan = pd.read_csv(\"/Users/mxfmeng/PycharmProjects/GraduationDesign/MLmodels/dataset/loan_new_3_1.csv\")\n",
    "df_loan.drop(columns=['loan_status'], inplace=True)\n",
    "df_loan"
   ],
   "metadata": {
    "collapsed": false
   }
  },
  {
   "cell_type": "code",
   "execution_count": 4,
   "outputs": [],
   "source": [
    "X_train, X_test, y_train, y_test = train_test_split(df_loan.drop(columns=['label']), df_loan[['label']], test_size=0.2, random_state=0)"
   ],
   "metadata": {
    "collapsed": false
   }
  },
  {
   "cell_type": "code",
   "execution_count": 5,
   "outputs": [
    {
     "name": "stderr",
     "output_type": "stream",
     "text": [
      "/Users/mxfmeng/PycharmProjects/GraduationDesign/Flask_server/XGBoost_v1/Model_DblXGBoost.py:37: SettingWithCopyWarning: \n",
      "A value is trying to be set on a copy of a slice from a DataFrame\n",
      "\n",
      "See the caveats in the documentation: https://pandas.pydata.org/pandas-docs/stable/user_guide/indexing.html#returning-a-view-versus-a-copy\n",
      "  c2_input.drop(columns=['pred'], inplace=True)\n"
     ]
    },
    {
     "name": "stdout",
     "output_type": "stream",
     "text": [
      "              precision    recall  f1-score   support\n",
      "\n",
      "           0       0.98      0.98      0.98     32492\n",
      "           1       0.94      0.99      0.96    119626\n",
      "           2       0.14      0.00      0.00      1968\n",
      "           3       0.93      0.39      0.55      9259\n",
      "\n",
      "    accuracy                           0.94    163345\n",
      "   macro avg       0.75      0.59      0.62    163345\n",
      "weighted avg       0.93      0.94      0.93    163345\n",
      "\n"
     ]
    }
   ],
   "source": [
    "from sklearn.metrics import classification_report\n",
    "\n",
    "predictions = model.predict(X_test)\n",
    "print(classification_report(y_test, predictions['result']))"
   ],
   "metadata": {
    "collapsed": false
   }
  },
  {
   "cell_type": "code",
   "execution_count": 6,
   "outputs": [],
   "source": [
    "data = X_test.iloc[1].to_dict()"
   ],
   "metadata": {
    "collapsed": false
   }
  },
  {
   "cell_type": "code",
   "execution_count": 7,
   "outputs": [],
   "source": [
    "row = pd.DataFrame([data],index=[0])"
   ],
   "metadata": {
    "collapsed": false
   }
  },
  {
   "cell_type": "code",
   "execution_count": 8,
   "outputs": [
    {
     "data": {
      "text/plain": "pandas.core.frame.DataFrame"
     },
     "execution_count": 8,
     "metadata": {},
     "output_type": "execute_result"
    }
   ],
   "source": [
    "prediction = model.predict(row)\n",
    "type(prediction)"
   ],
   "metadata": {
    "collapsed": false
   }
  },
  {
   "cell_type": "code",
   "execution_count": 9,
   "outputs": [
    {
     "data": {
      "text/plain": "1"
     },
     "execution_count": 9,
     "metadata": {},
     "output_type": "execute_result"
    }
   ],
   "source": [
    "prediction['result'][0]"
   ],
   "metadata": {
    "collapsed": false
   }
  },
  {
   "cell_type": "code",
   "execution_count": 10,
   "outputs": [
    {
     "data": {
      "text/plain": "['loan_amnt',\n 'term',\n 'int_rate',\n 'installment',\n 'grade',\n 'emp_length',\n 'home_ownership',\n 'annual_inc',\n 'verification_status',\n 'purpose',\n 'addr_state',\n 'dti',\n 'delinq_2yrs',\n 'open_acc',\n 'pub_rec',\n 'revol_bal',\n 'revol_util',\n 'total_acc',\n 'total_pymnt',\n 'total_rec_late_fee',\n 'last_pymnt_amnt',\n 'application_type',\n 'acc_now_delinq',\n 'tot_coll_amt',\n 'tot_cur_bal']"
     },
     "execution_count": 10,
     "metadata": {},
     "output_type": "execute_result"
    }
   ],
   "source": [
    "list(X_test.columns)"
   ],
   "metadata": {
    "collapsed": false
   }
  },
  {
   "cell_type": "code",
   "execution_count": null,
   "outputs": [],
   "source": [],
   "metadata": {
    "collapsed": false
   }
  }
 ],
 "metadata": {
  "kernelspec": {
   "display_name": "Python 3",
   "language": "python",
   "name": "python3"
  },
  "language_info": {
   "codemirror_mode": {
    "name": "ipython",
    "version": 2
   },
   "file_extension": ".py",
   "mimetype": "text/x-python",
   "name": "python",
   "nbconvert_exporter": "python",
   "pygments_lexer": "ipython2",
   "version": "2.7.6"
  }
 },
 "nbformat": 4,
 "nbformat_minor": 0
}
