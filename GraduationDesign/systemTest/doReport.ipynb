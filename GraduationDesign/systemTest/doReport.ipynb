{
 "cells": [
  {
   "cell_type": "code",
   "execution_count": 30,
   "outputs": [
    {
     "name": "stdout",
     "output_type": "stream",
     "text": [
      "{'Vpzizbd': {'code': 200, 'message': '报告成功生成'}, 'Uvtbzal': {'code': 200, 'data': \"/Users/mxfmeng/Desktop/1AAA毕业设计-金融用户画像风险分析/输出报告/Uvtbzal/Uvtbzal's risk report.docx\", 'message': '报告成功生成'}}\n"
     ]
    }
   ],
   "source": [
    "import requests\n",
    "import json\n",
    "# 构造 POST 请求的数据\n",
    "url = 'http://localhost:8080/doReport/'\n",
    "nameList = ['Aanal', 'Wnufis', 'Eapnrelw', 'Qgzlisi', 'Posaie', 'Uvtbzal', 'Yasqnze', 'Pezlzy', 'Riongtr', 'Xjpbvad', 'Kxrcdzc', 'Aipjbsqz', 'Aumvgu', 'Zosyqjs', 'Pfmbjh', 'Pmnhf', 'Fdtobb', 'Bkpux', 'Uapoih', 'Vozizbd']\n",
    "nameList = ['Vpzizbd', 'Uvtbzal']\n",
    "result = {}\n",
    "# 遍历nameList\n",
    "for name in nameList:\n",
    "    response = requests.get(url+name)\n",
    "    result.update({name: json.loads(response.text)})\n",
    "print(result)"
   ],
   "metadata": {
    "collapsed": false
   }
  },
  {
   "cell_type": "code",
   "execution_count": 26,
   "outputs": [],
   "source": [
    "# 查看哪些异常\n",
    "i = 0\n",
    "for name in nameList:\n",
    "    res = result.get(name)\n",
    "    if(res.get('code') != 200):\n",
    "        print(i)\n",
    "    i += 1\n",
    "\n",
    "# out\n",
    "# 异常index： 3,5,8,11,13\n",
    "\n"
   ],
   "metadata": {
    "collapsed": false
   }
  },
  {
   "cell_type": "code",
   "execution_count": 27,
   "outputs": [
    {
     "name": "stdout",
     "output_type": "stream",
     "text": [
      "dict_keys(['Qgzlisi', 'Uvtbzal', 'Riongtr', 'Aipjbsqz', 'Zosyqjs'])\n"
     ]
    }
   ],
   "source": [
    "errorIndexs = [3,5,8,11,13]\n",
    "errorInfo = {}\n",
    "for index in errorIndexs:\n",
    "    name = nameList[index]\n",
    "    errorInfo.update({name: result.get(name)})\n",
    "print(errorInfo.keys())\n"
   ],
   "metadata": {
    "collapsed": false
   }
  },
  {
   "cell_type": "code",
   "execution_count": 28,
   "outputs": [
    {
     "data": {
      "text/plain": "{'code': 200, 'message': '报告成功生成'}"
     },
     "execution_count": 28,
     "metadata": {},
     "output_type": "execute_result"
    }
   ],
   "source": [
    "errorInfo.get('Qgzlisi')"
   ],
   "metadata": {
    "collapsed": false
   }
  },
  {
   "cell_type": "code",
   "execution_count": 28,
   "outputs": [],
   "source": [],
   "metadata": {
    "collapsed": false
   }
  }
 ],
 "metadata": {
  "kernelspec": {
   "display_name": "Python 3",
   "language": "python",
   "name": "python3"
  },
  "language_info": {
   "codemirror_mode": {
    "name": "ipython",
    "version": 2
   },
   "file_extension": ".py",
   "mimetype": "text/x-python",
   "name": "python",
   "nbconvert_exporter": "python",
   "pygments_lexer": "ipython2",
   "version": "2.7.6"
  }
 },
 "nbformat": 4,
 "nbformat_minor": 0
}
