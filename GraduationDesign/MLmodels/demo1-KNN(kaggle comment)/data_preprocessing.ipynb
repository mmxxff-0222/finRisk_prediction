{
 "cells": [
  {
   "cell_type": "code",
   "execution_count": 1,
   "metadata": {
    "collapsed": true
   },
   "outputs": [],
   "source": [
    "import numpy as np\n",
    "import pandas as pd\n",
    "import seaborn as sns\n",
    "import matplotlib.pyplot as plt\n",
    "from IPython.display import display, Markdown, Latex\n",
    "import dataset.labelEncoder\n",
    "\n",
    "sns.set_style('whitegrid')\n",
    "\n",
    "from sklearn.preprocessing import LabelEncoder\n",
    "from sklearn import model_selection\n",
    "from sklearn.cluster import KMeans\n",
    "from sklearn.neighbors import KNeighborsClassifier\n",
    "\n",
    "from sklearn.metrics import f1_score\n"
   ]
  },
  {
   "cell_type": "markdown",
   "source": [
    "# 1加载预览数据集\n",
    "Loading and Understanding the dataset\n"
   ],
   "metadata": {
    "collapsed": false
   }
  },
  {
   "cell_type": "code",
   "execution_count": 2,
   "outputs": [
    {
     "name": "stderr",
     "output_type": "stream",
     "text": [
      "/var/folders/8m/6cpmqrns19n25q6dpm3wnyzh0000gn/T/ipykernel_50311/2773092102.py:1: DtypeWarning: Columns (19,55) have mixed types. Specify dtype option on import or set low_memory=False.\n",
      "  df_loan = pd.read_csv(\"/Users/mxfmeng/PycharmProjects/GraduationDesign/dataset/loan_old.csv\")\n"
     ]
    },
    {
     "data": {
      "text/plain": "        id  member_id  loan_amnt  funded_amnt  funded_amnt_inv        term  \\\n0  1077501    1296599     5000.0       5000.0           4975.0   36 months   \n1  1077430    1314167     2500.0       2500.0           2500.0   60 months   \n2  1077175    1313524     2400.0       2400.0           2400.0   36 months   \n3  1076863    1277178    10000.0      10000.0          10000.0   36 months   \n4  1075358    1311748     3000.0       3000.0           3000.0   60 months   \n5  1075269    1311441     5000.0       5000.0           5000.0   36 months   \n6  1069639    1304742     7000.0       7000.0           7000.0   60 months   \n\n   int_rate  installment grade sub_grade  ... total_bal_il il_util  \\\n0     10.65       162.87     B        B2  ...          NaN     NaN   \n1     15.27        59.83     C        C4  ...          NaN     NaN   \n2     15.96        84.33     C        C5  ...          NaN     NaN   \n3     13.49       339.31     C        C1  ...          NaN     NaN   \n4     12.69        67.79     B        B5  ...          NaN     NaN   \n5      7.90       156.46     A        A4  ...          NaN     NaN   \n6     15.96       170.08     C        C5  ...          NaN     NaN   \n\n  open_rv_12m  open_rv_24m max_bal_bc all_util total_rev_hi_lim inq_fi  \\\n0         NaN          NaN        NaN      NaN              NaN    NaN   \n1         NaN          NaN        NaN      NaN              NaN    NaN   \n2         NaN          NaN        NaN      NaN              NaN    NaN   \n3         NaN          NaN        NaN      NaN              NaN    NaN   \n4         NaN          NaN        NaN      NaN              NaN    NaN   \n5         NaN          NaN        NaN      NaN              NaN    NaN   \n6         NaN          NaN        NaN      NaN              NaN    NaN   \n\n  total_cu_tl inq_last_12m  \n0         NaN          NaN  \n1         NaN          NaN  \n2         NaN          NaN  \n3         NaN          NaN  \n4         NaN          NaN  \n5         NaN          NaN  \n6         NaN          NaN  \n\n[7 rows x 74 columns]",
      "text/html": "<div>\n<style scoped>\n    .dataframe tbody tr th:only-of-type {\n        vertical-align: middle;\n    }\n\n    .dataframe tbody tr th {\n        vertical-align: top;\n    }\n\n    .dataframe thead th {\n        text-align: right;\n    }\n</style>\n<table border=\"1\" class=\"dataframe\">\n  <thead>\n    <tr style=\"text-align: right;\">\n      <th></th>\n      <th>id</th>\n      <th>member_id</th>\n      <th>loan_amnt</th>\n      <th>funded_amnt</th>\n      <th>funded_amnt_inv</th>\n      <th>term</th>\n      <th>int_rate</th>\n      <th>installment</th>\n      <th>grade</th>\n      <th>sub_grade</th>\n      <th>...</th>\n      <th>total_bal_il</th>\n      <th>il_util</th>\n      <th>open_rv_12m</th>\n      <th>open_rv_24m</th>\n      <th>max_bal_bc</th>\n      <th>all_util</th>\n      <th>total_rev_hi_lim</th>\n      <th>inq_fi</th>\n      <th>total_cu_tl</th>\n      <th>inq_last_12m</th>\n    </tr>\n  </thead>\n  <tbody>\n    <tr>\n      <th>0</th>\n      <td>1077501</td>\n      <td>1296599</td>\n      <td>5000.0</td>\n      <td>5000.0</td>\n      <td>4975.0</td>\n      <td>36 months</td>\n      <td>10.65</td>\n      <td>162.87</td>\n      <td>B</td>\n      <td>B2</td>\n      <td>...</td>\n      <td>NaN</td>\n      <td>NaN</td>\n      <td>NaN</td>\n      <td>NaN</td>\n      <td>NaN</td>\n      <td>NaN</td>\n      <td>NaN</td>\n      <td>NaN</td>\n      <td>NaN</td>\n      <td>NaN</td>\n    </tr>\n    <tr>\n      <th>1</th>\n      <td>1077430</td>\n      <td>1314167</td>\n      <td>2500.0</td>\n      <td>2500.0</td>\n      <td>2500.0</td>\n      <td>60 months</td>\n      <td>15.27</td>\n      <td>59.83</td>\n      <td>C</td>\n      <td>C4</td>\n      <td>...</td>\n      <td>NaN</td>\n      <td>NaN</td>\n      <td>NaN</td>\n      <td>NaN</td>\n      <td>NaN</td>\n      <td>NaN</td>\n      <td>NaN</td>\n      <td>NaN</td>\n      <td>NaN</td>\n      <td>NaN</td>\n    </tr>\n    <tr>\n      <th>2</th>\n      <td>1077175</td>\n      <td>1313524</td>\n      <td>2400.0</td>\n      <td>2400.0</td>\n      <td>2400.0</td>\n      <td>36 months</td>\n      <td>15.96</td>\n      <td>84.33</td>\n      <td>C</td>\n      <td>C5</td>\n      <td>...</td>\n      <td>NaN</td>\n      <td>NaN</td>\n      <td>NaN</td>\n      <td>NaN</td>\n      <td>NaN</td>\n      <td>NaN</td>\n      <td>NaN</td>\n      <td>NaN</td>\n      <td>NaN</td>\n      <td>NaN</td>\n    </tr>\n    <tr>\n      <th>3</th>\n      <td>1076863</td>\n      <td>1277178</td>\n      <td>10000.0</td>\n      <td>10000.0</td>\n      <td>10000.0</td>\n      <td>36 months</td>\n      <td>13.49</td>\n      <td>339.31</td>\n      <td>C</td>\n      <td>C1</td>\n      <td>...</td>\n      <td>NaN</td>\n      <td>NaN</td>\n      <td>NaN</td>\n      <td>NaN</td>\n      <td>NaN</td>\n      <td>NaN</td>\n      <td>NaN</td>\n      <td>NaN</td>\n      <td>NaN</td>\n      <td>NaN</td>\n    </tr>\n    <tr>\n      <th>4</th>\n      <td>1075358</td>\n      <td>1311748</td>\n      <td>3000.0</td>\n      <td>3000.0</td>\n      <td>3000.0</td>\n      <td>60 months</td>\n      <td>12.69</td>\n      <td>67.79</td>\n      <td>B</td>\n      <td>B5</td>\n      <td>...</td>\n      <td>NaN</td>\n      <td>NaN</td>\n      <td>NaN</td>\n      <td>NaN</td>\n      <td>NaN</td>\n      <td>NaN</td>\n      <td>NaN</td>\n      <td>NaN</td>\n      <td>NaN</td>\n      <td>NaN</td>\n    </tr>\n    <tr>\n      <th>5</th>\n      <td>1075269</td>\n      <td>1311441</td>\n      <td>5000.0</td>\n      <td>5000.0</td>\n      <td>5000.0</td>\n      <td>36 months</td>\n      <td>7.90</td>\n      <td>156.46</td>\n      <td>A</td>\n      <td>A4</td>\n      <td>...</td>\n      <td>NaN</td>\n      <td>NaN</td>\n      <td>NaN</td>\n      <td>NaN</td>\n      <td>NaN</td>\n      <td>NaN</td>\n      <td>NaN</td>\n      <td>NaN</td>\n      <td>NaN</td>\n      <td>NaN</td>\n    </tr>\n    <tr>\n      <th>6</th>\n      <td>1069639</td>\n      <td>1304742</td>\n      <td>7000.0</td>\n      <td>7000.0</td>\n      <td>7000.0</td>\n      <td>60 months</td>\n      <td>15.96</td>\n      <td>170.08</td>\n      <td>C</td>\n      <td>C5</td>\n      <td>...</td>\n      <td>NaN</td>\n      <td>NaN</td>\n      <td>NaN</td>\n      <td>NaN</td>\n      <td>NaN</td>\n      <td>NaN</td>\n      <td>NaN</td>\n      <td>NaN</td>\n      <td>NaN</td>\n      <td>NaN</td>\n    </tr>\n  </tbody>\n</table>\n<p>7 rows × 74 columns</p>\n</div>"
     },
     "execution_count": 2,
     "metadata": {},
     "output_type": "execute_result"
    }
   ],
   "source": [
    "df_loan = pd.read_csv(\"/Users/mxfmeng/PycharmProjects/GraduationDesign/dataset/loan_old.csv\")\n",
    "df_loan.head(7)"
   ],
   "metadata": {
    "collapsed": false
   }
  },
  {
   "cell_type": "markdown",
   "source": [
    "Description of dataset"
   ],
   "metadata": {
    "collapsed": false
   }
  },
  {
   "cell_type": "code",
   "execution_count": 3,
   "outputs": [
    {
     "name": "stdout",
     "output_type": "stream",
     "text": [
      "<class 'pandas.core.frame.DataFrame'>\n",
      "RangeIndex: 887379 entries, 0 to 887378\n",
      "Data columns (total 74 columns):\n",
      " #   Column                       Non-Null Count   Dtype  \n",
      "---  ------                       --------------   -----  \n",
      " 0   id                           887379 non-null  int64  \n",
      " 1   member_id                    887379 non-null  int64  \n",
      " 2   loan_amnt                    887379 non-null  float64\n",
      " 3   funded_amnt                  887379 non-null  float64\n",
      " 4   funded_amnt_inv              887379 non-null  float64\n",
      " 5   term                         887379 non-null  object \n",
      " 6   int_rate                     887379 non-null  float64\n",
      " 7   installment                  887379 non-null  float64\n",
      " 8   grade                        887379 non-null  object \n",
      " 9   sub_grade                    887379 non-null  object \n",
      " 10  emp_title                    835917 non-null  object \n",
      " 11  emp_length                   842554 non-null  object \n",
      " 12  home_ownership               887379 non-null  object \n",
      " 13  annual_inc                   887375 non-null  float64\n",
      " 14  verification_status          887379 non-null  object \n",
      " 15  issue_d                      887379 non-null  object \n",
      " 16  loan_status                  887379 non-null  object \n",
      " 17  pymnt_plan                   887379 non-null  object \n",
      " 18  url                          887379 non-null  object \n",
      " 19  desc                         126026 non-null  object \n",
      " 20  purpose                      887379 non-null  object \n",
      " 21  title                        887226 non-null  object \n",
      " 22  zip_code                     887379 non-null  object \n",
      " 23  addr_state                   887379 non-null  object \n",
      " 24  dti                          887379 non-null  float64\n",
      " 25  delinq_2yrs                  887350 non-null  float64\n",
      " 26  earliest_cr_line             887350 non-null  object \n",
      " 27  inq_last_6mths               887350 non-null  float64\n",
      " 28  mths_since_last_delinq       433067 non-null  float64\n",
      " 29  mths_since_last_record       137053 non-null  float64\n",
      " 30  open_acc                     887350 non-null  float64\n",
      " 31  pub_rec                      887350 non-null  float64\n",
      " 32  revol_bal                    887379 non-null  float64\n",
      " 33  revol_util                   886877 non-null  float64\n",
      " 34  total_acc                    887350 non-null  float64\n",
      " 35  initial_list_status          887379 non-null  object \n",
      " 36  out_prncp                    887379 non-null  float64\n",
      " 37  out_prncp_inv                887379 non-null  float64\n",
      " 38  total_pymnt                  887379 non-null  float64\n",
      " 39  total_pymnt_inv              887379 non-null  float64\n",
      " 40  total_rec_prncp              887379 non-null  float64\n",
      " 41  total_rec_int                887379 non-null  float64\n",
      " 42  total_rec_late_fee           887379 non-null  float64\n",
      " 43  recoveries                   887379 non-null  float64\n",
      " 44  collection_recovery_fee      887379 non-null  float64\n",
      " 45  last_pymnt_d                 869720 non-null  object \n",
      " 46  last_pymnt_amnt              887379 non-null  float64\n",
      " 47  next_pymnt_d                 634408 non-null  object \n",
      " 48  last_credit_pull_d           887326 non-null  object \n",
      " 49  collections_12_mths_ex_med   887234 non-null  float64\n",
      " 50  mths_since_last_major_derog  221703 non-null  float64\n",
      " 51  policy_code                  887379 non-null  float64\n",
      " 52  application_type             887379 non-null  object \n",
      " 53  annual_inc_joint             511 non-null     float64\n",
      " 54  dti_joint                    509 non-null     float64\n",
      " 55  verification_status_joint    511 non-null     object \n",
      " 56  acc_now_delinq               887350 non-null  float64\n",
      " 57  tot_coll_amt                 817103 non-null  float64\n",
      " 58  tot_cur_bal                  817103 non-null  float64\n",
      " 59  open_acc_6m                  21372 non-null   float64\n",
      " 60  open_il_6m                   21372 non-null   float64\n",
      " 61  open_il_12m                  21372 non-null   float64\n",
      " 62  open_il_24m                  21372 non-null   float64\n",
      " 63  mths_since_rcnt_il           20810 non-null   float64\n",
      " 64  total_bal_il                 21372 non-null   float64\n",
      " 65  il_util                      18617 non-null   float64\n",
      " 66  open_rv_12m                  21372 non-null   float64\n",
      " 67  open_rv_24m                  21372 non-null   float64\n",
      " 68  max_bal_bc                   21372 non-null   float64\n",
      " 69  all_util                     21372 non-null   float64\n",
      " 70  total_rev_hi_lim             817103 non-null  float64\n",
      " 71  inq_fi                       21372 non-null   float64\n",
      " 72  total_cu_tl                  21372 non-null   float64\n",
      " 73  inq_last_12m                 21372 non-null   float64\n",
      "dtypes: float64(49), int64(2), object(23)\n",
      "memory usage: 501.0+ MB\n"
     ]
    }
   ],
   "source": [
    "df_loan.info()"
   ],
   "metadata": {
    "collapsed": false
   }
  },
  {
   "cell_type": "markdown",
   "source": [
    "# 2删除不相关列\n",
    "Removing Irrelevant columns\n",
    "新的数据集保留较为重要的11列，而删除其他列"
   ],
   "metadata": {
    "collapsed": false
   }
  },
  {
   "cell_type": "code",
   "execution_count": 4,
   "outputs": [
    {
     "data": {
      "text/plain": "   loan_amnt        term  int_rate  installment grade emp_length  \\\n0     5000.0   36 months     10.65       162.87     B  10+ years   \n1     2500.0   60 months     15.27        59.83     C   < 1 year   \n2     2400.0   36 months     15.96        84.33     C  10+ years   \n3    10000.0   36 months     13.49       339.31     C  10+ years   \n4     3000.0   60 months     12.69        67.79     B     1 year   \n5     5000.0   36 months      7.90       156.46     A    3 years   \n6     7000.0   60 months     15.96       170.08     C    8 years   \n7     3000.0   36 months     18.64       109.43     E    9 years   \n8     5600.0   60 months     21.28       152.39     F    4 years   \n9     5375.0   60 months     12.69       121.45     B   < 1 year   \n\n  home_ownership  annual_inc verification_status  loan_status  \\\n0           RENT     24000.0            Verified   Fully Paid   \n1           RENT     30000.0     Source Verified  Charged Off   \n2           RENT     12252.0        Not Verified   Fully Paid   \n3           RENT     49200.0     Source Verified   Fully Paid   \n4           RENT     80000.0     Source Verified      Current   \n5           RENT     36000.0     Source Verified   Fully Paid   \n6           RENT     47004.0        Not Verified      Current   \n7           RENT     48000.0     Source Verified   Fully Paid   \n8            OWN     40000.0     Source Verified  Charged Off   \n9           RENT     15000.0            Verified  Charged Off   \n\n              purpose  \n0         credit_card  \n1                 car  \n2      small_business  \n3               other  \n4               other  \n5             wedding  \n6  debt_consolidation  \n7                 car  \n8      small_business  \n9               other  ",
      "text/html": "<div>\n<style scoped>\n    .dataframe tbody tr th:only-of-type {\n        vertical-align: middle;\n    }\n\n    .dataframe tbody tr th {\n        vertical-align: top;\n    }\n\n    .dataframe thead th {\n        text-align: right;\n    }\n</style>\n<table border=\"1\" class=\"dataframe\">\n  <thead>\n    <tr style=\"text-align: right;\">\n      <th></th>\n      <th>loan_amnt</th>\n      <th>term</th>\n      <th>int_rate</th>\n      <th>installment</th>\n      <th>grade</th>\n      <th>emp_length</th>\n      <th>home_ownership</th>\n      <th>annual_inc</th>\n      <th>verification_status</th>\n      <th>loan_status</th>\n      <th>purpose</th>\n    </tr>\n  </thead>\n  <tbody>\n    <tr>\n      <th>0</th>\n      <td>5000.0</td>\n      <td>36 months</td>\n      <td>10.65</td>\n      <td>162.87</td>\n      <td>B</td>\n      <td>10+ years</td>\n      <td>RENT</td>\n      <td>24000.0</td>\n      <td>Verified</td>\n      <td>Fully Paid</td>\n      <td>credit_card</td>\n    </tr>\n    <tr>\n      <th>1</th>\n      <td>2500.0</td>\n      <td>60 months</td>\n      <td>15.27</td>\n      <td>59.83</td>\n      <td>C</td>\n      <td>&lt; 1 year</td>\n      <td>RENT</td>\n      <td>30000.0</td>\n      <td>Source Verified</td>\n      <td>Charged Off</td>\n      <td>car</td>\n    </tr>\n    <tr>\n      <th>2</th>\n      <td>2400.0</td>\n      <td>36 months</td>\n      <td>15.96</td>\n      <td>84.33</td>\n      <td>C</td>\n      <td>10+ years</td>\n      <td>RENT</td>\n      <td>12252.0</td>\n      <td>Not Verified</td>\n      <td>Fully Paid</td>\n      <td>small_business</td>\n    </tr>\n    <tr>\n      <th>3</th>\n      <td>10000.0</td>\n      <td>36 months</td>\n      <td>13.49</td>\n      <td>339.31</td>\n      <td>C</td>\n      <td>10+ years</td>\n      <td>RENT</td>\n      <td>49200.0</td>\n      <td>Source Verified</td>\n      <td>Fully Paid</td>\n      <td>other</td>\n    </tr>\n    <tr>\n      <th>4</th>\n      <td>3000.0</td>\n      <td>60 months</td>\n      <td>12.69</td>\n      <td>67.79</td>\n      <td>B</td>\n      <td>1 year</td>\n      <td>RENT</td>\n      <td>80000.0</td>\n      <td>Source Verified</td>\n      <td>Current</td>\n      <td>other</td>\n    </tr>\n    <tr>\n      <th>5</th>\n      <td>5000.0</td>\n      <td>36 months</td>\n      <td>7.90</td>\n      <td>156.46</td>\n      <td>A</td>\n      <td>3 years</td>\n      <td>RENT</td>\n      <td>36000.0</td>\n      <td>Source Verified</td>\n      <td>Fully Paid</td>\n      <td>wedding</td>\n    </tr>\n    <tr>\n      <th>6</th>\n      <td>7000.0</td>\n      <td>60 months</td>\n      <td>15.96</td>\n      <td>170.08</td>\n      <td>C</td>\n      <td>8 years</td>\n      <td>RENT</td>\n      <td>47004.0</td>\n      <td>Not Verified</td>\n      <td>Current</td>\n      <td>debt_consolidation</td>\n    </tr>\n    <tr>\n      <th>7</th>\n      <td>3000.0</td>\n      <td>36 months</td>\n      <td>18.64</td>\n      <td>109.43</td>\n      <td>E</td>\n      <td>9 years</td>\n      <td>RENT</td>\n      <td>48000.0</td>\n      <td>Source Verified</td>\n      <td>Fully Paid</td>\n      <td>car</td>\n    </tr>\n    <tr>\n      <th>8</th>\n      <td>5600.0</td>\n      <td>60 months</td>\n      <td>21.28</td>\n      <td>152.39</td>\n      <td>F</td>\n      <td>4 years</td>\n      <td>OWN</td>\n      <td>40000.0</td>\n      <td>Source Verified</td>\n      <td>Charged Off</td>\n      <td>small_business</td>\n    </tr>\n    <tr>\n      <th>9</th>\n      <td>5375.0</td>\n      <td>60 months</td>\n      <td>12.69</td>\n      <td>121.45</td>\n      <td>B</td>\n      <td>&lt; 1 year</td>\n      <td>RENT</td>\n      <td>15000.0</td>\n      <td>Verified</td>\n      <td>Charged Off</td>\n      <td>other</td>\n    </tr>\n  </tbody>\n</table>\n</div>"
     },
     "execution_count": 4,
     "metadata": {},
     "output_type": "execute_result"
    }
   ],
   "source": [
    "savedColumns = ['loan_amnt','term','int_rate','installment','grade','emp_length','home_ownership','annual_inc','verification_status','loan_status','purpose',]\n",
    "df_loan.drop(df_loan.columns.difference(savedColumns), axis=1, inplace=True)\n",
    "df_loan.head(10)"
   ],
   "metadata": {
    "collapsed": false
   }
  },
  {
   "cell_type": "code",
   "execution_count": 5,
   "outputs": [
    {
     "data": {
      "text/plain": "loan_amnt                  0\nterm                       0\nint_rate                   0\ninstallment                0\ngrade                      0\nemp_length             44825\nhome_ownership             0\nannual_inc                 4\nverification_status        0\nloan_status                0\npurpose                    0\ndtype: int64"
     },
     "execution_count": 5,
     "metadata": {},
     "output_type": "execute_result"
    }
   ],
   "source": [
    "df_loan.isnull().sum()"
   ],
   "metadata": {
    "collapsed": false
   }
  },
  {
   "cell_type": "code",
   "execution_count": 6,
   "outputs": [
    {
     "name": "stdout",
     "output_type": "stream",
     "text": [
      "<class 'pandas.core.frame.DataFrame'>\n",
      "RangeIndex: 887379 entries, 0 to 887378\n",
      "Data columns (total 11 columns):\n",
      " #   Column               Non-Null Count   Dtype  \n",
      "---  ------               --------------   -----  \n",
      " 0   loan_amnt            887379 non-null  float64\n",
      " 1   term                 887379 non-null  object \n",
      " 2   int_rate             887379 non-null  float64\n",
      " 3   installment          887379 non-null  float64\n",
      " 4   grade                887379 non-null  object \n",
      " 5   emp_length           842554 non-null  object \n",
      " 6   home_ownership       887379 non-null  object \n",
      " 7   annual_inc           887375 non-null  float64\n",
      " 8   verification_status  887379 non-null  object \n",
      " 9   loan_status          887379 non-null  object \n",
      " 10  purpose              887379 non-null  object \n",
      "dtypes: float64(4), object(7)\n",
      "memory usage: 74.5+ MB\n"
     ]
    }
   ],
   "source": [
    "df_loan.info()"
   ],
   "metadata": {
    "collapsed": false
   }
  },
  {
   "cell_type": "markdown",
   "source": [
    "annual_inc列（年收入）缺失数据填充为0，emp_length列（工作年限）缺失数据暂时不处理（未来使用该数据集时可能删除缺失的数据）"
   ],
   "metadata": {
    "collapsed": false
   }
  },
  {
   "cell_type": "code",
   "execution_count": 7,
   "outputs": [
    {
     "name": "stdout",
     "output_type": "stream",
     "text": [
      "<class 'pandas.core.frame.DataFrame'>\n",
      "Index: 842554 entries, 0 to 887378\n",
      "Data columns (total 11 columns):\n",
      " #   Column               Non-Null Count   Dtype  \n",
      "---  ------               --------------   -----  \n",
      " 0   loan_amnt            842554 non-null  float64\n",
      " 1   term                 842554 non-null  object \n",
      " 2   int_rate             842554 non-null  float64\n",
      " 3   installment          842554 non-null  float64\n",
      " 4   grade                842554 non-null  object \n",
      " 5   emp_length           842554 non-null  object \n",
      " 6   home_ownership       842554 non-null  object \n",
      " 7   annual_inc           842554 non-null  float64\n",
      " 8   verification_status  842554 non-null  object \n",
      " 9   loan_status          842554 non-null  object \n",
      " 10  purpose              842554 non-null  object \n",
      "dtypes: float64(4), object(7)\n",
      "memory usage: 77.1+ MB\n"
     ]
    }
   ],
   "source": [
    "df_loan.annual_inc = df_loan.annual_inc.fillna(0)\n",
    "df_loan.dropna(subset=['emp_length'], inplace=True)\n",
    "df_loan.info()"
   ],
   "metadata": {
    "collapsed": false
   }
  },
  {
   "cell_type": "markdown",
   "source": [
    "# 3创建标签列，描述贷款状态\n",
    "将标签列loan_status（贷款状态）二元分类\n",
    "0：低风险\n",
    "1：高风险"
   ],
   "metadata": {
    "collapsed": false
   }
  },
  {
   "cell_type": "code",
   "execution_count": 8,
   "outputs": [
    {
     "name": "stdout",
     "output_type": "stream",
     "text": [
      "BEFORE binary classification:\n",
      " loan_status\n",
      "Current                                                568686\n",
      "Fully Paid                                             200351\n",
      "Charged Off                                             42723\n",
      "Late (31-120 days)                                      10872\n",
      "Issued                                                   7829\n",
      "In Grace Period                                          6015\n",
      "Late (16-30 days)                                        2215\n",
      "Does not meet the credit policy. Status:Fully Paid       1969\n",
      "Default                                                  1148\n",
      "Does not meet the credit policy. Status:Charged Off       746\n",
      "Name: count, dtype: int64\n",
      "AFTER binary classification:\n",
      " label\n",
      "0.0    771006\n",
      "1.0     63719\n",
      "Name: count, dtype: int64\n"
     ]
    }
   ],
   "source": [
    "#统计分类前所有status出现的次数\n",
    "counts = df_loan['loan_status'].value_counts()\n",
    "print(\"BEFORE binary classification:\\n\",counts)\n",
    "# binary classification\n",
    "label_categories = [\n",
    "    (0, ['Fully Paid', 'Does not meet the credit policy. Status:Fully Paid', 'Current']),\n",
    "    (1, ['Late (31-120 days)', 'Late (16-30 days)', 'In Grace Period',\n",
    "         'Charged Off', 'Default', 'Does not meet the credit policy. Status:Charged Off'])\n",
    "]\n",
    "\n",
    "# function to apply the transformation\n",
    "def classify_label(text):\n",
    "    for category, matches in label_categories:\n",
    "        if any(match in text for match in matches):\n",
    "            return category\n",
    "    return None\n",
    "\n",
    "df_loan.loc[:, 'label'] = df_loan['loan_status'].apply(classify_label)\n",
    "df_loan = df_loan.drop('loan_status', axis=1)\n",
    "\n",
    "#统计分类后新标签label的出现次数\n",
    "counts = df_loan['label'].value_counts()\n",
    "print(\"AFTER binary classification:\\n\",counts)"
   ],
   "metadata": {
    "collapsed": false
   }
  },
  {
   "cell_type": "markdown",
   "source": [
    "将某些标称属性和序数属性，统统转为纯数字的表示形式"
   ],
   "metadata": {
    "collapsed": false
   }
  },
  {
   "cell_type": "code",
   "execution_count": 9,
   "outputs": [
    {
     "data": {
      "text/plain": "   loan_amnt        term  int_rate  installment  grade  emp_length  \\\n0     5000.0   36 months     10.65       162.87      4          12   \n1     2500.0   60 months     15.27        59.83      3           1   \n2     2400.0   36 months     15.96        84.33      3          12   \n3    10000.0   36 months     13.49       339.31      3          12   \n4     3000.0   60 months     12.69        67.79      4           2   \n5     5000.0   36 months      7.90       156.46      5           4   \n6     7000.0   60 months     15.96       170.08      3           9   \n7     3000.0   36 months     18.64       109.43      1          10   \n8     5600.0   60 months     21.28       152.39      0           5   \n9     5375.0   60 months     12.69       121.45      4           1   \n\n   home_ownership  annual_inc verification_status             purpose  label  \n0               1     24000.0            Verified         credit_card    0.0  \n1               1     30000.0     Source Verified                 car    1.0  \n2               1     12252.0        Not Verified      small_business    0.0  \n3               1     49200.0     Source Verified               other    0.0  \n4               1     80000.0     Source Verified               other    0.0  \n5               1     36000.0     Source Verified             wedding    0.0  \n6               1     47004.0        Not Verified  debt_consolidation    0.0  \n7               1     48000.0     Source Verified                 car    0.0  \n8               3     40000.0     Source Verified      small_business    1.0  \n9               1     15000.0            Verified               other    1.0  ",
      "text/html": "<div>\n<style scoped>\n    .dataframe tbody tr th:only-of-type {\n        vertical-align: middle;\n    }\n\n    .dataframe tbody tr th {\n        vertical-align: top;\n    }\n\n    .dataframe thead th {\n        text-align: right;\n    }\n</style>\n<table border=\"1\" class=\"dataframe\">\n  <thead>\n    <tr style=\"text-align: right;\">\n      <th></th>\n      <th>loan_amnt</th>\n      <th>term</th>\n      <th>int_rate</th>\n      <th>installment</th>\n      <th>grade</th>\n      <th>emp_length</th>\n      <th>home_ownership</th>\n      <th>annual_inc</th>\n      <th>verification_status</th>\n      <th>purpose</th>\n      <th>label</th>\n    </tr>\n  </thead>\n  <tbody>\n    <tr>\n      <th>0</th>\n      <td>5000.0</td>\n      <td>36 months</td>\n      <td>10.65</td>\n      <td>162.87</td>\n      <td>4</td>\n      <td>12</td>\n      <td>1</td>\n      <td>24000.0</td>\n      <td>Verified</td>\n      <td>credit_card</td>\n      <td>0.0</td>\n    </tr>\n    <tr>\n      <th>1</th>\n      <td>2500.0</td>\n      <td>60 months</td>\n      <td>15.27</td>\n      <td>59.83</td>\n      <td>3</td>\n      <td>1</td>\n      <td>1</td>\n      <td>30000.0</td>\n      <td>Source Verified</td>\n      <td>car</td>\n      <td>1.0</td>\n    </tr>\n    <tr>\n      <th>2</th>\n      <td>2400.0</td>\n      <td>36 months</td>\n      <td>15.96</td>\n      <td>84.33</td>\n      <td>3</td>\n      <td>12</td>\n      <td>1</td>\n      <td>12252.0</td>\n      <td>Not Verified</td>\n      <td>small_business</td>\n      <td>0.0</td>\n    </tr>\n    <tr>\n      <th>3</th>\n      <td>10000.0</td>\n      <td>36 months</td>\n      <td>13.49</td>\n      <td>339.31</td>\n      <td>3</td>\n      <td>12</td>\n      <td>1</td>\n      <td>49200.0</td>\n      <td>Source Verified</td>\n      <td>other</td>\n      <td>0.0</td>\n    </tr>\n    <tr>\n      <th>4</th>\n      <td>3000.0</td>\n      <td>60 months</td>\n      <td>12.69</td>\n      <td>67.79</td>\n      <td>4</td>\n      <td>2</td>\n      <td>1</td>\n      <td>80000.0</td>\n      <td>Source Verified</td>\n      <td>other</td>\n      <td>0.0</td>\n    </tr>\n    <tr>\n      <th>5</th>\n      <td>5000.0</td>\n      <td>36 months</td>\n      <td>7.90</td>\n      <td>156.46</td>\n      <td>5</td>\n      <td>4</td>\n      <td>1</td>\n      <td>36000.0</td>\n      <td>Source Verified</td>\n      <td>wedding</td>\n      <td>0.0</td>\n    </tr>\n    <tr>\n      <th>6</th>\n      <td>7000.0</td>\n      <td>60 months</td>\n      <td>15.96</td>\n      <td>170.08</td>\n      <td>3</td>\n      <td>9</td>\n      <td>1</td>\n      <td>47004.0</td>\n      <td>Not Verified</td>\n      <td>debt_consolidation</td>\n      <td>0.0</td>\n    </tr>\n    <tr>\n      <th>7</th>\n      <td>3000.0</td>\n      <td>36 months</td>\n      <td>18.64</td>\n      <td>109.43</td>\n      <td>1</td>\n      <td>10</td>\n      <td>1</td>\n      <td>48000.0</td>\n      <td>Source Verified</td>\n      <td>car</td>\n      <td>0.0</td>\n    </tr>\n    <tr>\n      <th>8</th>\n      <td>5600.0</td>\n      <td>60 months</td>\n      <td>21.28</td>\n      <td>152.39</td>\n      <td>0</td>\n      <td>5</td>\n      <td>3</td>\n      <td>40000.0</td>\n      <td>Source Verified</td>\n      <td>small_business</td>\n      <td>1.0</td>\n    </tr>\n    <tr>\n      <th>9</th>\n      <td>5375.0</td>\n      <td>60 months</td>\n      <td>12.69</td>\n      <td>121.45</td>\n      <td>4</td>\n      <td>1</td>\n      <td>1</td>\n      <td>15000.0</td>\n      <td>Verified</td>\n      <td>other</td>\n      <td>1.0</td>\n    </tr>\n  </tbody>\n</table>\n</div>"
     },
     "execution_count": 9,
     "metadata": {},
     "output_type": "execute_result"
    }
   ],
   "source": [
    "def SC_LabelEncoder1(text):\n",
    "    if text == \"E\":\n",
    "        return 1\n",
    "    elif text == \"D\":\n",
    "        return 2\n",
    "    elif text == \"C\":\n",
    "        return 3\n",
    "    elif text == \"B\":\n",
    "        return 4\n",
    "    elif text == \"A\":\n",
    "        return 5\n",
    "    else:\n",
    "        return 0\n",
    "\n",
    "\n",
    "def SC_LabelEncoder2(text):\n",
    "    if text == \"< 1 year\":\n",
    "        return 1\n",
    "    elif text == \"1 year\":\n",
    "        return 2\n",
    "    elif text == \"2 years\":\n",
    "        return 3\n",
    "    elif text == \"3 years\":\n",
    "        return 4\n",
    "    elif text == \"4 years\":\n",
    "        return 5\n",
    "    elif text == \"5 years\":\n",
    "        return 6\n",
    "    elif text == \"6 years\":\n",
    "        return 7\n",
    "    elif text == \"7 years\":\n",
    "        return 8\n",
    "    elif text == \"8 years\":\n",
    "        return 9\n",
    "    elif text == \"9 years\":\n",
    "        return 10\n",
    "    elif text == \"10 years\":\n",
    "        return 11\n",
    "    elif text == \"10+ years\":\n",
    "        return 12\n",
    "    else:\n",
    "        return 0\n",
    "\n",
    "def SC_LabelEncoder3(text):\n",
    "    if text == \"RENT\":\n",
    "        return 1\n",
    "    elif text == \"MORTGAGE\":\n",
    "        return 2\n",
    "    elif text == \"OWN\":\n",
    "        return 3\n",
    "    else:\n",
    "        return 0\n",
    "\n",
    "df_loan[\"grade\"] = df_loan[\"grade\"].apply(SC_LabelEncoder1)\n",
    "df_loan[\"emp_length\"] = df_loan[\"emp_length\"].apply(SC_LabelEncoder2)\n",
    "df_loan[\"home_ownership\"] = df_loan[\"home_ownership\"].apply(SC_LabelEncoder3)\n",
    "df_loan.head(10)"
   ],
   "metadata": {
    "collapsed": false
   }
  },
  {
   "cell_type": "code",
   "execution_count": 10,
   "outputs": [
    {
     "name": "stdout",
     "output_type": "stream",
     "text": [
      "<class 'pandas.core.frame.DataFrame'>\n",
      "Index: 842554 entries, 0 to 887378\n",
      "Data columns (total 11 columns):\n",
      " #   Column               Non-Null Count   Dtype  \n",
      "---  ------               --------------   -----  \n",
      " 0   loan_amnt            842554 non-null  float64\n",
      " 1   term                 842554 non-null  object \n",
      " 2   int_rate             842554 non-null  float64\n",
      " 3   installment          842554 non-null  float64\n",
      " 4   grade                842554 non-null  int64  \n",
      " 5   emp_length           842554 non-null  int64  \n",
      " 6   home_ownership       842554 non-null  int64  \n",
      " 7   annual_inc           842554 non-null  float64\n",
      " 8   verification_status  842554 non-null  object \n",
      " 9   purpose              842554 non-null  object \n",
      " 10  label                834725 non-null  float64\n",
      "dtypes: float64(5), int64(3), object(3)\n",
      "memory usage: 77.1+ MB\n"
     ]
    }
   ],
   "source": [
    "df_loan.info()"
   ],
   "metadata": {
    "collapsed": false
   }
  },
  {
   "cell_type": "markdown",
   "source": [
    "# 4离散性数据处理\n",
    "verification_status(认证状态), purpose(贷款目的),term(贷款期数)"
   ],
   "metadata": {
    "collapsed": false
   }
  },
  {
   "cell_type": "code",
   "execution_count": 11,
   "outputs": [
    {
     "data": {
      "text/plain": "   loan_amnt  term  int_rate  installment  grade  emp_length  home_ownership  \\\n0     5000.0     0     10.65       162.87      4          12               1   \n1     2500.0     1     15.27        59.83      3           1               1   \n2     2400.0     0     15.96        84.33      3          12               1   \n3    10000.0     0     13.49       339.31      3          12               1   \n4     3000.0     1     12.69        67.79      4           2               1   \n\n   annual_inc  verification_status  purpose  label  \n0     24000.0                    2        1    0.0  \n1     30000.0                    1        0    1.0  \n2     12252.0                    0       11    0.0  \n3     49200.0                    1        9    0.0  \n4     80000.0                    1        9    0.0  ",
      "text/html": "<div>\n<style scoped>\n    .dataframe tbody tr th:only-of-type {\n        vertical-align: middle;\n    }\n\n    .dataframe tbody tr th {\n        vertical-align: top;\n    }\n\n    .dataframe thead th {\n        text-align: right;\n    }\n</style>\n<table border=\"1\" class=\"dataframe\">\n  <thead>\n    <tr style=\"text-align: right;\">\n      <th></th>\n      <th>loan_amnt</th>\n      <th>term</th>\n      <th>int_rate</th>\n      <th>installment</th>\n      <th>grade</th>\n      <th>emp_length</th>\n      <th>home_ownership</th>\n      <th>annual_inc</th>\n      <th>verification_status</th>\n      <th>purpose</th>\n      <th>label</th>\n    </tr>\n  </thead>\n  <tbody>\n    <tr>\n      <th>0</th>\n      <td>5000.0</td>\n      <td>0</td>\n      <td>10.65</td>\n      <td>162.87</td>\n      <td>4</td>\n      <td>12</td>\n      <td>1</td>\n      <td>24000.0</td>\n      <td>2</td>\n      <td>1</td>\n      <td>0.0</td>\n    </tr>\n    <tr>\n      <th>1</th>\n      <td>2500.0</td>\n      <td>1</td>\n      <td>15.27</td>\n      <td>59.83</td>\n      <td>3</td>\n      <td>1</td>\n      <td>1</td>\n      <td>30000.0</td>\n      <td>1</td>\n      <td>0</td>\n      <td>1.0</td>\n    </tr>\n    <tr>\n      <th>2</th>\n      <td>2400.0</td>\n      <td>0</td>\n      <td>15.96</td>\n      <td>84.33</td>\n      <td>3</td>\n      <td>12</td>\n      <td>1</td>\n      <td>12252.0</td>\n      <td>0</td>\n      <td>11</td>\n      <td>0.0</td>\n    </tr>\n    <tr>\n      <th>3</th>\n      <td>10000.0</td>\n      <td>0</td>\n      <td>13.49</td>\n      <td>339.31</td>\n      <td>3</td>\n      <td>12</td>\n      <td>1</td>\n      <td>49200.0</td>\n      <td>1</td>\n      <td>9</td>\n      <td>0.0</td>\n    </tr>\n    <tr>\n      <th>4</th>\n      <td>3000.0</td>\n      <td>1</td>\n      <td>12.69</td>\n      <td>67.79</td>\n      <td>4</td>\n      <td>2</td>\n      <td>1</td>\n      <td>80000.0</td>\n      <td>1</td>\n      <td>9</td>\n      <td>0.0</td>\n    </tr>\n  </tbody>\n</table>\n</div>"
     },
     "execution_count": 11,
     "metadata": {},
     "output_type": "execute_result"
    }
   ],
   "source": [
    "# use LabelEncoder() to encode another category column:\n",
    "for col in [\"verification_status\", \"purpose\",\"term\"]:\n",
    "    le = LabelEncoder()\n",
    "    le.fit(df_loan[col])\n",
    "    df_loan[col] = le.transform(df_loan[col])\n",
    "df_loan.head()"
   ],
   "metadata": {
    "collapsed": false
   }
  },
  {
   "cell_type": "code",
   "execution_count": 18,
   "outputs": [
    {
     "name": "stdout",
     "output_type": "stream",
     "text": [
      "<class 'pandas.core.frame.DataFrame'>\n",
      "Index: 842554 entries, 0 to 887378\n",
      "Data columns (total 11 columns):\n",
      " #   Column               Non-Null Count   Dtype  \n",
      "---  ------               --------------   -----  \n",
      " 0   loan_amnt            842554 non-null  float64\n",
      " 1   term                 842554 non-null  int64  \n",
      " 2   int_rate             842554 non-null  float64\n",
      " 3   installment          842554 non-null  float64\n",
      " 4   grade                842554 non-null  int64  \n",
      " 5   emp_length           842554 non-null  int64  \n",
      " 6   home_ownership       842554 non-null  int64  \n",
      " 7   annual_inc           842554 non-null  float64\n",
      " 8   verification_status  842554 non-null  int64  \n",
      " 9   purpose              842554 non-null  int64  \n",
      " 10  label                834725 non-null  float64\n",
      "dtypes: float64(5), int64(6)\n",
      "memory usage: 77.1 MB\n"
     ]
    }
   ],
   "source": [
    "df_loan.info()"
   ],
   "metadata": {
    "collapsed": false
   }
  },
  {
   "cell_type": "code",
   "execution_count": 21,
   "outputs": [
    {
     "name": "stdout",
     "output_type": "stream",
     "text": [
      "<class 'pandas.core.frame.DataFrame'>\n",
      "Index: 834725 entries, 0 to 887378\n",
      "Data columns (total 11 columns):\n",
      " #   Column               Non-Null Count   Dtype  \n",
      "---  ------               --------------   -----  \n",
      " 0   loan_amnt            834725 non-null  float64\n",
      " 1   term                 834725 non-null  int64  \n",
      " 2   int_rate             834725 non-null  float64\n",
      " 3   installment          834725 non-null  float64\n",
      " 4   grade                834725 non-null  int64  \n",
      " 5   emp_length           834725 non-null  int64  \n",
      " 6   home_ownership       834725 non-null  int64  \n",
      " 7   annual_inc           834725 non-null  float64\n",
      " 8   verification_status  834725 non-null  int64  \n",
      " 9   purpose              834725 non-null  int64  \n",
      " 10  label                834725 non-null  float64\n",
      "dtypes: float64(5), int64(6)\n",
      "memory usage: 76.4 MB\n"
     ]
    }
   ],
   "source": [
    "df_loan.dropna(subset=['label'], inplace=True)\n",
    "df_loan.info()"
   ],
   "metadata": {
    "collapsed": false
   }
  },
  {
   "cell_type": "code",
   "execution_count": 22,
   "outputs": [],
   "source": [
    "# 将处理后的数据集保存为新的csv文件\n",
    "df_loan.to_csv('/Users/mxfmeng/PycharmProjects/GraduationDesign/dataset/loan_new.csv', index=False)"
   ],
   "metadata": {
    "collapsed": false
   }
  },
  {
   "cell_type": "code",
   "execution_count": null,
   "outputs": [],
   "source": [
    "\n"
   ],
   "metadata": {
    "collapsed": false
   }
  }
 ],
 "metadata": {
  "kernelspec": {
   "display_name": "Python 3",
   "language": "python",
   "name": "python3"
  },
  "language_info": {
   "codemirror_mode": {
    "name": "ipython",
    "version": 2
   },
   "file_extension": ".py",
   "mimetype": "text/x-python",
   "name": "python",
   "nbconvert_exporter": "python",
   "pygments_lexer": "ipython2",
   "version": "2.7.6"
  }
 },
 "nbformat": 4,
 "nbformat_minor": 0
}
