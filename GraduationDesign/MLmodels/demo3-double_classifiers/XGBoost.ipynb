{
 "cells": [
  {
   "cell_type": "code",
   "execution_count": 2,
   "metadata": {
    "collapsed": true
   },
   "outputs": [
    {
     "data": {
      "text/plain": "   loan_amnt  term  int_rate  installment  grade  emp_length  home_ownership  \\\n0    27050.0     0     10.99       885.46      4          12               3   \n1     9750.0     0     13.98       333.14      3           2               1   \n2    12000.0     0      6.62       368.45      5          12               2   \n3    12000.0     0     13.53       407.40      4          12               1   \n4    15000.0     0      8.90       476.30      5           3               2   \n5    12000.0     0     11.99       398.52      4          12               2   \n6    14000.0     0     12.85       470.71      4           5               1   \n\n   annual_inc  verification_status loan_status  ...  revol_util  total_acc  \\\n0     55000.0                    2     Current  ...        61.2       27.0   \n1     26000.0                    0     Current  ...        52.8       28.0   \n2    105000.0                    0     Current  ...        21.6       22.0   \n3     40000.0                    1  Fully Paid  ...        68.8       32.0   \n4     63000.0                    0     Current  ...        74.2       29.0   \n5    130000.0                    1     Current  ...        67.0       19.0   \n6     88000.0                    0     Current  ...        81.9       14.0   \n\n   total_pymnt  total_rec_late_fee  last_pymnt_amnt  application_type  \\\n0     21251.04                 0.0           885.46                 0   \n1      7994.83                 0.0           333.14                 0   \n2      8842.80                 0.0           368.45                 0   \n3     13359.77                 0.0           119.17                 0   \n4     11431.20                 0.0           476.30                 0   \n5      9564.40                 0.0           398.52                 0   \n6     11296.94                 0.0           470.71                 0   \n\n   acc_now_delinq  tot_coll_amt  tot_cur_bal  label  \n0             0.0           0.0     114834.0      1  \n1             0.0           0.0      14123.0      1  \n2             0.0           0.0     267646.0      1  \n3             0.0       15386.0      13605.0      0  \n4             0.0        1514.0     272492.0      1  \n5             0.0           0.0     327264.0      1  \n6             0.0           0.0      17672.0      1  \n\n[7 rows x 27 columns]",
      "text/html": "<div>\n<style scoped>\n    .dataframe tbody tr th:only-of-type {\n        vertical-align: middle;\n    }\n\n    .dataframe tbody tr th {\n        vertical-align: top;\n    }\n\n    .dataframe thead th {\n        text-align: right;\n    }\n</style>\n<table border=\"1\" class=\"dataframe\">\n  <thead>\n    <tr style=\"text-align: right;\">\n      <th></th>\n      <th>loan_amnt</th>\n      <th>term</th>\n      <th>int_rate</th>\n      <th>installment</th>\n      <th>grade</th>\n      <th>emp_length</th>\n      <th>home_ownership</th>\n      <th>annual_inc</th>\n      <th>verification_status</th>\n      <th>loan_status</th>\n      <th>...</th>\n      <th>revol_util</th>\n      <th>total_acc</th>\n      <th>total_pymnt</th>\n      <th>total_rec_late_fee</th>\n      <th>last_pymnt_amnt</th>\n      <th>application_type</th>\n      <th>acc_now_delinq</th>\n      <th>tot_coll_amt</th>\n      <th>tot_cur_bal</th>\n      <th>label</th>\n    </tr>\n  </thead>\n  <tbody>\n    <tr>\n      <th>0</th>\n      <td>27050.0</td>\n      <td>0</td>\n      <td>10.99</td>\n      <td>885.46</td>\n      <td>4</td>\n      <td>12</td>\n      <td>3</td>\n      <td>55000.0</td>\n      <td>2</td>\n      <td>Current</td>\n      <td>...</td>\n      <td>61.2</td>\n      <td>27.0</td>\n      <td>21251.04</td>\n      <td>0.0</td>\n      <td>885.46</td>\n      <td>0</td>\n      <td>0.0</td>\n      <td>0.0</td>\n      <td>114834.0</td>\n      <td>1</td>\n    </tr>\n    <tr>\n      <th>1</th>\n      <td>9750.0</td>\n      <td>0</td>\n      <td>13.98</td>\n      <td>333.14</td>\n      <td>3</td>\n      <td>2</td>\n      <td>1</td>\n      <td>26000.0</td>\n      <td>0</td>\n      <td>Current</td>\n      <td>...</td>\n      <td>52.8</td>\n      <td>28.0</td>\n      <td>7994.83</td>\n      <td>0.0</td>\n      <td>333.14</td>\n      <td>0</td>\n      <td>0.0</td>\n      <td>0.0</td>\n      <td>14123.0</td>\n      <td>1</td>\n    </tr>\n    <tr>\n      <th>2</th>\n      <td>12000.0</td>\n      <td>0</td>\n      <td>6.62</td>\n      <td>368.45</td>\n      <td>5</td>\n      <td>12</td>\n      <td>2</td>\n      <td>105000.0</td>\n      <td>0</td>\n      <td>Current</td>\n      <td>...</td>\n      <td>21.6</td>\n      <td>22.0</td>\n      <td>8842.80</td>\n      <td>0.0</td>\n      <td>368.45</td>\n      <td>0</td>\n      <td>0.0</td>\n      <td>0.0</td>\n      <td>267646.0</td>\n      <td>1</td>\n    </tr>\n    <tr>\n      <th>3</th>\n      <td>12000.0</td>\n      <td>0</td>\n      <td>13.53</td>\n      <td>407.40</td>\n      <td>4</td>\n      <td>12</td>\n      <td>1</td>\n      <td>40000.0</td>\n      <td>1</td>\n      <td>Fully Paid</td>\n      <td>...</td>\n      <td>68.8</td>\n      <td>32.0</td>\n      <td>13359.77</td>\n      <td>0.0</td>\n      <td>119.17</td>\n      <td>0</td>\n      <td>0.0</td>\n      <td>15386.0</td>\n      <td>13605.0</td>\n      <td>0</td>\n    </tr>\n    <tr>\n      <th>4</th>\n      <td>15000.0</td>\n      <td>0</td>\n      <td>8.90</td>\n      <td>476.30</td>\n      <td>5</td>\n      <td>3</td>\n      <td>2</td>\n      <td>63000.0</td>\n      <td>0</td>\n      <td>Current</td>\n      <td>...</td>\n      <td>74.2</td>\n      <td>29.0</td>\n      <td>11431.20</td>\n      <td>0.0</td>\n      <td>476.30</td>\n      <td>0</td>\n      <td>0.0</td>\n      <td>1514.0</td>\n      <td>272492.0</td>\n      <td>1</td>\n    </tr>\n    <tr>\n      <th>5</th>\n      <td>12000.0</td>\n      <td>0</td>\n      <td>11.99</td>\n      <td>398.52</td>\n      <td>4</td>\n      <td>12</td>\n      <td>2</td>\n      <td>130000.0</td>\n      <td>1</td>\n      <td>Current</td>\n      <td>...</td>\n      <td>67.0</td>\n      <td>19.0</td>\n      <td>9564.40</td>\n      <td>0.0</td>\n      <td>398.52</td>\n      <td>0</td>\n      <td>0.0</td>\n      <td>0.0</td>\n      <td>327264.0</td>\n      <td>1</td>\n    </tr>\n    <tr>\n      <th>6</th>\n      <td>14000.0</td>\n      <td>0</td>\n      <td>12.85</td>\n      <td>470.71</td>\n      <td>4</td>\n      <td>5</td>\n      <td>1</td>\n      <td>88000.0</td>\n      <td>0</td>\n      <td>Current</td>\n      <td>...</td>\n      <td>81.9</td>\n      <td>14.0</td>\n      <td>11296.94</td>\n      <td>0.0</td>\n      <td>470.71</td>\n      <td>0</td>\n      <td>0.0</td>\n      <td>0.0</td>\n      <td>17672.0</td>\n      <td>1</td>\n    </tr>\n  </tbody>\n</table>\n<p>7 rows × 27 columns</p>\n</div>"
     },
     "execution_count": 2,
     "metadata": {},
     "output_type": "execute_result"
    }
   ],
   "source": [
    "import numpy as np\n",
    "import pandas as pd\n",
    "import seaborn as sns\n",
    "import matplotlib.pyplot as plt\n",
    "from IPython.display import display, Markdown, Latex\n",
    "from xgboost import XGBClassifier\n",
    "\n",
    "sns.set_style('whitegrid')\n",
    "\n",
    "from sklearn.preprocessing import LabelEncoder\n",
    "from sklearn.model_selection import train_test_split\n",
    "from sklearn.neighbors import KNeighborsClassifier\n",
    "\n",
    "\n",
    "from sklearn.metrics import f1_score\n",
    "\n",
    "# 加载数据集\n",
    "df_loan = pd.read_csv(\"/Users/mxfmeng/PycharmProjects/GraduationDesign/MLmodels/dataset/loan_new_3_1.csv\")\n",
    "df_loan.head(7)"
   ]
  },
  {
   "cell_type": "code",
   "execution_count": 3,
   "outputs": [],
   "source": [
    "X = df_loan.drop(columns=[\"loan_status\", \"label\"])\n",
    "y = df_loan[[\"label\"]]\n",
    "X_train, X_test, y_train, y_test = train_test_split(X, y, test_size=0.2)"
   ],
   "metadata": {
    "collapsed": false
   }
  },
  {
   "cell_type": "code",
   "execution_count": 4,
   "outputs": [
    {
     "data": {
      "text/plain": "XGBClassifier(base_score=None, booster=None, callbacks=None,\n              colsample_bylevel=None, colsample_bynode=None,\n              colsample_bytree=None, early_stopping_rounds=None,\n              enable_categorical=False, eval_metric=None, feature_types=None,\n              gamma=None, gpu_id=None, grow_policy=None, importance_type=None,\n              interaction_constraints=None, learning_rate=None, max_bin=None,\n              max_cat_threshold=None, max_cat_to_onehot=None,\n              max_delta_step=None, max_depth=None, max_leaves=None,\n              min_child_weight=None, missing=nan, monotone_constraints=None,\n              n_estimators=100, n_jobs=None, num_parallel_tree=None,\n              objective='multi:softprob', predictor=None, ...)",
      "text/html": "<style>#sk-container-id-1 {color: black;}#sk-container-id-1 pre{padding: 0;}#sk-container-id-1 div.sk-toggleable {background-color: white;}#sk-container-id-1 label.sk-toggleable__label {cursor: pointer;display: block;width: 100%;margin-bottom: 0;padding: 0.3em;box-sizing: border-box;text-align: center;}#sk-container-id-1 label.sk-toggleable__label-arrow:before {content: \"▸\";float: left;margin-right: 0.25em;color: #696969;}#sk-container-id-1 label.sk-toggleable__label-arrow:hover:before {color: black;}#sk-container-id-1 div.sk-estimator:hover label.sk-toggleable__label-arrow:before {color: black;}#sk-container-id-1 div.sk-toggleable__content {max-height: 0;max-width: 0;overflow: hidden;text-align: left;background-color: #f0f8ff;}#sk-container-id-1 div.sk-toggleable__content pre {margin: 0.2em;color: black;border-radius: 0.25em;background-color: #f0f8ff;}#sk-container-id-1 input.sk-toggleable__control:checked~div.sk-toggleable__content {max-height: 200px;max-width: 100%;overflow: auto;}#sk-container-id-1 input.sk-toggleable__control:checked~label.sk-toggleable__label-arrow:before {content: \"▾\";}#sk-container-id-1 div.sk-estimator input.sk-toggleable__control:checked~label.sk-toggleable__label {background-color: #d4ebff;}#sk-container-id-1 div.sk-label input.sk-toggleable__control:checked~label.sk-toggleable__label {background-color: #d4ebff;}#sk-container-id-1 input.sk-hidden--visually {border: 0;clip: rect(1px 1px 1px 1px);clip: rect(1px, 1px, 1px, 1px);height: 1px;margin: -1px;overflow: hidden;padding: 0;position: absolute;width: 1px;}#sk-container-id-1 div.sk-estimator {font-family: monospace;background-color: #f0f8ff;border: 1px dotted black;border-radius: 0.25em;box-sizing: border-box;margin-bottom: 0.5em;}#sk-container-id-1 div.sk-estimator:hover {background-color: #d4ebff;}#sk-container-id-1 div.sk-parallel-item::after {content: \"\";width: 100%;border-bottom: 1px solid gray;flex-grow: 1;}#sk-container-id-1 div.sk-label:hover label.sk-toggleable__label {background-color: #d4ebff;}#sk-container-id-1 div.sk-serial::before {content: \"\";position: absolute;border-left: 1px solid gray;box-sizing: border-box;top: 0;bottom: 0;left: 50%;z-index: 0;}#sk-container-id-1 div.sk-serial {display: flex;flex-direction: column;align-items: center;background-color: white;padding-right: 0.2em;padding-left: 0.2em;position: relative;}#sk-container-id-1 div.sk-item {position: relative;z-index: 1;}#sk-container-id-1 div.sk-parallel {display: flex;align-items: stretch;justify-content: center;background-color: white;position: relative;}#sk-container-id-1 div.sk-item::before, #sk-container-id-1 div.sk-parallel-item::before {content: \"\";position: absolute;border-left: 1px solid gray;box-sizing: border-box;top: 0;bottom: 0;left: 50%;z-index: -1;}#sk-container-id-1 div.sk-parallel-item {display: flex;flex-direction: column;z-index: 1;position: relative;background-color: white;}#sk-container-id-1 div.sk-parallel-item:first-child::after {align-self: flex-end;width: 50%;}#sk-container-id-1 div.sk-parallel-item:last-child::after {align-self: flex-start;width: 50%;}#sk-container-id-1 div.sk-parallel-item:only-child::after {width: 0;}#sk-container-id-1 div.sk-dashed-wrapped {border: 1px dashed gray;margin: 0 0.4em 0.5em 0.4em;box-sizing: border-box;padding-bottom: 0.4em;background-color: white;}#sk-container-id-1 div.sk-label label {font-family: monospace;font-weight: bold;display: inline-block;line-height: 1.2em;}#sk-container-id-1 div.sk-label-container {text-align: center;}#sk-container-id-1 div.sk-container {/* jupyter's `normalize.less` sets `[hidden] { display: none; }` but bootstrap.min.css set `[hidden] { display: none !important; }` so we also need the `!important` here to be able to override the default hidden behavior on the sphinx rendered scikit-learn.org. See: https://github.com/scikit-learn/scikit-learn/issues/21755 */display: inline-block !important;position: relative;}#sk-container-id-1 div.sk-text-repr-fallback {display: none;}</style><div id=\"sk-container-id-1\" class=\"sk-top-container\"><div class=\"sk-text-repr-fallback\"><pre>XGBClassifier(base_score=None, booster=None, callbacks=None,\n              colsample_bylevel=None, colsample_bynode=None,\n              colsample_bytree=None, early_stopping_rounds=None,\n              enable_categorical=False, eval_metric=None, feature_types=None,\n              gamma=None, gpu_id=None, grow_policy=None, importance_type=None,\n              interaction_constraints=None, learning_rate=None, max_bin=None,\n              max_cat_threshold=None, max_cat_to_onehot=None,\n              max_delta_step=None, max_depth=None, max_leaves=None,\n              min_child_weight=None, missing=nan, monotone_constraints=None,\n              n_estimators=100, n_jobs=None, num_parallel_tree=None,\n              objective=&#x27;multi:softprob&#x27;, predictor=None, ...)</pre><b>In a Jupyter environment, please rerun this cell to show the HTML representation or trust the notebook. <br />On GitHub, the HTML representation is unable to render, please try loading this page with nbviewer.org.</b></div><div class=\"sk-container\" hidden><div class=\"sk-item\"><div class=\"sk-estimator sk-toggleable\"><input class=\"sk-toggleable__control sk-hidden--visually\" id=\"sk-estimator-id-1\" type=\"checkbox\" checked><label for=\"sk-estimator-id-1\" class=\"sk-toggleable__label sk-toggleable__label-arrow\">XGBClassifier</label><div class=\"sk-toggleable__content\"><pre>XGBClassifier(base_score=None, booster=None, callbacks=None,\n              colsample_bylevel=None, colsample_bynode=None,\n              colsample_bytree=None, early_stopping_rounds=None,\n              enable_categorical=False, eval_metric=None, feature_types=None,\n              gamma=None, gpu_id=None, grow_policy=None, importance_type=None,\n              interaction_constraints=None, learning_rate=None, max_bin=None,\n              max_cat_threshold=None, max_cat_to_onehot=None,\n              max_delta_step=None, max_depth=None, max_leaves=None,\n              min_child_weight=None, missing=nan, monotone_constraints=None,\n              n_estimators=100, n_jobs=None, num_parallel_tree=None,\n              objective=&#x27;multi:softprob&#x27;, predictor=None, ...)</pre></div></div></div></div></div>"
     },
     "execution_count": 4,
     "metadata": {},
     "output_type": "execute_result"
    }
   ],
   "source": [
    "xgboostModel = XGBClassifier()\n",
    "xgboostModel.fit(X_train,y_train)"
   ],
   "metadata": {
    "collapsed": false
   }
  },
  {
   "cell_type": "code",
   "execution_count": 6,
   "outputs": [
    {
     "name": "stdout",
     "output_type": "stream",
     "text": [
      "              precision    recall  f1-score   support\n",
      "\n",
      "           0       0.98      0.98      0.98     32215\n",
      "           1       0.93      0.99      0.96    119791\n",
      "           2       0.00      0.00      0.00      1973\n",
      "           3       0.93      0.38      0.54      9366\n",
      "\n",
      "    accuracy                           0.94    163345\n",
      "   macro avg       0.71      0.59      0.62    163345\n",
      "weighted avg       0.93      0.94      0.93    163345\n",
      "\n"
     ]
    }
   ],
   "source": [
    "print(classification_report(y_test, xgboostModel.predict(X_test.values)))"
   ],
   "metadata": {
    "collapsed": false
   }
  },
  {
   "cell_type": "code",
   "execution_count": 8,
   "outputs": [
    {
     "data": {
      "text/plain": "0.9429612170559246"
     },
     "execution_count": 8,
     "metadata": {},
     "output_type": "execute_result"
    }
   ],
   "source": [
    "from sklearn.metrics import classification_report, accuracy_score\n",
    "accuracy_score(y_test, xgboostModel.predict(X_test.values))"
   ],
   "metadata": {
    "collapsed": false
   }
  },
  {
   "cell_type": "code",
   "execution_count": null,
   "outputs": [],
   "source": [],
   "metadata": {
    "collapsed": false
   }
  }
 ],
 "metadata": {
  "kernelspec": {
   "display_name": "Python 3",
   "language": "python",
   "name": "python3"
  },
  "language_info": {
   "codemirror_mode": {
    "name": "ipython",
    "version": 2
   },
   "file_extension": ".py",
   "mimetype": "text/x-python",
   "name": "python",
   "nbconvert_exporter": "python",
   "pygments_lexer": "ipython2",
   "version": "2.7.6"
  }
 },
 "nbformat": 4,
 "nbformat_minor": 0
}
