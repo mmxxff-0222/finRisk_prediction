{
 "cells": [
  {
   "cell_type": "code",
   "execution_count": 2,
   "outputs": [
    {
     "name": "stderr",
     "output_type": "stream",
     "text": [
      "/var/folders/8m/6cpmqrns19n25q6dpm3wnyzh0000gn/T/ipykernel_26820/2846668779.py:74: SettingWithCopyWarning: \n",
      "A value is trying to be set on a copy of a slice from a DataFrame\n",
      "\n",
      "See the caveats in the documentation: https://pandas.pydata.org/pandas-docs/stable/user_guide/indexing.html#returning-a-view-versus-a-copy\n",
      "  c2_input.drop(columns=['label', 'risk', 'pred'], inplace=True)\n"
     ]
    },
    {
     "name": "stdout",
     "output_type": "stream",
     "text": [
      "\n",
      "classifier1:\n",
      "               precision    recall  f1-score   support\n",
      "\n",
      "           0       0.98      0.98      0.98     25947\n",
      "           1       0.99      0.99      0.99    104729\n",
      "\n",
      "    accuracy                           0.99    130676\n",
      "   macro avg       0.99      0.99      0.99    130676\n",
      "weighted avg       0.99      0.99      0.99    130676\n",
      "\n",
      "\n",
      "classifier2:\n",
      "               precision    recall  f1-score   support\n",
      "\n",
      "           0       0.94      1.00      0.97     95603\n",
      "           1       0.17      0.00      0.00      1588\n",
      "           2       0.93      0.39      0.55      7504\n",
      "\n",
      "    accuracy                           0.94    104695\n",
      "   macro avg       0.68      0.46      0.51    104695\n",
      "weighted avg       0.93      0.94      0.92    104695\n",
      "\n",
      "\n",
      "final:\n",
      "               precision    recall  f1-score   support\n",
      "\n",
      "           0       0.98      0.97      0.98     32492\n",
      "           1       0.94      0.99      0.96    119626\n",
      "           2       0.12      0.00      0.00      1968\n",
      "           3       0.93      0.39      0.55      9259\n",
      "\n",
      "    accuracy                           0.94    163345\n",
      "   macro avg       0.74      0.59      0.62    163345\n",
      "weighted avg       0.93      0.94      0.93    163345\n",
      "\n"
     ]
    }
   ],
   "source": [
    "import pandas as pd\n",
    "\n",
    "from sklearn.model_selection import train_test_split\n",
    "\n",
    "from sklearn.metrics import classification_report\n",
    "\n",
    "import xgboost as xgb\n",
    "from sklearn.ensemble import GradientBoostingClassifier\n",
    "from sklearn.neighbors import KNeighborsClassifier\n",
    "from sklearn.svm import SVC\n",
    "from sklearn.ensemble import RandomForestClassifier\n",
    "\n",
    "GBDT = GradientBoostingClassifier()\n",
    "\n",
    "'''\n",
    "分类器及参数如下：\n",
    "KNN ：k=30\n",
    "RF : 默认参数\n",
    "GBDT: 默认参数\n",
    "XGboost : 默认  xgb.XGBClassifier()\n",
    "SVC : 默认\n",
    "\n",
    "'''\n",
    "SVC()\n",
    "\n",
    "classifier1Set = [xgb.XGBClassifier(), RandomForestClassifier(), GradientBoostingClassifier(), ]\n",
    "classifier2Set = []\n",
    "\n",
    "\n",
    "reports = {}\n",
    "\n",
    "# 加载数据集\n",
    "df_loan = pd.read_csv(\"/Users/mxfmeng/PycharmProjects/GraduationDesign/MLmodels/dataset/loan_new_3_1.csv\")\n",
    "df_loan.drop(columns=['loan_status'], inplace=True)\n",
    "\n",
    "# 设置分类器1的target : 按label分类，无风险（0）和有风险（1、2、3）分成两类\n",
    "df_loan['risk'] = df_loan['label'].apply(lambda row: 0 if row == 0 else 1)\n",
    "\n",
    "# 划分 训练集 和 测试集\n",
    "X_train, X_finalTest, y_train, y_finalTest = train_test_split(df_loan, df_loan[['risk']], test_size=0.2,\n",
    "                                                              random_state=0)\n",
    "\n",
    "''' 分类器1：划分\"无风险\"和\"有风险\" '''\n",
    "# 对classifier1的训练集再次划分测试集，用于单独统计正确率\n",
    "X1_train, X1_test, y1_train, y1_test = train_test_split(X_train.drop(columns=['label', 'risk']), y_train, test_size=0.2,\n",
    "                                                        random_state=0)\n",
    "classifier1 = xgb.XGBClassifier()\n",
    "classifier1.fit(X1_train, y1_train)\n",
    "Y1_pred = classifier1.predict(X1_test.values)\n",
    "# 保存结果1\n",
    "reports['classifier1'] = classification_report(y1_test, Y1_pred)\n",
    "\n",
    "''' 分类器2：将\"有风险\"的进一步划分成\"低\"、\"中\"、\"高\" '''\n",
    "# 筛选出classifier2的训练数据（risk=1）\n",
    "X2 = X_train[X_train['risk'] == 1]\n",
    "y2 = X2['label'] - 1  # {1,2,3} 不合法，转换为{0,1,2}\n",
    "# 对classifier2的训练集再次划分测试集，用于单独统计正确率\n",
    "X2_train, X2_test, y2_train, y2_test = train_test_split(X2.drop(columns=['label', 'risk']), y2, test_size=0.2,\n",
    "                                                        random_state=0)\n",
    "classifier2 = xgb.XGBClassifier()\n",
    "classifier2.fit(X2_train, y2_train)\n",
    "Y2_pred = classifier2.predict(X2_test.values)\n",
    "# 保存结果2\n",
    "reports['classifier2'] = classification_report(y2_test, Y2_pred)\n",
    "\n",
    "''' 连接两个classifier: 用之前划分的测试集 X_finalTest 和 y_finalTest ,测试最终分类效果 '''\n",
    "y_finalTest = X_finalTest['label']\n",
    "\n",
    "c1_input = X_finalTest.drop(columns=['risk', 'label'])\n",
    "c1_output = classifier1.predict(c1_input.values)  # c1_output 表示数据是否有风险(0,1)\n",
    "# 按预测结果筛选出 classifier2 的 input\n",
    "X_finalTest['pred'] = c1_output\n",
    "c2_input = X_finalTest[X_finalTest['pred'] == 1]\n",
    "c2_input.drop(columns=['label', 'risk', 'pred'], inplace=True)\n",
    "# classifier2 预测分类结果\n",
    "c2_output = classifier2.predict(c2_input.values)\n",
    "\n",
    "\n",
    "# classifier2 结果\n",
    "finalRes = pd.DataFrame()\n",
    "finalRes['result'] = c2_output + 1\n",
    "finalRes['index'] = c2_input.index\n",
    "# classifier1 结果\n",
    "tmp = pd.DataFrame()\n",
    "tmp['res'] = c1_output\n",
    "tmp['index'] = X_finalTest.index\n",
    "tmp = tmp[tmp['res'] == 0]\n",
    "tmp.rename(columns={'res': 'result'}, inplace=True)\n",
    "# 合并结果\n",
    "finalRes = pd.concat([finalRes, tmp], ignore_index=True)\n",
    "finalRes.sort_values(by='index', inplace=True)\n",
    "# 统计准确率\n",
    "y_finalTest.sort_index(inplace=True)\n",
    "reports['final'] = classification_report(y_finalTest, finalRes['result'])\n",
    "\n",
    "\n",
    "print('\\nclassifier1:\\n', reports['classifier1'])\n",
    "print('\\nclassifier2:\\n', reports['classifier2'])\n",
    "print('\\nfinal:\\n', reports['final'])\n"
   ],
   "metadata": {
    "collapsed": false
   }
  },
  {
   "cell_type": "code",
   "execution_count": 3,
   "outputs": [
    {
     "data": {
      "text/plain": "        result   index\n0            1  254394\n1            1  124943\n2            1  330472\n3            1  590460\n4            1  492812\n...        ...     ...\n130987       1  363950\n130988       1  214994\n130989       1  711135\n130990       1  689178\n130991       1  815266\n\n[130992 rows x 2 columns]",
      "text/html": "<div>\n<style scoped>\n    .dataframe tbody tr th:only-of-type {\n        vertical-align: middle;\n    }\n\n    .dataframe tbody tr th {\n        vertical-align: top;\n    }\n\n    .dataframe thead th {\n        text-align: right;\n    }\n</style>\n<table border=\"1\" class=\"dataframe\">\n  <thead>\n    <tr style=\"text-align: right;\">\n      <th></th>\n      <th>result</th>\n      <th>index</th>\n    </tr>\n  </thead>\n  <tbody>\n    <tr>\n      <th>0</th>\n      <td>1</td>\n      <td>254394</td>\n    </tr>\n    <tr>\n      <th>1</th>\n      <td>1</td>\n      <td>124943</td>\n    </tr>\n    <tr>\n      <th>2</th>\n      <td>1</td>\n      <td>330472</td>\n    </tr>\n    <tr>\n      <th>3</th>\n      <td>1</td>\n      <td>590460</td>\n    </tr>\n    <tr>\n      <th>4</th>\n      <td>1</td>\n      <td>492812</td>\n    </tr>\n    <tr>\n      <th>...</th>\n      <td>...</td>\n      <td>...</td>\n    </tr>\n    <tr>\n      <th>130987</th>\n      <td>1</td>\n      <td>363950</td>\n    </tr>\n    <tr>\n      <th>130988</th>\n      <td>1</td>\n      <td>214994</td>\n    </tr>\n    <tr>\n      <th>130989</th>\n      <td>1</td>\n      <td>711135</td>\n    </tr>\n    <tr>\n      <th>130990</th>\n      <td>1</td>\n      <td>689178</td>\n    </tr>\n    <tr>\n      <th>130991</th>\n      <td>1</td>\n      <td>815266</td>\n    </tr>\n  </tbody>\n</table>\n<p>130992 rows × 2 columns</p>\n</div>"
     },
     "execution_count": 3,
     "metadata": {},
     "output_type": "execute_result"
    }
   ],
   "source": [
    "# classifier2 结果\n",
    "finalRes = pd.DataFrame()\n",
    "finalRes['result'] = c2_output + 1\n",
    "finalRes['index'] = c2_input.index\n",
    "finalRes"
   ],
   "metadata": {
    "collapsed": false
   }
  },
  {
   "cell_type": "code",
   "execution_count": 4,
   "outputs": [
    {
     "data": {
      "text/plain": "        result   index\n8            0  664434\n10           0  400505\n11           0  333775\n12           0  761990\n13           0    5726\n...        ...     ...\n163306       0  280501\n163307       0   95735\n163314       0  198116\n163324       0   83751\n163338       0   86024\n\n[32353 rows x 2 columns]",
      "text/html": "<div>\n<style scoped>\n    .dataframe tbody tr th:only-of-type {\n        vertical-align: middle;\n    }\n\n    .dataframe tbody tr th {\n        vertical-align: top;\n    }\n\n    .dataframe thead th {\n        text-align: right;\n    }\n</style>\n<table border=\"1\" class=\"dataframe\">\n  <thead>\n    <tr style=\"text-align: right;\">\n      <th></th>\n      <th>result</th>\n      <th>index</th>\n    </tr>\n  </thead>\n  <tbody>\n    <tr>\n      <th>8</th>\n      <td>0</td>\n      <td>664434</td>\n    </tr>\n    <tr>\n      <th>10</th>\n      <td>0</td>\n      <td>400505</td>\n    </tr>\n    <tr>\n      <th>11</th>\n      <td>0</td>\n      <td>333775</td>\n    </tr>\n    <tr>\n      <th>12</th>\n      <td>0</td>\n      <td>761990</td>\n    </tr>\n    <tr>\n      <th>13</th>\n      <td>0</td>\n      <td>5726</td>\n    </tr>\n    <tr>\n      <th>...</th>\n      <td>...</td>\n      <td>...</td>\n    </tr>\n    <tr>\n      <th>163306</th>\n      <td>0</td>\n      <td>280501</td>\n    </tr>\n    <tr>\n      <th>163307</th>\n      <td>0</td>\n      <td>95735</td>\n    </tr>\n    <tr>\n      <th>163314</th>\n      <td>0</td>\n      <td>198116</td>\n    </tr>\n    <tr>\n      <th>163324</th>\n      <td>0</td>\n      <td>83751</td>\n    </tr>\n    <tr>\n      <th>163338</th>\n      <td>0</td>\n      <td>86024</td>\n    </tr>\n  </tbody>\n</table>\n<p>32353 rows × 2 columns</p>\n</div>"
     },
     "execution_count": 4,
     "metadata": {},
     "output_type": "execute_result"
    }
   ],
   "source": [
    "tmp = pd.DataFrame()\n",
    "tmp['res'] = c1_output\n",
    "tmp['index'] = X_finalTest.index\n",
    "tmp = tmp[tmp['res'] == 0]\n",
    "tmp.rename(columns={'res': 'result'}, inplace=True)\n",
    "tmp"
   ],
   "metadata": {
    "collapsed": false
   }
  },
  {
   "cell_type": "code",
   "execution_count": 5,
   "outputs": [
    {
     "data": {
      "text/plain": "        result   index\n59691        1       6\n65901        1       7\n151629       0      19\n115641       1      31\n61526        1      36\n...        ...     ...\n149998       0  816690\n24767        1  816697\n124653       1  816702\n128957       1  816710\n97627        3  816714\n\n[163345 rows x 2 columns]",
      "text/html": "<div>\n<style scoped>\n    .dataframe tbody tr th:only-of-type {\n        vertical-align: middle;\n    }\n\n    .dataframe tbody tr th {\n        vertical-align: top;\n    }\n\n    .dataframe thead th {\n        text-align: right;\n    }\n</style>\n<table border=\"1\" class=\"dataframe\">\n  <thead>\n    <tr style=\"text-align: right;\">\n      <th></th>\n      <th>result</th>\n      <th>index</th>\n    </tr>\n  </thead>\n  <tbody>\n    <tr>\n      <th>59691</th>\n      <td>1</td>\n      <td>6</td>\n    </tr>\n    <tr>\n      <th>65901</th>\n      <td>1</td>\n      <td>7</td>\n    </tr>\n    <tr>\n      <th>151629</th>\n      <td>0</td>\n      <td>19</td>\n    </tr>\n    <tr>\n      <th>115641</th>\n      <td>1</td>\n      <td>31</td>\n    </tr>\n    <tr>\n      <th>61526</th>\n      <td>1</td>\n      <td>36</td>\n    </tr>\n    <tr>\n      <th>...</th>\n      <td>...</td>\n      <td>...</td>\n    </tr>\n    <tr>\n      <th>149998</th>\n      <td>0</td>\n      <td>816690</td>\n    </tr>\n    <tr>\n      <th>24767</th>\n      <td>1</td>\n      <td>816697</td>\n    </tr>\n    <tr>\n      <th>124653</th>\n      <td>1</td>\n      <td>816702</td>\n    </tr>\n    <tr>\n      <th>128957</th>\n      <td>1</td>\n      <td>816710</td>\n    </tr>\n    <tr>\n      <th>97627</th>\n      <td>3</td>\n      <td>816714</td>\n    </tr>\n  </tbody>\n</table>\n<p>163345 rows × 2 columns</p>\n</div>"
     },
     "execution_count": 5,
     "metadata": {},
     "output_type": "execute_result"
    }
   ],
   "source": [
    "# 合并结果\n",
    "finalRes = pd.concat([finalRes, tmp], ignore_index=True)\n",
    "finalRes.sort_values(by='index', inplace=True)\n",
    "finalRes"
   ],
   "metadata": {
    "collapsed": false
   }
  },
  {
   "cell_type": "code",
   "execution_count": 7,
   "outputs": [
    {
     "data": {
      "text/plain": "6         1\n7         1\n19        0\n31        1\n36        1\n         ..\n816690    0\n816697    1\n816702    1\n816710    1\n816714    3\nName: label, Length: 163345, dtype: int64"
     },
     "execution_count": 7,
     "metadata": {},
     "output_type": "execute_result"
    }
   ],
   "source": [
    "y_finalTest"
   ],
   "metadata": {
    "collapsed": false
   }
  },
  {
   "cell_type": "code",
   "execution_count": null,
   "outputs": [],
   "source": [],
   "metadata": {
    "collapsed": false
   }
  }
 ],
 "metadata": {
  "kernelspec": {
   "display_name": "Python 3",
   "language": "python",
   "name": "python3"
  },
  "language_info": {
   "codemirror_mode": {
    "name": "ipython",
    "version": 2
   },
   "file_extension": ".py",
   "mimetype": "text/x-python",
   "name": "python",
   "nbconvert_exporter": "python",
   "pygments_lexer": "ipython2",
   "version": "2.7.6"
  }
 },
 "nbformat": 4,
 "nbformat_minor": 0
}
