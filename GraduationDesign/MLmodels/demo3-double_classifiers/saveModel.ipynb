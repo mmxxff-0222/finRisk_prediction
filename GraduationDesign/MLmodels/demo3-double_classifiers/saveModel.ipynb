{
 "cells": [
  {
   "cell_type": "code",
   "execution_count": 1,
   "metadata": {
    "collapsed": true
   },
   "outputs": [],
   "source": [
    "import pandas as pd\n",
    "import xgboost as xgb\n",
    "from sklearn.model_selection import train_test_split\n",
    "from sklearn.neighbors import KNeighborsClassifier\n",
    "from sklearn.metrics import classification_report\n",
    "from Model_DblXGBoost import DblXGBoost\n",
    "\n",
    "\n",
    "# 加载数据集\n",
    "df_loan = pd.read_csv(\"/Users/mxfmeng/PycharmProjects/GraduationDesign/MLmodels/dataset/loan_new_3_1.csv\")\n",
    "df_loan.drop(columns=['loan_status'], inplace=True)\n",
    "df_loan\n",
    "X_train, X_test, y_train, y_test = train_test_split(df_loan.drop(columns=['label']), df_loan[['label']], test_size=0.2, random_state=0)\n"
   ]
  },
  {
   "cell_type": "code",
   "execution_count": 2,
   "outputs": [],
   "source": [
    "from nyoka import skl_to_pmml\n",
    "model = DblXGBoost()\n",
    "model.fit(X_train, y_train)"
   ],
   "metadata": {
    "collapsed": false
   }
  },
  {
   "cell_type": "code",
   "execution_count": 3,
   "outputs": [],
   "source": [
    "# pickle导出pkl"
   ],
   "metadata": {
    "collapsed": false
   }
  },
  {
   "cell_type": "code",
   "execution_count": 5,
   "outputs": [
    {
     "name": "stdout",
     "output_type": "stream",
     "text": [
      "over\n"
     ]
    }
   ],
   "source": [
    "import pickle\n",
    "# 打开一个文件用于写入\n",
    "with open('/Users/mxfmeng/PycharmProjects/GraduationDesign/Flask_server/models/XGBoost_v1.pkl', 'wb') as f:\n",
    "    # 使用pickle.dump()将字典对象序列化并保存到文件中\n",
    "    pickle.dump(model, f)\n",
    "print(\"over\")\n"
   ],
   "metadata": {
    "collapsed": false
   }
  },
  {
   "cell_type": "code",
   "execution_count": 6,
   "outputs": [],
   "source": [
    "with open('/Users/mxfmeng/PycharmProjects/GraduationDesign/Flask_server/models/XGBoost_v1.pkl', 'rb') as f:\n",
    "    # 使用pickle.load()从文件中读取序列化的对象并还原为原来的Python对象\n",
    "    modelLoad = pickle.load(f)"
   ],
   "metadata": {
    "collapsed": false
   }
  },
  {
   "cell_type": "code",
   "execution_count": 7,
   "outputs": [
    {
     "name": "stderr",
     "output_type": "stream",
     "text": [
      "/Users/mxfmeng/PycharmProjects/GraduationDesign/MLmodels/demo3-double_classifiers/Model_DblXGBoost.py:37: SettingWithCopyWarning: \n",
      "A value is trying to be set on a copy of a slice from a DataFrame\n",
      "\n",
      "See the caveats in the documentation: https://pandas.pydata.org/pandas-docs/stable/user_guide/indexing.html#returning-a-view-versus-a-copy\n",
      "  c2_input.drop(columns=['pred'], inplace=True)\n"
     ]
    },
    {
     "name": "stdout",
     "output_type": "stream",
     "text": [
      "              precision    recall  f1-score   support\n",
      "\n",
      "           0       0.98      0.98      0.98     32492\n",
      "           1       0.94      0.99      0.96    119626\n",
      "           2       0.14      0.00      0.00      1968\n",
      "           3       0.93      0.39      0.55      9259\n",
      "\n",
      "    accuracy                           0.94    163345\n",
      "   macro avg       0.75      0.59      0.62    163345\n",
      "weighted avg       0.93      0.94      0.93    163345\n",
      "\n"
     ]
    }
   ],
   "source": [
    "predictions = modelLoad.predict(X_test)\n",
    "print(classification_report(y_test, predictions['result']))"
   ],
   "metadata": {
    "collapsed": false
   }
  },
  {
   "cell_type": "code",
   "execution_count": null,
   "outputs": [],
   "source": [
    "features = list(X_train.columns)"
   ],
   "metadata": {
    "collapsed": false
   }
  },
  {
   "cell_type": "markdown",
   "source": [
    "# nyoka"
   ],
   "metadata": {
    "collapsed": false
   }
  },
  {
   "cell_type": "code",
   "execution_count": null,
   "outputs": [],
   "source": [
    "skl_to_pmml(model, features, \"Dbl_XGBoost.pmml\")"
   ],
   "metadata": {
    "collapsed": false
   }
  },
  {
   "cell_type": "markdown",
   "source": [
    "# jpmml_xgboost"
   ],
   "metadata": {
    "collapsed": false
   }
  },
  {
   "cell_type": "code",
   "execution_count": null,
   "outputs": [],
   "source": [
    "from jpmml_xgboost import to_pmml_simple\n",
    "to_pmml_simple(model, list(X_train.columns), \"Dbl_XGBoost.pmml\")"
   ],
   "metadata": {
    "collapsed": false
   }
  }
 ],
 "metadata": {
  "kernelspec": {
   "display_name": "Python 3",
   "language": "python",
   "name": "python3"
  },
  "language_info": {
   "codemirror_mode": {
    "name": "ipython",
    "version": 2
   },
   "file_extension": ".py",
   "mimetype": "text/x-python",
   "name": "python",
   "nbconvert_exporter": "python",
   "pygments_lexer": "ipython2",
   "version": "2.7.6"
  }
 },
 "nbformat": 4,
 "nbformat_minor": 0
}
