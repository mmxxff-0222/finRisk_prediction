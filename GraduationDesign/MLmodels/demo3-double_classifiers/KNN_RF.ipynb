{
 "cells": [
  {
   "cell_type": "code",
   "execution_count": 118,
   "metadata": {
    "collapsed": true
   },
   "outputs": [
    {
     "data": {
      "text/plain": "   loan_amnt  term  int_rate  installment  grade  emp_length  home_ownership  \\\n0    27050.0     0     10.99       885.46      4          12               3   \n1     9750.0     0     13.98       333.14      3           2               1   \n2    12000.0     0      6.62       368.45      5          12               2   \n3    12000.0     0     13.53       407.40      4          12               1   \n4    15000.0     0      8.90       476.30      5           3               2   \n5    12000.0     0     11.99       398.52      4          12               2   \n6    14000.0     0     12.85       470.71      4           5               1   \n\n   annual_inc  verification_status  purpose  ...  revol_util  total_acc  \\\n0     55000.0                    2        2  ...        61.2       27.0   \n1     26000.0                    0        2  ...        52.8       28.0   \n2    105000.0                    0        2  ...        21.6       22.0   \n3     40000.0                    1        2  ...        68.8       32.0   \n4     63000.0                    0        2  ...        74.2       29.0   \n5    130000.0                    1        2  ...        67.0       19.0   \n6     88000.0                    0        2  ...        81.9       14.0   \n\n   total_pymnt  total_rec_late_fee  last_pymnt_amnt  application_type  \\\n0     21251.04                 0.0           885.46                 0   \n1      7994.83                 0.0           333.14                 0   \n2      8842.80                 0.0           368.45                 0   \n3     13359.77                 0.0           119.17                 0   \n4     11431.20                 0.0           476.30                 0   \n5      9564.40                 0.0           398.52                 0   \n6     11296.94                 0.0           470.71                 0   \n\n   acc_now_delinq  tot_coll_amt  tot_cur_bal  label  \n0             0.0           0.0     114834.0      1  \n1             0.0           0.0      14123.0      1  \n2             0.0           0.0     267646.0      1  \n3             0.0       15386.0      13605.0      0  \n4             0.0        1514.0     272492.0      1  \n5             0.0           0.0     327264.0      1  \n6             0.0           0.0      17672.0      1  \n\n[7 rows x 26 columns]",
      "text/html": "<div>\n<style scoped>\n    .dataframe tbody tr th:only-of-type {\n        vertical-align: middle;\n    }\n\n    .dataframe tbody tr th {\n        vertical-align: top;\n    }\n\n    .dataframe thead th {\n        text-align: right;\n    }\n</style>\n<table border=\"1\" class=\"dataframe\">\n  <thead>\n    <tr style=\"text-align: right;\">\n      <th></th>\n      <th>loan_amnt</th>\n      <th>term</th>\n      <th>int_rate</th>\n      <th>installment</th>\n      <th>grade</th>\n      <th>emp_length</th>\n      <th>home_ownership</th>\n      <th>annual_inc</th>\n      <th>verification_status</th>\n      <th>purpose</th>\n      <th>...</th>\n      <th>revol_util</th>\n      <th>total_acc</th>\n      <th>total_pymnt</th>\n      <th>total_rec_late_fee</th>\n      <th>last_pymnt_amnt</th>\n      <th>application_type</th>\n      <th>acc_now_delinq</th>\n      <th>tot_coll_amt</th>\n      <th>tot_cur_bal</th>\n      <th>label</th>\n    </tr>\n  </thead>\n  <tbody>\n    <tr>\n      <th>0</th>\n      <td>27050.0</td>\n      <td>0</td>\n      <td>10.99</td>\n      <td>885.46</td>\n      <td>4</td>\n      <td>12</td>\n      <td>3</td>\n      <td>55000.0</td>\n      <td>2</td>\n      <td>2</td>\n      <td>...</td>\n      <td>61.2</td>\n      <td>27.0</td>\n      <td>21251.04</td>\n      <td>0.0</td>\n      <td>885.46</td>\n      <td>0</td>\n      <td>0.0</td>\n      <td>0.0</td>\n      <td>114834.0</td>\n      <td>1</td>\n    </tr>\n    <tr>\n      <th>1</th>\n      <td>9750.0</td>\n      <td>0</td>\n      <td>13.98</td>\n      <td>333.14</td>\n      <td>3</td>\n      <td>2</td>\n      <td>1</td>\n      <td>26000.0</td>\n      <td>0</td>\n      <td>2</td>\n      <td>...</td>\n      <td>52.8</td>\n      <td>28.0</td>\n      <td>7994.83</td>\n      <td>0.0</td>\n      <td>333.14</td>\n      <td>0</td>\n      <td>0.0</td>\n      <td>0.0</td>\n      <td>14123.0</td>\n      <td>1</td>\n    </tr>\n    <tr>\n      <th>2</th>\n      <td>12000.0</td>\n      <td>0</td>\n      <td>6.62</td>\n      <td>368.45</td>\n      <td>5</td>\n      <td>12</td>\n      <td>2</td>\n      <td>105000.0</td>\n      <td>0</td>\n      <td>2</td>\n      <td>...</td>\n      <td>21.6</td>\n      <td>22.0</td>\n      <td>8842.80</td>\n      <td>0.0</td>\n      <td>368.45</td>\n      <td>0</td>\n      <td>0.0</td>\n      <td>0.0</td>\n      <td>267646.0</td>\n      <td>1</td>\n    </tr>\n    <tr>\n      <th>3</th>\n      <td>12000.0</td>\n      <td>0</td>\n      <td>13.53</td>\n      <td>407.40</td>\n      <td>4</td>\n      <td>12</td>\n      <td>1</td>\n      <td>40000.0</td>\n      <td>1</td>\n      <td>2</td>\n      <td>...</td>\n      <td>68.8</td>\n      <td>32.0</td>\n      <td>13359.77</td>\n      <td>0.0</td>\n      <td>119.17</td>\n      <td>0</td>\n      <td>0.0</td>\n      <td>15386.0</td>\n      <td>13605.0</td>\n      <td>0</td>\n    </tr>\n    <tr>\n      <th>4</th>\n      <td>15000.0</td>\n      <td>0</td>\n      <td>8.90</td>\n      <td>476.30</td>\n      <td>5</td>\n      <td>3</td>\n      <td>2</td>\n      <td>63000.0</td>\n      <td>0</td>\n      <td>2</td>\n      <td>...</td>\n      <td>74.2</td>\n      <td>29.0</td>\n      <td>11431.20</td>\n      <td>0.0</td>\n      <td>476.30</td>\n      <td>0</td>\n      <td>0.0</td>\n      <td>1514.0</td>\n      <td>272492.0</td>\n      <td>1</td>\n    </tr>\n    <tr>\n      <th>5</th>\n      <td>12000.0</td>\n      <td>0</td>\n      <td>11.99</td>\n      <td>398.52</td>\n      <td>4</td>\n      <td>12</td>\n      <td>2</td>\n      <td>130000.0</td>\n      <td>1</td>\n      <td>2</td>\n      <td>...</td>\n      <td>67.0</td>\n      <td>19.0</td>\n      <td>9564.40</td>\n      <td>0.0</td>\n      <td>398.52</td>\n      <td>0</td>\n      <td>0.0</td>\n      <td>0.0</td>\n      <td>327264.0</td>\n      <td>1</td>\n    </tr>\n    <tr>\n      <th>6</th>\n      <td>14000.0</td>\n      <td>0</td>\n      <td>12.85</td>\n      <td>470.71</td>\n      <td>4</td>\n      <td>5</td>\n      <td>1</td>\n      <td>88000.0</td>\n      <td>0</td>\n      <td>2</td>\n      <td>...</td>\n      <td>81.9</td>\n      <td>14.0</td>\n      <td>11296.94</td>\n      <td>0.0</td>\n      <td>470.71</td>\n      <td>0</td>\n      <td>0.0</td>\n      <td>0.0</td>\n      <td>17672.0</td>\n      <td>1</td>\n    </tr>\n  </tbody>\n</table>\n<p>7 rows × 26 columns</p>\n</div>"
     },
     "execution_count": 118,
     "metadata": {},
     "output_type": "execute_result"
    }
   ],
   "source": [
    "import numpy as np\n",
    "import pandas as pd\n",
    "import seaborn as sns\n",
    "import matplotlib.pyplot as plt\n",
    "from IPython.display import display, Markdown, Latex\n",
    "\n",
    "sns.set_style('whitegrid')\n",
    "\n",
    "from sklearn.preprocessing import LabelEncoder\n",
    "from sklearn.model_selection import train_test_split\n",
    "from sklearn.neighbors import KNeighborsClassifier\n",
    "from sklearn.metrics import classification_report\n",
    "\n",
    "from sklearn.metrics import f1_score\n",
    "\n",
    "# 加载数据集\n",
    "df_loan = pd.read_csv(\"/Users/mxfmeng/PycharmProjects/GraduationDesign/dataset/loan_new_3_1.csv\")\n",
    "df_loan.drop(columns=['loan_status'],inplace=True)\n",
    "df_loan.head(7)"
   ]
  },
  {
   "cell_type": "markdown",
   "source": [
    "# 设置分类器1的target\n",
    "按label分类，无风险（0）和有风险（1、2、3）分成两类"
   ],
   "metadata": {
    "collapsed": false
   }
  },
  {
   "cell_type": "code",
   "execution_count": 119,
   "outputs": [
    {
     "data": {
      "text/plain": "        loan_amnt  term  int_rate  installment  grade  emp_length  \\\n0         27050.0     0     10.99       885.46      4          12   \n1          9750.0     0     13.98       333.14      3           2   \n2         12000.0     0      6.62       368.45      5          12   \n3         12000.0     0     13.53       407.40      4          12   \n4         15000.0     0      8.90       476.30      5           3   \n...           ...   ...       ...          ...    ...         ...   \n816717    10000.0     0     11.99       332.10      4           9   \n816718    24000.0     0     11.99       797.03      4          12   \n816719    13000.0     1     15.99       316.07      2           6   \n816720    12000.0     1     19.99       317.86      1           2   \n816721    20000.0     0     11.99       664.20      4          12   \n\n        home_ownership  annual_inc  verification_status  purpose  ...  \\\n0                    3     55000.0                    2        2  ...   \n1                    1     26000.0                    0        2  ...   \n2                    2    105000.0                    0        2  ...   \n3                    1     40000.0                    1        2  ...   \n4                    2     63000.0                    0        2  ...   \n...                ...         ...                  ...      ...  ...   \n816717               1     31000.0                    2        2  ...   \n816718               2     79000.0                    2        4  ...   \n816719               1     35000.0                    2        2  ...   \n816720               1     64400.0                    1        2  ...   \n816721               1    100000.0                    2        1  ...   \n\n        total_acc  total_pymnt  total_rec_late_fee  last_pymnt_amnt  \\\n0            27.0     21251.04                 0.0           885.46   \n1            28.0      7994.83                 0.0           333.14   \n2            22.0      8842.80                 0.0           368.45   \n3            32.0     13359.77                 0.0           119.17   \n4            29.0     11431.20                 0.0           476.30   \n...           ...          ...                 ...              ...   \n816717       15.0      3971.88                 0.0           332.10   \n816718       23.0      9532.39                 0.0           797.03   \n816719       22.0      3769.74                 0.0           316.07   \n816720       20.0      3787.67                 0.0           317.86   \n816721       10.0      7943.76                 0.0           664.20   \n\n        application_type  acc_now_delinq  tot_coll_amt  tot_cur_bal  label  \\\n0                      0             0.0           0.0     114834.0      1   \n1                      0             0.0           0.0      14123.0      1   \n2                      0             0.0           0.0     267646.0      1   \n3                      0             0.0       15386.0      13605.0      0   \n4                      0             0.0        1514.0     272492.0      1   \n...                  ...             ...           ...          ...    ...   \n816717                 0             0.0           0.0      25274.0      1   \n816718                 0             0.0           0.0     140285.0      1   \n816719                 0             0.0           0.0      34178.0      1   \n816720                 0             0.0           0.0      58418.0      1   \n816721                 0             0.0           0.0      33307.0      1   \n\n        risk  \n0          1  \n1          1  \n2          1  \n3          0  \n4          1  \n...      ...  \n816717     1  \n816718     1  \n816719     1  \n816720     1  \n816721     1  \n\n[816722 rows x 27 columns]",
      "text/html": "<div>\n<style scoped>\n    .dataframe tbody tr th:only-of-type {\n        vertical-align: middle;\n    }\n\n    .dataframe tbody tr th {\n        vertical-align: top;\n    }\n\n    .dataframe thead th {\n        text-align: right;\n    }\n</style>\n<table border=\"1\" class=\"dataframe\">\n  <thead>\n    <tr style=\"text-align: right;\">\n      <th></th>\n      <th>loan_amnt</th>\n      <th>term</th>\n      <th>int_rate</th>\n      <th>installment</th>\n      <th>grade</th>\n      <th>emp_length</th>\n      <th>home_ownership</th>\n      <th>annual_inc</th>\n      <th>verification_status</th>\n      <th>purpose</th>\n      <th>...</th>\n      <th>total_acc</th>\n      <th>total_pymnt</th>\n      <th>total_rec_late_fee</th>\n      <th>last_pymnt_amnt</th>\n      <th>application_type</th>\n      <th>acc_now_delinq</th>\n      <th>tot_coll_amt</th>\n      <th>tot_cur_bal</th>\n      <th>label</th>\n      <th>risk</th>\n    </tr>\n  </thead>\n  <tbody>\n    <tr>\n      <th>0</th>\n      <td>27050.0</td>\n      <td>0</td>\n      <td>10.99</td>\n      <td>885.46</td>\n      <td>4</td>\n      <td>12</td>\n      <td>3</td>\n      <td>55000.0</td>\n      <td>2</td>\n      <td>2</td>\n      <td>...</td>\n      <td>27.0</td>\n      <td>21251.04</td>\n      <td>0.0</td>\n      <td>885.46</td>\n      <td>0</td>\n      <td>0.0</td>\n      <td>0.0</td>\n      <td>114834.0</td>\n      <td>1</td>\n      <td>1</td>\n    </tr>\n    <tr>\n      <th>1</th>\n      <td>9750.0</td>\n      <td>0</td>\n      <td>13.98</td>\n      <td>333.14</td>\n      <td>3</td>\n      <td>2</td>\n      <td>1</td>\n      <td>26000.0</td>\n      <td>0</td>\n      <td>2</td>\n      <td>...</td>\n      <td>28.0</td>\n      <td>7994.83</td>\n      <td>0.0</td>\n      <td>333.14</td>\n      <td>0</td>\n      <td>0.0</td>\n      <td>0.0</td>\n      <td>14123.0</td>\n      <td>1</td>\n      <td>1</td>\n    </tr>\n    <tr>\n      <th>2</th>\n      <td>12000.0</td>\n      <td>0</td>\n      <td>6.62</td>\n      <td>368.45</td>\n      <td>5</td>\n      <td>12</td>\n      <td>2</td>\n      <td>105000.0</td>\n      <td>0</td>\n      <td>2</td>\n      <td>...</td>\n      <td>22.0</td>\n      <td>8842.80</td>\n      <td>0.0</td>\n      <td>368.45</td>\n      <td>0</td>\n      <td>0.0</td>\n      <td>0.0</td>\n      <td>267646.0</td>\n      <td>1</td>\n      <td>1</td>\n    </tr>\n    <tr>\n      <th>3</th>\n      <td>12000.0</td>\n      <td>0</td>\n      <td>13.53</td>\n      <td>407.40</td>\n      <td>4</td>\n      <td>12</td>\n      <td>1</td>\n      <td>40000.0</td>\n      <td>1</td>\n      <td>2</td>\n      <td>...</td>\n      <td>32.0</td>\n      <td>13359.77</td>\n      <td>0.0</td>\n      <td>119.17</td>\n      <td>0</td>\n      <td>0.0</td>\n      <td>15386.0</td>\n      <td>13605.0</td>\n      <td>0</td>\n      <td>0</td>\n    </tr>\n    <tr>\n      <th>4</th>\n      <td>15000.0</td>\n      <td>0</td>\n      <td>8.90</td>\n      <td>476.30</td>\n      <td>5</td>\n      <td>3</td>\n      <td>2</td>\n      <td>63000.0</td>\n      <td>0</td>\n      <td>2</td>\n      <td>...</td>\n      <td>29.0</td>\n      <td>11431.20</td>\n      <td>0.0</td>\n      <td>476.30</td>\n      <td>0</td>\n      <td>0.0</td>\n      <td>1514.0</td>\n      <td>272492.0</td>\n      <td>1</td>\n      <td>1</td>\n    </tr>\n    <tr>\n      <th>...</th>\n      <td>...</td>\n      <td>...</td>\n      <td>...</td>\n      <td>...</td>\n      <td>...</td>\n      <td>...</td>\n      <td>...</td>\n      <td>...</td>\n      <td>...</td>\n      <td>...</td>\n      <td>...</td>\n      <td>...</td>\n      <td>...</td>\n      <td>...</td>\n      <td>...</td>\n      <td>...</td>\n      <td>...</td>\n      <td>...</td>\n      <td>...</td>\n      <td>...</td>\n      <td>...</td>\n    </tr>\n    <tr>\n      <th>816717</th>\n      <td>10000.0</td>\n      <td>0</td>\n      <td>11.99</td>\n      <td>332.10</td>\n      <td>4</td>\n      <td>9</td>\n      <td>1</td>\n      <td>31000.0</td>\n      <td>2</td>\n      <td>2</td>\n      <td>...</td>\n      <td>15.0</td>\n      <td>3971.88</td>\n      <td>0.0</td>\n      <td>332.10</td>\n      <td>0</td>\n      <td>0.0</td>\n      <td>0.0</td>\n      <td>25274.0</td>\n      <td>1</td>\n      <td>1</td>\n    </tr>\n    <tr>\n      <th>816718</th>\n      <td>24000.0</td>\n      <td>0</td>\n      <td>11.99</td>\n      <td>797.03</td>\n      <td>4</td>\n      <td>12</td>\n      <td>2</td>\n      <td>79000.0</td>\n      <td>2</td>\n      <td>4</td>\n      <td>...</td>\n      <td>23.0</td>\n      <td>9532.39</td>\n      <td>0.0</td>\n      <td>797.03</td>\n      <td>0</td>\n      <td>0.0</td>\n      <td>0.0</td>\n      <td>140285.0</td>\n      <td>1</td>\n      <td>1</td>\n    </tr>\n    <tr>\n      <th>816719</th>\n      <td>13000.0</td>\n      <td>1</td>\n      <td>15.99</td>\n      <td>316.07</td>\n      <td>2</td>\n      <td>6</td>\n      <td>1</td>\n      <td>35000.0</td>\n      <td>2</td>\n      <td>2</td>\n      <td>...</td>\n      <td>22.0</td>\n      <td>3769.74</td>\n      <td>0.0</td>\n      <td>316.07</td>\n      <td>0</td>\n      <td>0.0</td>\n      <td>0.0</td>\n      <td>34178.0</td>\n      <td>1</td>\n      <td>1</td>\n    </tr>\n    <tr>\n      <th>816720</th>\n      <td>12000.0</td>\n      <td>1</td>\n      <td>19.99</td>\n      <td>317.86</td>\n      <td>1</td>\n      <td>2</td>\n      <td>1</td>\n      <td>64400.0</td>\n      <td>1</td>\n      <td>2</td>\n      <td>...</td>\n      <td>20.0</td>\n      <td>3787.67</td>\n      <td>0.0</td>\n      <td>317.86</td>\n      <td>0</td>\n      <td>0.0</td>\n      <td>0.0</td>\n      <td>58418.0</td>\n      <td>1</td>\n      <td>1</td>\n    </tr>\n    <tr>\n      <th>816721</th>\n      <td>20000.0</td>\n      <td>0</td>\n      <td>11.99</td>\n      <td>664.20</td>\n      <td>4</td>\n      <td>12</td>\n      <td>1</td>\n      <td>100000.0</td>\n      <td>2</td>\n      <td>1</td>\n      <td>...</td>\n      <td>10.0</td>\n      <td>7943.76</td>\n      <td>0.0</td>\n      <td>664.20</td>\n      <td>0</td>\n      <td>0.0</td>\n      <td>0.0</td>\n      <td>33307.0</td>\n      <td>1</td>\n      <td>1</td>\n    </tr>\n  </tbody>\n</table>\n<p>816722 rows × 27 columns</p>\n</div>"
     },
     "execution_count": 119,
     "metadata": {},
     "output_type": "execute_result"
    }
   ],
   "source": [
    "df_loan['risk'] = df_loan['label'].apply(lambda row: 0 if row == 0 else 1)\n",
    "df_loan"
   ],
   "metadata": {
    "collapsed": false
   }
  },
  {
   "cell_type": "code",
   "execution_count": 121,
   "outputs": [
    {
     "data": {
      "text/plain": "        loan_amnt  term  int_rate  installment  grade  emp_length  \\\n454497    32200.0     1     12.59       725.91      3          12   \n757543    20000.0     1     17.57       503.21      2           6   \n344596    33000.0     1     25.89       985.89      0          12   \n38448     22400.0     1     24.08       645.45      0           3   \n455665    10000.0     0      9.99       322.63      4          12   \n...           ...   ...       ...          ...    ...         ...   \n359783     1900.0     0     10.99        62.20      4           8   \n152315     9750.0     0     19.05       357.65      2          12   \n117952    20050.0     0      8.90       636.66      5          12   \n435829     4000.0     0     15.41       139.47      2           0   \n305711    27000.0     1     17.57       679.33      2           8   \n\n        home_ownership  annual_inc  verification_status  purpose  ...  \\\n454497               2    120000.0                    1        2  ...   \n757543               1     85700.0                    1        2  ...   \n344596               1    114000.0                    2        2  ...   \n38448                2    110000.0                    1        1  ...   \n455665               1     63000.0                    0        7  ...   \n...                ...         ...                  ...      ...  ...   \n359783               2     72000.0                    1        1  ...   \n152315               2     72600.0                    0        4  ...   \n117952               2     46000.0                    2        2  ...   \n435829               2     56000.0                    0        2  ...   \n305711               3     85000.0                    2        2  ...   \n\n        total_acc  total_pymnt  total_rec_late_fee  last_pymnt_amnt  \\\n454497       38.0      1429.30                 0.0           725.91   \n757543       39.0      1470.59                 0.0           503.21   \n344596       27.0     20703.69                 0.0           985.89   \n38448        24.0      8219.21                 0.0           645.45   \n455665       35.0       344.83                 0.0           350.38   \n...           ...          ...                 ...              ...   \n359783       31.0      1368.40                 0.0            62.20   \n152315       33.0     10204.45                 0.0          9490.19   \n117952       50.0     21635.77                 0.0           636.66   \n435829       20.0       136.05                 0.0           139.47   \n305711       24.0     27479.02                 0.0          5799.69   \n\n        application_type  acc_now_delinq  tot_coll_amt  tot_cur_bal  label  \\\n454497                 0             0.0           0.0     330564.0      1   \n757543                 0             0.0        1509.0     321235.0      3   \n344596                 0             0.0           0.0      88224.0      1   \n38448                  0             0.0           0.0     183061.0      3   \n455665                 0             0.0           0.0      59220.0      1   \n...                  ...             ...           ...          ...    ...   \n359783                 0             0.0           0.0     151618.0      1   \n152315                 0             0.0           0.0     264158.0      0   \n117952                 0             0.0           0.0      39997.0      1   \n435829                 0             0.0           0.0     246302.0      1   \n305711                 0             0.0           0.0     509456.0      0   \n\n        risk  \n454497     1  \n757543     1  \n344596     1  \n38448      1  \n455665     1  \n...      ...  \n359783     1  \n152315     0  \n117952     1  \n435829     1  \n305711     0  \n\n[653377 rows x 27 columns]",
      "text/html": "<div>\n<style scoped>\n    .dataframe tbody tr th:only-of-type {\n        vertical-align: middle;\n    }\n\n    .dataframe tbody tr th {\n        vertical-align: top;\n    }\n\n    .dataframe thead th {\n        text-align: right;\n    }\n</style>\n<table border=\"1\" class=\"dataframe\">\n  <thead>\n    <tr style=\"text-align: right;\">\n      <th></th>\n      <th>loan_amnt</th>\n      <th>term</th>\n      <th>int_rate</th>\n      <th>installment</th>\n      <th>grade</th>\n      <th>emp_length</th>\n      <th>home_ownership</th>\n      <th>annual_inc</th>\n      <th>verification_status</th>\n      <th>purpose</th>\n      <th>...</th>\n      <th>total_acc</th>\n      <th>total_pymnt</th>\n      <th>total_rec_late_fee</th>\n      <th>last_pymnt_amnt</th>\n      <th>application_type</th>\n      <th>acc_now_delinq</th>\n      <th>tot_coll_amt</th>\n      <th>tot_cur_bal</th>\n      <th>label</th>\n      <th>risk</th>\n    </tr>\n  </thead>\n  <tbody>\n    <tr>\n      <th>454497</th>\n      <td>32200.0</td>\n      <td>1</td>\n      <td>12.59</td>\n      <td>725.91</td>\n      <td>3</td>\n      <td>12</td>\n      <td>2</td>\n      <td>120000.0</td>\n      <td>1</td>\n      <td>2</td>\n      <td>...</td>\n      <td>38.0</td>\n      <td>1429.30</td>\n      <td>0.0</td>\n      <td>725.91</td>\n      <td>0</td>\n      <td>0.0</td>\n      <td>0.0</td>\n      <td>330564.0</td>\n      <td>1</td>\n      <td>1</td>\n    </tr>\n    <tr>\n      <th>757543</th>\n      <td>20000.0</td>\n      <td>1</td>\n      <td>17.57</td>\n      <td>503.21</td>\n      <td>2</td>\n      <td>6</td>\n      <td>1</td>\n      <td>85700.0</td>\n      <td>1</td>\n      <td>2</td>\n      <td>...</td>\n      <td>39.0</td>\n      <td>1470.59</td>\n      <td>0.0</td>\n      <td>503.21</td>\n      <td>0</td>\n      <td>0.0</td>\n      <td>1509.0</td>\n      <td>321235.0</td>\n      <td>3</td>\n      <td>1</td>\n    </tr>\n    <tr>\n      <th>344596</th>\n      <td>33000.0</td>\n      <td>1</td>\n      <td>25.89</td>\n      <td>985.89</td>\n      <td>0</td>\n      <td>12</td>\n      <td>1</td>\n      <td>114000.0</td>\n      <td>2</td>\n      <td>2</td>\n      <td>...</td>\n      <td>27.0</td>\n      <td>20703.69</td>\n      <td>0.0</td>\n      <td>985.89</td>\n      <td>0</td>\n      <td>0.0</td>\n      <td>0.0</td>\n      <td>88224.0</td>\n      <td>1</td>\n      <td>1</td>\n    </tr>\n    <tr>\n      <th>38448</th>\n      <td>22400.0</td>\n      <td>1</td>\n      <td>24.08</td>\n      <td>645.45</td>\n      <td>0</td>\n      <td>3</td>\n      <td>2</td>\n      <td>110000.0</td>\n      <td>1</td>\n      <td>1</td>\n      <td>...</td>\n      <td>24.0</td>\n      <td>8219.21</td>\n      <td>0.0</td>\n      <td>645.45</td>\n      <td>0</td>\n      <td>0.0</td>\n      <td>0.0</td>\n      <td>183061.0</td>\n      <td>3</td>\n      <td>1</td>\n    </tr>\n    <tr>\n      <th>455665</th>\n      <td>10000.0</td>\n      <td>0</td>\n      <td>9.99</td>\n      <td>322.63</td>\n      <td>4</td>\n      <td>12</td>\n      <td>1</td>\n      <td>63000.0</td>\n      <td>0</td>\n      <td>7</td>\n      <td>...</td>\n      <td>35.0</td>\n      <td>344.83</td>\n      <td>0.0</td>\n      <td>350.38</td>\n      <td>0</td>\n      <td>0.0</td>\n      <td>0.0</td>\n      <td>59220.0</td>\n      <td>1</td>\n      <td>1</td>\n    </tr>\n    <tr>\n      <th>...</th>\n      <td>...</td>\n      <td>...</td>\n      <td>...</td>\n      <td>...</td>\n      <td>...</td>\n      <td>...</td>\n      <td>...</td>\n      <td>...</td>\n      <td>...</td>\n      <td>...</td>\n      <td>...</td>\n      <td>...</td>\n      <td>...</td>\n      <td>...</td>\n      <td>...</td>\n      <td>...</td>\n      <td>...</td>\n      <td>...</td>\n      <td>...</td>\n      <td>...</td>\n      <td>...</td>\n    </tr>\n    <tr>\n      <th>359783</th>\n      <td>1900.0</td>\n      <td>0</td>\n      <td>10.99</td>\n      <td>62.20</td>\n      <td>4</td>\n      <td>8</td>\n      <td>2</td>\n      <td>72000.0</td>\n      <td>1</td>\n      <td>1</td>\n      <td>...</td>\n      <td>31.0</td>\n      <td>1368.40</td>\n      <td>0.0</td>\n      <td>62.20</td>\n      <td>0</td>\n      <td>0.0</td>\n      <td>0.0</td>\n      <td>151618.0</td>\n      <td>1</td>\n      <td>1</td>\n    </tr>\n    <tr>\n      <th>152315</th>\n      <td>9750.0</td>\n      <td>0</td>\n      <td>19.05</td>\n      <td>357.65</td>\n      <td>2</td>\n      <td>12</td>\n      <td>2</td>\n      <td>72600.0</td>\n      <td>0</td>\n      <td>4</td>\n      <td>...</td>\n      <td>33.0</td>\n      <td>10204.45</td>\n      <td>0.0</td>\n      <td>9490.19</td>\n      <td>0</td>\n      <td>0.0</td>\n      <td>0.0</td>\n      <td>264158.0</td>\n      <td>0</td>\n      <td>0</td>\n    </tr>\n    <tr>\n      <th>117952</th>\n      <td>20050.0</td>\n      <td>0</td>\n      <td>8.90</td>\n      <td>636.66</td>\n      <td>5</td>\n      <td>12</td>\n      <td>2</td>\n      <td>46000.0</td>\n      <td>2</td>\n      <td>2</td>\n      <td>...</td>\n      <td>50.0</td>\n      <td>21635.77</td>\n      <td>0.0</td>\n      <td>636.66</td>\n      <td>0</td>\n      <td>0.0</td>\n      <td>0.0</td>\n      <td>39997.0</td>\n      <td>1</td>\n      <td>1</td>\n    </tr>\n    <tr>\n      <th>435829</th>\n      <td>4000.0</td>\n      <td>0</td>\n      <td>15.41</td>\n      <td>139.47</td>\n      <td>2</td>\n      <td>0</td>\n      <td>2</td>\n      <td>56000.0</td>\n      <td>0</td>\n      <td>2</td>\n      <td>...</td>\n      <td>20.0</td>\n      <td>136.05</td>\n      <td>0.0</td>\n      <td>139.47</td>\n      <td>0</td>\n      <td>0.0</td>\n      <td>0.0</td>\n      <td>246302.0</td>\n      <td>1</td>\n      <td>1</td>\n    </tr>\n    <tr>\n      <th>305711</th>\n      <td>27000.0</td>\n      <td>1</td>\n      <td>17.57</td>\n      <td>679.33</td>\n      <td>2</td>\n      <td>8</td>\n      <td>3</td>\n      <td>85000.0</td>\n      <td>2</td>\n      <td>2</td>\n      <td>...</td>\n      <td>24.0</td>\n      <td>27479.02</td>\n      <td>0.0</td>\n      <td>5799.69</td>\n      <td>0</td>\n      <td>0.0</td>\n      <td>0.0</td>\n      <td>509456.0</td>\n      <td>0</td>\n      <td>0</td>\n    </tr>\n  </tbody>\n</table>\n<p>653377 rows × 27 columns</p>\n</div>"
     },
     "execution_count": 121,
     "metadata": {},
     "output_type": "execute_result"
    }
   ],
   "source": [
    "# 划分 训练集 和 测试集\n",
    "X_train, X_finalTest, y_train, Y_finalTest = train_test_split(df_loan, df_loan[[\"risk\"]], test_size=0.2, random_state=0)\n",
    "X_train"
   ],
   "metadata": {
    "collapsed": false
   }
  },
  {
   "cell_type": "markdown",
   "source": [
    "# 分类器1：划分\"无风险\"和\"有风险\"\n",
    "模型：KNN，k=30"
   ],
   "metadata": {
    "collapsed": false
   }
  },
  {
   "cell_type": "code",
   "execution_count": 124,
   "outputs": [
    {
     "name": "stderr",
     "output_type": "stream",
     "text": [
      "/Users/mxfmeng/anaconda3/lib/python3.11/site-packages/sklearn/neighbors/_classification.py:228: DataConversionWarning: A column-vector y was passed when a 1d array was expected. Please change the shape of y to (n_samples,), for example using ravel().\n",
      "  return self._fit(X, y)\n",
      "/Users/mxfmeng/anaconda3/lib/python3.11/site-packages/sklearn/base.py:464: UserWarning: X does not have valid feature names, but KNeighborsClassifier was fitted with feature names\n",
      "  warnings.warn(\n"
     ]
    },
    {
     "name": "stdout",
     "output_type": "stream",
     "text": [
      "              precision    recall  f1-score   support\n",
      "\n",
      "           0       0.99      0.71      0.83     25947\n",
      "           1       0.93      1.00      0.96    104729\n",
      "\n",
      "    accuracy                           0.94    130676\n",
      "   macro avg       0.96      0.85      0.90    130676\n",
      "weighted avg       0.94      0.94      0.94    130676\n",
      "\n"
     ]
    }
   ],
   "source": [
    "# 对classifier1的训练集再次划分测试集，用于单独统计正确率\n",
    "X1_train, X1_test, y1_train, y1_test = train_test_split(X_train.drop(columns=['label','risk']), y_train, test_size=0.2, random_state=0)\n",
    "classifier1 = KNeighborsClassifier(n_neighbors=30)\n",
    "classifier1.fit(X1_train,y1_train)\n",
    "Y1_pred = classifier1.predict(X1_test.values)\n",
    "print(classification_report(y1_test, Y1_pred))"
   ],
   "metadata": {
    "collapsed": false
   }
  },
  {
   "cell_type": "markdown",
   "source": [
    "# 分类器2：将\"有风险\"的进一步划分成\"低\"、\"中\"、\"高\"\n",
    "模型：XGBoost"
   ],
   "metadata": {
    "collapsed": false
   }
  },
  {
   "cell_type": "code",
   "execution_count": 129,
   "outputs": [
    {
     "data": {
      "text/plain": "454497    0\n757543    2\n344596    0\n38448     2\n455665    0\n         ..\n122579    0\n304137    0\n359783    0\n117952    0\n435829    0\nName: label, Length: 523475, dtype: int64"
     },
     "execution_count": 129,
     "metadata": {},
     "output_type": "execute_result"
    }
   ],
   "source": [
    "# 筛选出classifier2的训练数据（risk=1）\n",
    "X2 = X_train[X_train['risk'] == 1]\n",
    "y2 = X2['label']-1 # {1,2,3} 不合法，转换为{0,1,2}\n",
    "# 对classifier2的训练集再次划分测试集，用于单独统计正确率\n",
    "X2_train, X2_test, y2_train, y2_test = train_test_split(X2.drop(columns=['label','risk']), y2, test_size=0.2, random_state=0)"
   ],
   "metadata": {
    "collapsed": false
   }
  },
  {
   "cell_type": "code",
   "execution_count": 131,
   "outputs": [
    {
     "name": "stdout",
     "output_type": "stream",
     "text": [
      "              precision    recall  f1-score   support\n",
      "\n",
      "           0       0.94      1.00      0.97     95603\n",
      "           1       0.17      0.00      0.00      1588\n",
      "           2       0.93      0.39      0.55      7504\n",
      "\n",
      "    accuracy                           0.94    104695\n",
      "   macro avg       0.68      0.46      0.51    104695\n",
      "weighted avg       0.93      0.94      0.92    104695\n",
      "\n"
     ]
    }
   ],
   "source": [
    "import xgboost as xgb\n",
    "classifier2 = xgb.XGBClassifier()\n",
    "classifier2.fit(X2_train,y2_train)\n",
    "Y2_pred = classifier2.predict(X2_test.values)\n",
    "print(classification_report(y2_test, Y2_pred))"
   ],
   "metadata": {
    "collapsed": false
   }
  },
  {
   "cell_type": "markdown",
   "source": [
    "# 连接两个classifier\n",
    "用之前划分的测试集 X_finalTest 和 y_finalTest ,测试最终效果"
   ],
   "metadata": {
    "collapsed": false
   }
  },
  {
   "cell_type": "code",
   "execution_count": 134,
   "outputs": [
    {
     "data": {
      "text/plain": "254394    1\n124943    1\n330472    1\n590460    1\n492812    1\n         ..\n363950    3\n214994    1\n711135    1\n689178    3\n815266    1\nName: label, Length: 163345, dtype: int64"
     },
     "execution_count": 134,
     "metadata": {},
     "output_type": "execute_result"
    }
   ],
   "source": [
    "y_finalTest = X_finalTest['label']"
   ],
   "metadata": {
    "collapsed": false
   }
  },
  {
   "cell_type": "code",
   "execution_count": 135,
   "outputs": [
    {
     "name": "stderr",
     "output_type": "stream",
     "text": [
      "/Users/mxfmeng/anaconda3/lib/python3.11/site-packages/sklearn/base.py:464: UserWarning: X does not have valid feature names, but KNeighborsClassifier was fitted with feature names\n",
      "  warnings.warn(\n"
     ]
    },
    {
     "data": {
      "text/plain": "array([1, 1, 1, ..., 1, 1, 1])"
     },
     "execution_count": 135,
     "metadata": {},
     "output_type": "execute_result"
    }
   ],
   "source": [
    "y1_output = classifier1.predict(X_finalTest.drop(columns=['risk','label']).values) # y1_output 表示数据是否有风险(0,1)\n",
    "y1_output"
   ],
   "metadata": {
    "collapsed": false
   }
  },
  {
   "cell_type": "code",
   "execution_count": 159,
   "outputs": [
    {
     "name": "stderr",
     "output_type": "stream",
     "text": [
      "/var/folders/8m/6cpmqrns19n25q6dpm3wnyzh0000gn/T/ipykernel_2477/2888753945.py:4: SettingWithCopyWarning: \n",
      "A value is trying to be set on a copy of a slice from a DataFrame\n",
      "\n",
      "See the caveats in the documentation: https://pandas.pydata.org/pandas-docs/stable/user_guide/indexing.html#returning-a-view-versus-a-copy\n",
      "  X2_input.drop(columns=['label','risk','pred'],inplace=True)\n"
     ]
    }
   ],
   "source": [
    "# 按预测结果筛选出 classifier2 的 input\n",
    "X_finalTest['pred'] = y1_output\n",
    "X2_input = X_finalTest[X_finalTest['pred'] == 1]\n",
    "X2_input.drop(columns=['label','risk','pred'],inplace=True)\n",
    "# classifier2 预测分类结果\n",
    "X2_output = classifier2.predict(X2_input.values)"
   ],
   "metadata": {
    "collapsed": false
   }
  },
  {
   "cell_type": "code",
   "execution_count": 157,
   "outputs": [
    {
     "data": {
      "text/plain": "        result   index\n63845        1       6\n70458        1       7\n154865       0      19\n123619       1      31\n65811        1      36\n...        ...     ...\n82066        3  816690\n26542        1  816697\n133240       1  816702\n137839       1  816710\n104400       3  816714\n\n[163345 rows x 2 columns]",
      "text/html": "<div>\n<style scoped>\n    .dataframe tbody tr th:only-of-type {\n        vertical-align: middle;\n    }\n\n    .dataframe tbody tr th {\n        vertical-align: top;\n    }\n\n    .dataframe thead th {\n        text-align: right;\n    }\n</style>\n<table border=\"1\" class=\"dataframe\">\n  <thead>\n    <tr style=\"text-align: right;\">\n      <th></th>\n      <th>result</th>\n      <th>index</th>\n    </tr>\n  </thead>\n  <tbody>\n    <tr>\n      <th>63845</th>\n      <td>1</td>\n      <td>6</td>\n    </tr>\n    <tr>\n      <th>70458</th>\n      <td>1</td>\n      <td>7</td>\n    </tr>\n    <tr>\n      <th>154865</th>\n      <td>0</td>\n      <td>19</td>\n    </tr>\n    <tr>\n      <th>123619</th>\n      <td>1</td>\n      <td>31</td>\n    </tr>\n    <tr>\n      <th>65811</th>\n      <td>1</td>\n      <td>36</td>\n    </tr>\n    <tr>\n      <th>...</th>\n      <td>...</td>\n      <td>...</td>\n    </tr>\n    <tr>\n      <th>82066</th>\n      <td>3</td>\n      <td>816690</td>\n    </tr>\n    <tr>\n      <th>26542</th>\n      <td>1</td>\n      <td>816697</td>\n    </tr>\n    <tr>\n      <th>133240</th>\n      <td>1</td>\n      <td>816702</td>\n    </tr>\n    <tr>\n      <th>137839</th>\n      <td>1</td>\n      <td>816710</td>\n    </tr>\n    <tr>\n      <th>104400</th>\n      <td>3</td>\n      <td>816714</td>\n    </tr>\n  </tbody>\n</table>\n<p>163345 rows × 2 columns</p>\n</div>"
     },
     "execution_count": 157,
     "metadata": {},
     "output_type": "execute_result"
    }
   ],
   "source": [
    "# classifier2 结果\n",
    "finalRes = pd.DataFrame()\n",
    "finalRes['result'] = X2_output + 1\n",
    "finalRes['index'] = X2_input.index\n",
    "# classifier1 结果\n",
    "tmp = pd.DataFrame()\n",
    "tmp['res'] = y1_output\n",
    "tmp['index'] = X_finalTest.index\n",
    "tmp = tmp[tmp['res'] == 0]\n",
    "tmp.rename(columns={'res':'result'}, inplace=True)\n",
    "# 合并结果\n",
    "finalRes = pd.concat([finalRes,tmp],ignore_index=True)\n",
    "finalRes.sort_values(by='index',inplace=True)\n",
    "finalRes"
   ],
   "metadata": {
    "collapsed": false
   }
  },
  {
   "cell_type": "code",
   "execution_count": 158,
   "outputs": [
    {
     "name": "stdout",
     "output_type": "stream",
     "text": [
      "              precision    recall  f1-score   support\n",
      "\n",
      "           0       0.99      0.71      0.83     32492\n",
      "           1       0.89      1.00      0.94    119626\n",
      "           2       0.02      0.00      0.00      1968\n",
      "           3       0.67      0.40      0.50      9259\n",
      "\n",
      "    accuracy                           0.89    163345\n",
      "   macro avg       0.64      0.53      0.57    163345\n",
      "weighted avg       0.88      0.89      0.88    163345\n",
      "\n"
     ]
    }
   ],
   "source": [
    "y_finalTest.sort_index(inplace=True)\n",
    "print(classification_report(y_finalTest,finalRes['result']))"
   ],
   "metadata": {
    "collapsed": false
   }
  }
 ],
 "metadata": {
  "kernelspec": {
   "display_name": "Python 3",
   "language": "python",
   "name": "python3"
  },
  "language_info": {
   "codemirror_mode": {
    "name": "ipython",
    "version": 2
   },
   "file_extension": ".py",
   "mimetype": "text/x-python",
   "name": "python",
   "nbconvert_exporter": "python",
   "pygments_lexer": "ipython2",
   "version": "2.7.6"
  }
 },
 "nbformat": 4,
 "nbformat_minor": 0
}
