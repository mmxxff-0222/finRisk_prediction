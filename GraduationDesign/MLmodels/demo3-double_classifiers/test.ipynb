{
 "cells": [
  {
   "cell_type": "code",
   "execution_count": 1,
   "outputs": [
    {
     "data": {
      "text/plain": "        loan_amnt  term  int_rate  installment  grade  emp_length  \\\n0         27050.0     0     10.99       885.46      4          12   \n1          9750.0     0     13.98       333.14      3           2   \n2         12000.0     0      6.62       368.45      5          12   \n3         12000.0     0     13.53       407.40      4          12   \n4         15000.0     0      8.90       476.30      5           3   \n...           ...   ...       ...          ...    ...         ...   \n816717    10000.0     0     11.99       332.10      4           9   \n816718    24000.0     0     11.99       797.03      4          12   \n816719    13000.0     1     15.99       316.07      2           6   \n816720    12000.0     1     19.99       317.86      1           2   \n816721    20000.0     0     11.99       664.20      4          12   \n\n        home_ownership  annual_inc  verification_status  purpose  ...  \\\n0                    3     55000.0                    2        2  ...   \n1                    1     26000.0                    0        2  ...   \n2                    2    105000.0                    0        2  ...   \n3                    1     40000.0                    1        2  ...   \n4                    2     63000.0                    0        2  ...   \n...                ...         ...                  ...      ...  ...   \n816717               1     31000.0                    2        2  ...   \n816718               2     79000.0                    2        4  ...   \n816719               1     35000.0                    2        2  ...   \n816720               1     64400.0                    1        2  ...   \n816721               1    100000.0                    2        1  ...   \n\n        revol_util  total_acc  total_pymnt  total_rec_late_fee  \\\n0             61.2       27.0     21251.04                 0.0   \n1             52.8       28.0      7994.83                 0.0   \n2             21.6       22.0      8842.80                 0.0   \n3             68.8       32.0     13359.77                 0.0   \n4             74.2       29.0     11431.20                 0.0   \n...            ...        ...          ...                 ...   \n816717        82.1       15.0      3971.88                 0.0   \n816718        84.5       23.0      9532.39                 0.0   \n816719        61.3       22.0      3769.74                 0.0   \n816720        30.6       20.0      3787.67                 0.0   \n816721        79.8       10.0      7943.76                 0.0   \n\n        last_pymnt_amnt  application_type  acc_now_delinq  tot_coll_amt  \\\n0                885.46                 0             0.0           0.0   \n1                333.14                 0             0.0           0.0   \n2                368.45                 0             0.0           0.0   \n3                119.17                 0             0.0       15386.0   \n4                476.30                 0             0.0        1514.0   \n...                 ...               ...             ...           ...   \n816717           332.10                 0             0.0           0.0   \n816718           797.03                 0             0.0           0.0   \n816719           316.07                 0             0.0           0.0   \n816720           317.86                 0             0.0           0.0   \n816721           664.20                 0             0.0           0.0   \n\n        tot_cur_bal  label  \n0          114834.0      1  \n1           14123.0      1  \n2          267646.0      1  \n3           13605.0      0  \n4          272492.0      1  \n...             ...    ...  \n816717      25274.0      1  \n816718     140285.0      1  \n816719      34178.0      1  \n816720      58418.0      1  \n816721      33307.0      1  \n\n[816722 rows x 26 columns]",
      "text/html": "<div>\n<style scoped>\n    .dataframe tbody tr th:only-of-type {\n        vertical-align: middle;\n    }\n\n    .dataframe tbody tr th {\n        vertical-align: top;\n    }\n\n    .dataframe thead th {\n        text-align: right;\n    }\n</style>\n<table border=\"1\" class=\"dataframe\">\n  <thead>\n    <tr style=\"text-align: right;\">\n      <th></th>\n      <th>loan_amnt</th>\n      <th>term</th>\n      <th>int_rate</th>\n      <th>installment</th>\n      <th>grade</th>\n      <th>emp_length</th>\n      <th>home_ownership</th>\n      <th>annual_inc</th>\n      <th>verification_status</th>\n      <th>purpose</th>\n      <th>...</th>\n      <th>revol_util</th>\n      <th>total_acc</th>\n      <th>total_pymnt</th>\n      <th>total_rec_late_fee</th>\n      <th>last_pymnt_amnt</th>\n      <th>application_type</th>\n      <th>acc_now_delinq</th>\n      <th>tot_coll_amt</th>\n      <th>tot_cur_bal</th>\n      <th>label</th>\n    </tr>\n  </thead>\n  <tbody>\n    <tr>\n      <th>0</th>\n      <td>27050.0</td>\n      <td>0</td>\n      <td>10.99</td>\n      <td>885.46</td>\n      <td>4</td>\n      <td>12</td>\n      <td>3</td>\n      <td>55000.0</td>\n      <td>2</td>\n      <td>2</td>\n      <td>...</td>\n      <td>61.2</td>\n      <td>27.0</td>\n      <td>21251.04</td>\n      <td>0.0</td>\n      <td>885.46</td>\n      <td>0</td>\n      <td>0.0</td>\n      <td>0.0</td>\n      <td>114834.0</td>\n      <td>1</td>\n    </tr>\n    <tr>\n      <th>1</th>\n      <td>9750.0</td>\n      <td>0</td>\n      <td>13.98</td>\n      <td>333.14</td>\n      <td>3</td>\n      <td>2</td>\n      <td>1</td>\n      <td>26000.0</td>\n      <td>0</td>\n      <td>2</td>\n      <td>...</td>\n      <td>52.8</td>\n      <td>28.0</td>\n      <td>7994.83</td>\n      <td>0.0</td>\n      <td>333.14</td>\n      <td>0</td>\n      <td>0.0</td>\n      <td>0.0</td>\n      <td>14123.0</td>\n      <td>1</td>\n    </tr>\n    <tr>\n      <th>2</th>\n      <td>12000.0</td>\n      <td>0</td>\n      <td>6.62</td>\n      <td>368.45</td>\n      <td>5</td>\n      <td>12</td>\n      <td>2</td>\n      <td>105000.0</td>\n      <td>0</td>\n      <td>2</td>\n      <td>...</td>\n      <td>21.6</td>\n      <td>22.0</td>\n      <td>8842.80</td>\n      <td>0.0</td>\n      <td>368.45</td>\n      <td>0</td>\n      <td>0.0</td>\n      <td>0.0</td>\n      <td>267646.0</td>\n      <td>1</td>\n    </tr>\n    <tr>\n      <th>3</th>\n      <td>12000.0</td>\n      <td>0</td>\n      <td>13.53</td>\n      <td>407.40</td>\n      <td>4</td>\n      <td>12</td>\n      <td>1</td>\n      <td>40000.0</td>\n      <td>1</td>\n      <td>2</td>\n      <td>...</td>\n      <td>68.8</td>\n      <td>32.0</td>\n      <td>13359.77</td>\n      <td>0.0</td>\n      <td>119.17</td>\n      <td>0</td>\n      <td>0.0</td>\n      <td>15386.0</td>\n      <td>13605.0</td>\n      <td>0</td>\n    </tr>\n    <tr>\n      <th>4</th>\n      <td>15000.0</td>\n      <td>0</td>\n      <td>8.90</td>\n      <td>476.30</td>\n      <td>5</td>\n      <td>3</td>\n      <td>2</td>\n      <td>63000.0</td>\n      <td>0</td>\n      <td>2</td>\n      <td>...</td>\n      <td>74.2</td>\n      <td>29.0</td>\n      <td>11431.20</td>\n      <td>0.0</td>\n      <td>476.30</td>\n      <td>0</td>\n      <td>0.0</td>\n      <td>1514.0</td>\n      <td>272492.0</td>\n      <td>1</td>\n    </tr>\n    <tr>\n      <th>...</th>\n      <td>...</td>\n      <td>...</td>\n      <td>...</td>\n      <td>...</td>\n      <td>...</td>\n      <td>...</td>\n      <td>...</td>\n      <td>...</td>\n      <td>...</td>\n      <td>...</td>\n      <td>...</td>\n      <td>...</td>\n      <td>...</td>\n      <td>...</td>\n      <td>...</td>\n      <td>...</td>\n      <td>...</td>\n      <td>...</td>\n      <td>...</td>\n      <td>...</td>\n      <td>...</td>\n    </tr>\n    <tr>\n      <th>816717</th>\n      <td>10000.0</td>\n      <td>0</td>\n      <td>11.99</td>\n      <td>332.10</td>\n      <td>4</td>\n      <td>9</td>\n      <td>1</td>\n      <td>31000.0</td>\n      <td>2</td>\n      <td>2</td>\n      <td>...</td>\n      <td>82.1</td>\n      <td>15.0</td>\n      <td>3971.88</td>\n      <td>0.0</td>\n      <td>332.10</td>\n      <td>0</td>\n      <td>0.0</td>\n      <td>0.0</td>\n      <td>25274.0</td>\n      <td>1</td>\n    </tr>\n    <tr>\n      <th>816718</th>\n      <td>24000.0</td>\n      <td>0</td>\n      <td>11.99</td>\n      <td>797.03</td>\n      <td>4</td>\n      <td>12</td>\n      <td>2</td>\n      <td>79000.0</td>\n      <td>2</td>\n      <td>4</td>\n      <td>...</td>\n      <td>84.5</td>\n      <td>23.0</td>\n      <td>9532.39</td>\n      <td>0.0</td>\n      <td>797.03</td>\n      <td>0</td>\n      <td>0.0</td>\n      <td>0.0</td>\n      <td>140285.0</td>\n      <td>1</td>\n    </tr>\n    <tr>\n      <th>816719</th>\n      <td>13000.0</td>\n      <td>1</td>\n      <td>15.99</td>\n      <td>316.07</td>\n      <td>2</td>\n      <td>6</td>\n      <td>1</td>\n      <td>35000.0</td>\n      <td>2</td>\n      <td>2</td>\n      <td>...</td>\n      <td>61.3</td>\n      <td>22.0</td>\n      <td>3769.74</td>\n      <td>0.0</td>\n      <td>316.07</td>\n      <td>0</td>\n      <td>0.0</td>\n      <td>0.0</td>\n      <td>34178.0</td>\n      <td>1</td>\n    </tr>\n    <tr>\n      <th>816720</th>\n      <td>12000.0</td>\n      <td>1</td>\n      <td>19.99</td>\n      <td>317.86</td>\n      <td>1</td>\n      <td>2</td>\n      <td>1</td>\n      <td>64400.0</td>\n      <td>1</td>\n      <td>2</td>\n      <td>...</td>\n      <td>30.6</td>\n      <td>20.0</td>\n      <td>3787.67</td>\n      <td>0.0</td>\n      <td>317.86</td>\n      <td>0</td>\n      <td>0.0</td>\n      <td>0.0</td>\n      <td>58418.0</td>\n      <td>1</td>\n    </tr>\n    <tr>\n      <th>816721</th>\n      <td>20000.0</td>\n      <td>0</td>\n      <td>11.99</td>\n      <td>664.20</td>\n      <td>4</td>\n      <td>12</td>\n      <td>1</td>\n      <td>100000.0</td>\n      <td>2</td>\n      <td>1</td>\n      <td>...</td>\n      <td>79.8</td>\n      <td>10.0</td>\n      <td>7943.76</td>\n      <td>0.0</td>\n      <td>664.20</td>\n      <td>0</td>\n      <td>0.0</td>\n      <td>0.0</td>\n      <td>33307.0</td>\n      <td>1</td>\n    </tr>\n  </tbody>\n</table>\n<p>816722 rows × 26 columns</p>\n</div>"
     },
     "execution_count": 1,
     "metadata": {},
     "output_type": "execute_result"
    }
   ],
   "source": [
    "import pandas as pd\n",
    "import xgboost as xgb\n",
    "from sklearn.model_selection import train_test_split\n",
    "from sklearn.neighbors import KNeighborsClassifier\n",
    "from sklearn.metrics import classification_report\n",
    "from Model_DblXGBoost import DblXGBoost\n",
    "\n",
    "\n",
    "\n",
    "# 加载数据集\n",
    "df_loan = pd.read_csv(\"/Users/mxfmeng/PycharmProjects/GraduationDesign/MLmodels/dataset/loan_new_3_1.csv\")\n",
    "df_loan.drop(columns=['loan_status'], inplace=True)\n",
    "df_loan\n",
    "\n"
   ],
   "metadata": {
    "collapsed": false
   }
  },
  {
   "cell_type": "code",
   "execution_count": 2,
   "outputs": [],
   "source": [
    "X_train, X_test, y_train, y_test = train_test_split(df_loan.drop(columns=['label']), df_loan[['label']], test_size=0.2, random_state=0)"
   ],
   "metadata": {
    "collapsed": false
   }
  },
  {
   "cell_type": "code",
   "execution_count": 3,
   "outputs": [],
   "source": [
    "params1 = {'max_depth': 3, 'learning_rate': 0.1, 'n_estimators': 100}\n",
    "params2 = {'max_depth': 5, 'learning_rate': 0.05, 'n_estimators': 200}\n",
    "model = DblXGBoost(params1= params1,params2=params2)\n",
    "model.fit(X_train, y_train)"
   ],
   "metadata": {
    "collapsed": false
   }
  },
  {
   "cell_type": "code",
   "execution_count": 4,
   "outputs": [
    {
     "name": "stderr",
     "output_type": "stream",
     "text": [
      "/Users/mxfmeng/PycharmProjects/GraduationDesign/MLmodels/demo3-double_classifiers/Model_DblXGBoost.py:37: SettingWithCopyWarning: \n",
      "A value is trying to be set on a copy of a slice from a DataFrame\n",
      "\n",
      "See the caveats in the documentation: https://pandas.pydata.org/pandas-docs/stable/user_guide/indexing.html#returning-a-view-versus-a-copy\n",
      "  c2_input.drop(columns=['pred'], inplace=True)\n"
     ]
    }
   ],
   "source": [
    "predictions = model.predict(X_test)"
   ],
   "metadata": {
    "collapsed": false
   }
  },
  {
   "cell_type": "code",
   "execution_count": 5,
   "outputs": [
    {
     "name": "stdout",
     "output_type": "stream",
     "text": [
      "              precision    recall  f1-score   support\n",
      "\n",
      "           0       0.98      0.90      0.94     32492\n",
      "           1       0.90      1.00      0.95    119626\n",
      "           2       0.00      0.00      0.00      1968\n",
      "           3       0.83      0.14      0.25      9259\n",
      "\n",
      "    accuracy                           0.92    163345\n",
      "   macro avg       0.68      0.51      0.53    163345\n",
      "weighted avg       0.90      0.92      0.89    163345\n",
      "\n"
     ]
    },
    {
     "name": "stderr",
     "output_type": "stream",
     "text": [
      "/Users/mxfmeng/anaconda3/lib/python3.11/site-packages/sklearn/metrics/_classification.py:1469: UndefinedMetricWarning: Precision and F-score are ill-defined and being set to 0.0 in labels with no predicted samples. Use `zero_division` parameter to control this behavior.\n",
      "  _warn_prf(average, modifier, msg_start, len(result))\n",
      "/Users/mxfmeng/anaconda3/lib/python3.11/site-packages/sklearn/metrics/_classification.py:1469: UndefinedMetricWarning: Precision and F-score are ill-defined and being set to 0.0 in labels with no predicted samples. Use `zero_division` parameter to control this behavior.\n",
      "  _warn_prf(average, modifier, msg_start, len(result))\n",
      "/Users/mxfmeng/anaconda3/lib/python3.11/site-packages/sklearn/metrics/_classification.py:1469: UndefinedMetricWarning: Precision and F-score are ill-defined and being set to 0.0 in labels with no predicted samples. Use `zero_division` parameter to control this behavior.\n",
      "  _warn_prf(average, modifier, msg_start, len(result))\n"
     ]
    }
   ],
   "source": [
    "print(classification_report(y_test, predictions['result']))"
   ],
   "metadata": {
    "collapsed": false
   }
  },
  {
   "cell_type": "code",
   "execution_count": 7,
   "outputs": [
    {
     "data": {
      "text/plain": "['model_DblXGBoost.pkl']"
     },
     "execution_count": 7,
     "metadata": {},
     "output_type": "execute_result"
    }
   ],
   "source": [
    "import joblib\n",
    "\n",
    "joblib.dump(model, 'model_DblXGBoost.pkl')"
   ],
   "metadata": {
    "collapsed": false
   }
  },
  {
   "cell_type": "markdown",
   "source": [
    "# 以下为pmml生成"
   ],
   "metadata": {
    "collapsed": false
   }
  },
  {
   "cell_type": "code",
   "execution_count": 12,
   "outputs": [
    {
     "ename": "KeyboardInterrupt",
     "evalue": "",
     "output_type": "error",
     "traceback": [
      "\u001B[0;31m---------------------------------------------------------------------------\u001B[0m",
      "\u001B[0;31mKeyboardInterrupt\u001B[0m                         Traceback (most recent call last)",
      "Cell \u001B[0;32mIn[12], line 6\u001B[0m\n\u001B[1;32m      4\u001B[0m feature_names_2 \u001B[38;5;241m=\u001B[39m \u001B[38;5;28mlist\u001B[39m(X_test\u001B[38;5;241m.\u001B[39mcolumns)\n\u001B[1;32m      5\u001B[0m pipeline \u001B[38;5;241m=\u001B[39m PMMLPipeline([(\u001B[38;5;124m\"\u001B[39m\u001B[38;5;124mclassifier\u001B[39m\u001B[38;5;124m\"\u001B[39m, model)])\n\u001B[0;32m----> 6\u001B[0m pipeline\u001B[38;5;241m.\u001B[39mfit(X_train[feature_names_2], y_train[\u001B[38;5;124m'\u001B[39m\u001B[38;5;124mlabel\u001B[39m\u001B[38;5;124m'\u001B[39m])\n\u001B[1;32m      7\u001B[0m sklearn2pmml(pipeline, \u001B[38;5;124m'\u001B[39m\u001B[38;5;124mDblXGB.pmml\u001B[39m\u001B[38;5;124m'\u001B[39m, with_repr\u001B[38;5;241m=\u001B[39m\u001B[38;5;28;01mTrue\u001B[39;00m)\n\u001B[1;32m      8\u001B[0m pipeline\u001B[38;5;241m.\u001B[39mverify(X_train\u001B[38;5;241m.\u001B[39msample(n \u001B[38;5;241m=\u001B[39m \u001B[38;5;241m15\u001B[39m))\n",
      "File \u001B[0;32m~/anaconda3/lib/python3.11/site-packages/sklearn/base.py:1151\u001B[0m, in \u001B[0;36m_fit_context.<locals>.decorator.<locals>.wrapper\u001B[0;34m(estimator, *args, **kwargs)\u001B[0m\n\u001B[1;32m   1144\u001B[0m     estimator\u001B[38;5;241m.\u001B[39m_validate_params()\n\u001B[1;32m   1146\u001B[0m \u001B[38;5;28;01mwith\u001B[39;00m config_context(\n\u001B[1;32m   1147\u001B[0m     skip_parameter_validation\u001B[38;5;241m=\u001B[39m(\n\u001B[1;32m   1148\u001B[0m         prefer_skip_nested_validation \u001B[38;5;129;01mor\u001B[39;00m global_skip_validation\n\u001B[1;32m   1149\u001B[0m     )\n\u001B[1;32m   1150\u001B[0m ):\n\u001B[0;32m-> 1151\u001B[0m     \u001B[38;5;28;01mreturn\u001B[39;00m fit_method(estimator, \u001B[38;5;241m*\u001B[39margs, \u001B[38;5;241m*\u001B[39m\u001B[38;5;241m*\u001B[39mkwargs)\n",
      "File \u001B[0;32m~/anaconda3/lib/python3.11/site-packages/sklearn/pipeline.py:420\u001B[0m, in \u001B[0;36mPipeline.fit\u001B[0;34m(self, X, y, **fit_params)\u001B[0m\n\u001B[1;32m    418\u001B[0m     \u001B[38;5;28;01mif\u001B[39;00m \u001B[38;5;28mself\u001B[39m\u001B[38;5;241m.\u001B[39m_final_estimator \u001B[38;5;241m!=\u001B[39m \u001B[38;5;124m\"\u001B[39m\u001B[38;5;124mpassthrough\u001B[39m\u001B[38;5;124m\"\u001B[39m:\n\u001B[1;32m    419\u001B[0m         fit_params_last_step \u001B[38;5;241m=\u001B[39m fit_params_steps[\u001B[38;5;28mself\u001B[39m\u001B[38;5;241m.\u001B[39msteps[\u001B[38;5;241m-\u001B[39m\u001B[38;5;241m1\u001B[39m][\u001B[38;5;241m0\u001B[39m]]\n\u001B[0;32m--> 420\u001B[0m         \u001B[38;5;28mself\u001B[39m\u001B[38;5;241m.\u001B[39m_final_estimator\u001B[38;5;241m.\u001B[39mfit(Xt, y, \u001B[38;5;241m*\u001B[39m\u001B[38;5;241m*\u001B[39mfit_params_last_step)\n\u001B[1;32m    422\u001B[0m \u001B[38;5;28;01mreturn\u001B[39;00m \u001B[38;5;28mself\u001B[39m\n",
      "File \u001B[0;32m~/PycharmProjects/GraduationDesign/MLmodels/demo3-double_classifiers/Model_DblXGBoost.py:26\u001B[0m, in \u001B[0;36mDblXGBoost.fit\u001B[0;34m(self, X, y)\u001B[0m\n\u001B[1;32m     24\u001B[0m y2_train \u001B[38;5;241m=\u001B[39m X2_train[\u001B[38;5;124m'\u001B[39m\u001B[38;5;124mlabel\u001B[39m\u001B[38;5;124m'\u001B[39m] \u001B[38;5;241m-\u001B[39m \u001B[38;5;241m1\u001B[39m\n\u001B[1;32m     25\u001B[0m X2_train \u001B[38;5;241m=\u001B[39m X2_train\u001B[38;5;241m.\u001B[39mdrop(columns\u001B[38;5;241m=\u001B[39m[\u001B[38;5;124m'\u001B[39m\u001B[38;5;124mlabel\u001B[39m\u001B[38;5;124m'\u001B[39m,\u001B[38;5;124m'\u001B[39m\u001B[38;5;124mrisk\u001B[39m\u001B[38;5;124m'\u001B[39m])\n\u001B[0;32m---> 26\u001B[0m \u001B[38;5;28mself\u001B[39m\u001B[38;5;241m.\u001B[39mmodel2\u001B[38;5;241m.\u001B[39mfit(X2_train, y2_train)\n",
      "File \u001B[0;32m~/anaconda3/lib/python3.11/site-packages/xgboost/core.py:620\u001B[0m, in \u001B[0;36mrequire_keyword_args.<locals>.throw_if.<locals>.inner_f\u001B[0;34m(*args, **kwargs)\u001B[0m\n\u001B[1;32m    618\u001B[0m \u001B[38;5;28;01mfor\u001B[39;00m k, arg \u001B[38;5;129;01min\u001B[39;00m \u001B[38;5;28mzip\u001B[39m(sig\u001B[38;5;241m.\u001B[39mparameters, args):\n\u001B[1;32m    619\u001B[0m     kwargs[k] \u001B[38;5;241m=\u001B[39m arg\n\u001B[0;32m--> 620\u001B[0m \u001B[38;5;28;01mreturn\u001B[39;00m func(\u001B[38;5;241m*\u001B[39m\u001B[38;5;241m*\u001B[39mkwargs)\n",
      "File \u001B[0;32m~/anaconda3/lib/python3.11/site-packages/xgboost/sklearn.py:1490\u001B[0m, in \u001B[0;36mXGBClassifier.fit\u001B[0;34m(self, X, y, sample_weight, base_margin, eval_set, eval_metric, early_stopping_rounds, verbose, xgb_model, sample_weight_eval_set, base_margin_eval_set, feature_weights, callbacks)\u001B[0m\n\u001B[1;32m   1462\u001B[0m (\n\u001B[1;32m   1463\u001B[0m     model,\n\u001B[1;32m   1464\u001B[0m     metric,\n\u001B[0;32m   (...)\u001B[0m\n\u001B[1;32m   1469\u001B[0m     xgb_model, eval_metric, params, early_stopping_rounds, callbacks\n\u001B[1;32m   1470\u001B[0m )\n\u001B[1;32m   1471\u001B[0m train_dmatrix, evals \u001B[38;5;241m=\u001B[39m _wrap_evaluation_matrices(\n\u001B[1;32m   1472\u001B[0m     missing\u001B[38;5;241m=\u001B[39m\u001B[38;5;28mself\u001B[39m\u001B[38;5;241m.\u001B[39mmissing,\n\u001B[1;32m   1473\u001B[0m     X\u001B[38;5;241m=\u001B[39mX,\n\u001B[0;32m   (...)\u001B[0m\n\u001B[1;32m   1487\u001B[0m     feature_types\u001B[38;5;241m=\u001B[39m\u001B[38;5;28mself\u001B[39m\u001B[38;5;241m.\u001B[39mfeature_types,\n\u001B[1;32m   1488\u001B[0m )\n\u001B[0;32m-> 1490\u001B[0m \u001B[38;5;28mself\u001B[39m\u001B[38;5;241m.\u001B[39m_Booster \u001B[38;5;241m=\u001B[39m train(\n\u001B[1;32m   1491\u001B[0m     params,\n\u001B[1;32m   1492\u001B[0m     train_dmatrix,\n\u001B[1;32m   1493\u001B[0m     \u001B[38;5;28mself\u001B[39m\u001B[38;5;241m.\u001B[39mget_num_boosting_rounds(),\n\u001B[1;32m   1494\u001B[0m     evals\u001B[38;5;241m=\u001B[39mevals,\n\u001B[1;32m   1495\u001B[0m     early_stopping_rounds\u001B[38;5;241m=\u001B[39mearly_stopping_rounds,\n\u001B[1;32m   1496\u001B[0m     evals_result\u001B[38;5;241m=\u001B[39mevals_result,\n\u001B[1;32m   1497\u001B[0m     obj\u001B[38;5;241m=\u001B[39mobj,\n\u001B[1;32m   1498\u001B[0m     custom_metric\u001B[38;5;241m=\u001B[39mmetric,\n\u001B[1;32m   1499\u001B[0m     verbose_eval\u001B[38;5;241m=\u001B[39mverbose,\n\u001B[1;32m   1500\u001B[0m     xgb_model\u001B[38;5;241m=\u001B[39mmodel,\n\u001B[1;32m   1501\u001B[0m     callbacks\u001B[38;5;241m=\u001B[39mcallbacks,\n\u001B[1;32m   1502\u001B[0m )\n\u001B[1;32m   1504\u001B[0m \u001B[38;5;28;01mif\u001B[39;00m \u001B[38;5;129;01mnot\u001B[39;00m \u001B[38;5;28mcallable\u001B[39m(\u001B[38;5;28mself\u001B[39m\u001B[38;5;241m.\u001B[39mobjective):\n\u001B[1;32m   1505\u001B[0m     \u001B[38;5;28mself\u001B[39m\u001B[38;5;241m.\u001B[39mobjective \u001B[38;5;241m=\u001B[39m params[\u001B[38;5;124m\"\u001B[39m\u001B[38;5;124mobjective\u001B[39m\u001B[38;5;124m\"\u001B[39m]\n",
      "File \u001B[0;32m~/anaconda3/lib/python3.11/site-packages/xgboost/core.py:620\u001B[0m, in \u001B[0;36mrequire_keyword_args.<locals>.throw_if.<locals>.inner_f\u001B[0;34m(*args, **kwargs)\u001B[0m\n\u001B[1;32m    618\u001B[0m \u001B[38;5;28;01mfor\u001B[39;00m k, arg \u001B[38;5;129;01min\u001B[39;00m \u001B[38;5;28mzip\u001B[39m(sig\u001B[38;5;241m.\u001B[39mparameters, args):\n\u001B[1;32m    619\u001B[0m     kwargs[k] \u001B[38;5;241m=\u001B[39m arg\n\u001B[0;32m--> 620\u001B[0m \u001B[38;5;28;01mreturn\u001B[39;00m func(\u001B[38;5;241m*\u001B[39m\u001B[38;5;241m*\u001B[39mkwargs)\n",
      "File \u001B[0;32m~/anaconda3/lib/python3.11/site-packages/xgboost/training.py:185\u001B[0m, in \u001B[0;36mtrain\u001B[0;34m(params, dtrain, num_boost_round, evals, obj, feval, maximize, early_stopping_rounds, evals_result, verbose_eval, xgb_model, callbacks, custom_metric)\u001B[0m\n\u001B[1;32m    183\u001B[0m \u001B[38;5;28;01mif\u001B[39;00m cb_container\u001B[38;5;241m.\u001B[39mbefore_iteration(bst, i, dtrain, evals):\n\u001B[1;32m    184\u001B[0m     \u001B[38;5;28;01mbreak\u001B[39;00m\n\u001B[0;32m--> 185\u001B[0m bst\u001B[38;5;241m.\u001B[39mupdate(dtrain, i, obj)\n\u001B[1;32m    186\u001B[0m \u001B[38;5;28;01mif\u001B[39;00m cb_container\u001B[38;5;241m.\u001B[39mafter_iteration(bst, i, dtrain, evals):\n\u001B[1;32m    187\u001B[0m     \u001B[38;5;28;01mbreak\u001B[39;00m\n",
      "File \u001B[0;32m~/anaconda3/lib/python3.11/site-packages/xgboost/core.py:1918\u001B[0m, in \u001B[0;36mBooster.update\u001B[0;34m(self, dtrain, iteration, fobj)\u001B[0m\n\u001B[1;32m   1915\u001B[0m \u001B[38;5;28mself\u001B[39m\u001B[38;5;241m.\u001B[39m_validate_dmatrix_features(dtrain)\n\u001B[1;32m   1917\u001B[0m \u001B[38;5;28;01mif\u001B[39;00m fobj \u001B[38;5;129;01mis\u001B[39;00m \u001B[38;5;28;01mNone\u001B[39;00m:\n\u001B[0;32m-> 1918\u001B[0m     _check_call(_LIB\u001B[38;5;241m.\u001B[39mXGBoosterUpdateOneIter(\u001B[38;5;28mself\u001B[39m\u001B[38;5;241m.\u001B[39mhandle,\n\u001B[1;32m   1919\u001B[0m                                             ctypes\u001B[38;5;241m.\u001B[39mc_int(iteration),\n\u001B[1;32m   1920\u001B[0m                                             dtrain\u001B[38;5;241m.\u001B[39mhandle))\n\u001B[1;32m   1921\u001B[0m \u001B[38;5;28;01melse\u001B[39;00m:\n\u001B[1;32m   1922\u001B[0m     pred \u001B[38;5;241m=\u001B[39m \u001B[38;5;28mself\u001B[39m\u001B[38;5;241m.\u001B[39mpredict(dtrain, output_margin\u001B[38;5;241m=\u001B[39m\u001B[38;5;28;01mTrue\u001B[39;00m, training\u001B[38;5;241m=\u001B[39m\u001B[38;5;28;01mTrue\u001B[39;00m)\n",
      "\u001B[0;31mKeyboardInterrupt\u001B[0m: "
     ]
    }
   ],
   "source": [
    "import joblib\n",
    "from sklearn2pmml import PMMLPipeline,sklearn2pmml\n",
    "\n",
    "feature_names_2 = list(X_test.columns)\n",
    "pipeline = PMMLPipeline([(\"classifier\", model)])\n",
    "pipeline.fit(X_train[feature_names_2], y_train['label'])\n",
    "sklearn2pmml(pipeline, 'DblXGB.pmml', with_repr=True)\n",
    "pipeline.verify(X_train.sample(n = 15))\n"
   ],
   "metadata": {
    "collapsed": false
   }
  },
  {
   "cell_type": "code",
   "execution_count": 9,
   "outputs": [
    {
     "data": {
      "text/plain": "['loan_amnt',\n 'term',\n 'int_rate',\n 'installment',\n 'grade',\n 'emp_length',\n 'home_ownership',\n 'annual_inc',\n 'verification_status',\n 'purpose',\n 'addr_state',\n 'dti',\n 'delinq_2yrs',\n 'open_acc',\n 'pub_rec',\n 'revol_bal',\n 'revol_util',\n 'total_acc',\n 'total_pymnt',\n 'total_rec_late_fee',\n 'last_pymnt_amnt',\n 'application_type',\n 'acc_now_delinq',\n 'tot_coll_amt',\n 'tot_cur_bal']"
     },
     "execution_count": 9,
     "metadata": {},
     "output_type": "execute_result"
    }
   ],
   "source": [
    "list(X_test.columns)"
   ],
   "metadata": {
    "collapsed": false
   }
  },
  {
   "cell_type": "code",
   "execution_count": null,
   "outputs": [],
   "source": [],
   "metadata": {
    "collapsed": false
   }
  }
 ],
 "metadata": {
  "kernelspec": {
   "display_name": "Python 3",
   "language": "python",
   "name": "python3"
  },
  "language_info": {
   "codemirror_mode": {
    "name": "ipython",
    "version": 2
   },
   "file_extension": ".py",
   "mimetype": "text/x-python",
   "name": "python",
   "nbconvert_exporter": "python",
   "pygments_lexer": "ipython2",
   "version": "2.7.6"
  }
 },
 "nbformat": 4,
 "nbformat_minor": 0
}
