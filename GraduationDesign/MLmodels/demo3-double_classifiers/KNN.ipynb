{
 "cells": [
  {
   "cell_type": "code",
   "execution_count": 19,
   "metadata": {
    "collapsed": true
   },
   "outputs": [
    {
     "data": {
      "text/plain": "   loan_amnt  term  int_rate  installment  grade  emp_length  home_ownership  \\\n0    27050.0     0     10.99       885.46      4          12               3   \n1     9750.0     0     13.98       333.14      3           2               1   \n2    12000.0     0      6.62       368.45      5          12               2   \n3    12000.0     0     11.99       398.52      4          12               2   \n4     7550.0     0     16.24       266.34      3           4               1   \n5    12000.0     0      7.62       373.94      5           4               2   \n6    12000.0     0     10.99       392.81      4           5               1   \n\n   annual_inc  verification_status loan_status  ...  revol_util  total_acc  \\\n0     55000.0                    2     Current  ...        61.2       27.0   \n1     26000.0                    0     Current  ...        52.8       28.0   \n2    105000.0                    0     Current  ...        21.6       22.0   \n3    130000.0                    1     Current  ...        67.0       19.0   \n4     28000.0                    0     Current  ...        72.0        5.0   \n5     96500.0                    0     Current  ...        55.7       30.0   \n6     60000.0                    0     Current  ...        24.0       18.0   \n\n   total_pymnt  total_rec_late_fee  last_pymnt_amnt  application_type  \\\n0     21251.04                 0.0           885.46                 0   \n1      7994.83                 0.0           333.14                 0   \n2      8842.80                 0.0           368.45                 0   \n3      9564.40                 0.0           398.52                 0   \n4      6407.38                 0.0           266.34                 0   \n5      8973.88                 0.0           373.94                 0   \n6      9426.61                 0.0           392.81                 0   \n\n   acc_now_delinq  tot_coll_amt  tot_cur_bal  label  \n0             0.0           0.0     114834.0      1  \n1             0.0           0.0      14123.0      1  \n2             0.0           0.0     267646.0      1  \n3             0.0           0.0     327264.0      1  \n4             0.0           0.0       5759.0      1  \n5             0.0           0.0     200314.0      1  \n6             0.0           0.0       7137.0      1  \n\n[7 rows x 27 columns]",
      "text/html": "<div>\n<style scoped>\n    .dataframe tbody tr th:only-of-type {\n        vertical-align: middle;\n    }\n\n    .dataframe tbody tr th {\n        vertical-align: top;\n    }\n\n    .dataframe thead th {\n        text-align: right;\n    }\n</style>\n<table border=\"1\" class=\"dataframe\">\n  <thead>\n    <tr style=\"text-align: right;\">\n      <th></th>\n      <th>loan_amnt</th>\n      <th>term</th>\n      <th>int_rate</th>\n      <th>installment</th>\n      <th>grade</th>\n      <th>emp_length</th>\n      <th>home_ownership</th>\n      <th>annual_inc</th>\n      <th>verification_status</th>\n      <th>loan_status</th>\n      <th>...</th>\n      <th>revol_util</th>\n      <th>total_acc</th>\n      <th>total_pymnt</th>\n      <th>total_rec_late_fee</th>\n      <th>last_pymnt_amnt</th>\n      <th>application_type</th>\n      <th>acc_now_delinq</th>\n      <th>tot_coll_amt</th>\n      <th>tot_cur_bal</th>\n      <th>label</th>\n    </tr>\n  </thead>\n  <tbody>\n    <tr>\n      <th>0</th>\n      <td>27050.0</td>\n      <td>0</td>\n      <td>10.99</td>\n      <td>885.46</td>\n      <td>4</td>\n      <td>12</td>\n      <td>3</td>\n      <td>55000.0</td>\n      <td>2</td>\n      <td>Current</td>\n      <td>...</td>\n      <td>61.2</td>\n      <td>27.0</td>\n      <td>21251.04</td>\n      <td>0.0</td>\n      <td>885.46</td>\n      <td>0</td>\n      <td>0.0</td>\n      <td>0.0</td>\n      <td>114834.0</td>\n      <td>1</td>\n    </tr>\n    <tr>\n      <th>1</th>\n      <td>9750.0</td>\n      <td>0</td>\n      <td>13.98</td>\n      <td>333.14</td>\n      <td>3</td>\n      <td>2</td>\n      <td>1</td>\n      <td>26000.0</td>\n      <td>0</td>\n      <td>Current</td>\n      <td>...</td>\n      <td>52.8</td>\n      <td>28.0</td>\n      <td>7994.83</td>\n      <td>0.0</td>\n      <td>333.14</td>\n      <td>0</td>\n      <td>0.0</td>\n      <td>0.0</td>\n      <td>14123.0</td>\n      <td>1</td>\n    </tr>\n    <tr>\n      <th>2</th>\n      <td>12000.0</td>\n      <td>0</td>\n      <td>6.62</td>\n      <td>368.45</td>\n      <td>5</td>\n      <td>12</td>\n      <td>2</td>\n      <td>105000.0</td>\n      <td>0</td>\n      <td>Current</td>\n      <td>...</td>\n      <td>21.6</td>\n      <td>22.0</td>\n      <td>8842.80</td>\n      <td>0.0</td>\n      <td>368.45</td>\n      <td>0</td>\n      <td>0.0</td>\n      <td>0.0</td>\n      <td>267646.0</td>\n      <td>1</td>\n    </tr>\n    <tr>\n      <th>3</th>\n      <td>12000.0</td>\n      <td>0</td>\n      <td>11.99</td>\n      <td>398.52</td>\n      <td>4</td>\n      <td>12</td>\n      <td>2</td>\n      <td>130000.0</td>\n      <td>1</td>\n      <td>Current</td>\n      <td>...</td>\n      <td>67.0</td>\n      <td>19.0</td>\n      <td>9564.40</td>\n      <td>0.0</td>\n      <td>398.52</td>\n      <td>0</td>\n      <td>0.0</td>\n      <td>0.0</td>\n      <td>327264.0</td>\n      <td>1</td>\n    </tr>\n    <tr>\n      <th>4</th>\n      <td>7550.0</td>\n      <td>0</td>\n      <td>16.24</td>\n      <td>266.34</td>\n      <td>3</td>\n      <td>4</td>\n      <td>1</td>\n      <td>28000.0</td>\n      <td>0</td>\n      <td>Current</td>\n      <td>...</td>\n      <td>72.0</td>\n      <td>5.0</td>\n      <td>6407.38</td>\n      <td>0.0</td>\n      <td>266.34</td>\n      <td>0</td>\n      <td>0.0</td>\n      <td>0.0</td>\n      <td>5759.0</td>\n      <td>1</td>\n    </tr>\n    <tr>\n      <th>5</th>\n      <td>12000.0</td>\n      <td>0</td>\n      <td>7.62</td>\n      <td>373.94</td>\n      <td>5</td>\n      <td>4</td>\n      <td>2</td>\n      <td>96500.0</td>\n      <td>0</td>\n      <td>Current</td>\n      <td>...</td>\n      <td>55.7</td>\n      <td>30.0</td>\n      <td>8973.88</td>\n      <td>0.0</td>\n      <td>373.94</td>\n      <td>0</td>\n      <td>0.0</td>\n      <td>0.0</td>\n      <td>200314.0</td>\n      <td>1</td>\n    </tr>\n    <tr>\n      <th>6</th>\n      <td>12000.0</td>\n      <td>0</td>\n      <td>10.99</td>\n      <td>392.81</td>\n      <td>4</td>\n      <td>5</td>\n      <td>1</td>\n      <td>60000.0</td>\n      <td>0</td>\n      <td>Current</td>\n      <td>...</td>\n      <td>24.0</td>\n      <td>18.0</td>\n      <td>9426.61</td>\n      <td>0.0</td>\n      <td>392.81</td>\n      <td>0</td>\n      <td>0.0</td>\n      <td>0.0</td>\n      <td>7137.0</td>\n      <td>1</td>\n    </tr>\n  </tbody>\n</table>\n<p>7 rows × 27 columns</p>\n</div>"
     },
     "execution_count": 19,
     "metadata": {},
     "output_type": "execute_result"
    }
   ],
   "source": [
    "import numpy as np\n",
    "import pandas as pd\n",
    "import seaborn as sns\n",
    "import matplotlib.pyplot as plt\n",
    "from IPython.display import display, Markdown, Latex\n",
    "\n",
    "sns.set_style('whitegrid')\n",
    "\n",
    "from sklearn.preprocessing import LabelEncoder\n",
    "from sklearn.model_selection import train_test_split\n",
    "from sklearn.neighbors import KNeighborsClassifier\n",
    "from sklearn.metrics import classification_report\n",
    "\n",
    "from sklearn.metrics import f1_score\n",
    "\n",
    "# 加载数据集\n",
    "df_loan = pd.read_csv(\"/Users/mxfmeng/PycharmProjects/GraduationDesign/dataset/loan_new_3_2.csv\")\n",
    "df_loan.head(7)"
   ]
  },
  {
   "cell_type": "code",
   "execution_count": 20,
   "outputs": [],
   "source": [
    "X = df_loan.drop(columns=[\"loan_status\", \"label\"])\n",
    "y = df_loan[[\"label\"]]\n",
    "X_train, X_test, y_train, y_test = train_test_split(X, y, test_size=0.2, random_state=135223)"
   ],
   "metadata": {
    "collapsed": false
   }
  },
  {
   "cell_type": "code",
   "execution_count": 21,
   "outputs": [
    {
     "name": "stderr",
     "output_type": "stream",
     "text": [
      "/Users/mxfmeng/anaconda3/lib/python3.11/site-packages/sklearn/neighbors/_classification.py:228: DataConversionWarning: A column-vector y was passed when a 1d array was expected. Please change the shape of y to (n_samples,), for example using ravel().\n",
      "  return self._fit(X, y)\n"
     ]
    },
    {
     "data": {
      "text/plain": "KNeighborsClassifier(n_neighbors=30)",
      "text/html": "<style>#sk-container-id-3 {color: black;}#sk-container-id-3 pre{padding: 0;}#sk-container-id-3 div.sk-toggleable {background-color: white;}#sk-container-id-3 label.sk-toggleable__label {cursor: pointer;display: block;width: 100%;margin-bottom: 0;padding: 0.3em;box-sizing: border-box;text-align: center;}#sk-container-id-3 label.sk-toggleable__label-arrow:before {content: \"▸\";float: left;margin-right: 0.25em;color: #696969;}#sk-container-id-3 label.sk-toggleable__label-arrow:hover:before {color: black;}#sk-container-id-3 div.sk-estimator:hover label.sk-toggleable__label-arrow:before {color: black;}#sk-container-id-3 div.sk-toggleable__content {max-height: 0;max-width: 0;overflow: hidden;text-align: left;background-color: #f0f8ff;}#sk-container-id-3 div.sk-toggleable__content pre {margin: 0.2em;color: black;border-radius: 0.25em;background-color: #f0f8ff;}#sk-container-id-3 input.sk-toggleable__control:checked~div.sk-toggleable__content {max-height: 200px;max-width: 100%;overflow: auto;}#sk-container-id-3 input.sk-toggleable__control:checked~label.sk-toggleable__label-arrow:before {content: \"▾\";}#sk-container-id-3 div.sk-estimator input.sk-toggleable__control:checked~label.sk-toggleable__label {background-color: #d4ebff;}#sk-container-id-3 div.sk-label input.sk-toggleable__control:checked~label.sk-toggleable__label {background-color: #d4ebff;}#sk-container-id-3 input.sk-hidden--visually {border: 0;clip: rect(1px 1px 1px 1px);clip: rect(1px, 1px, 1px, 1px);height: 1px;margin: -1px;overflow: hidden;padding: 0;position: absolute;width: 1px;}#sk-container-id-3 div.sk-estimator {font-family: monospace;background-color: #f0f8ff;border: 1px dotted black;border-radius: 0.25em;box-sizing: border-box;margin-bottom: 0.5em;}#sk-container-id-3 div.sk-estimator:hover {background-color: #d4ebff;}#sk-container-id-3 div.sk-parallel-item::after {content: \"\";width: 100%;border-bottom: 1px solid gray;flex-grow: 1;}#sk-container-id-3 div.sk-label:hover label.sk-toggleable__label {background-color: #d4ebff;}#sk-container-id-3 div.sk-serial::before {content: \"\";position: absolute;border-left: 1px solid gray;box-sizing: border-box;top: 0;bottom: 0;left: 50%;z-index: 0;}#sk-container-id-3 div.sk-serial {display: flex;flex-direction: column;align-items: center;background-color: white;padding-right: 0.2em;padding-left: 0.2em;position: relative;}#sk-container-id-3 div.sk-item {position: relative;z-index: 1;}#sk-container-id-3 div.sk-parallel {display: flex;align-items: stretch;justify-content: center;background-color: white;position: relative;}#sk-container-id-3 div.sk-item::before, #sk-container-id-3 div.sk-parallel-item::before {content: \"\";position: absolute;border-left: 1px solid gray;box-sizing: border-box;top: 0;bottom: 0;left: 50%;z-index: -1;}#sk-container-id-3 div.sk-parallel-item {display: flex;flex-direction: column;z-index: 1;position: relative;background-color: white;}#sk-container-id-3 div.sk-parallel-item:first-child::after {align-self: flex-end;width: 50%;}#sk-container-id-3 div.sk-parallel-item:last-child::after {align-self: flex-start;width: 50%;}#sk-container-id-3 div.sk-parallel-item:only-child::after {width: 0;}#sk-container-id-3 div.sk-dashed-wrapped {border: 1px dashed gray;margin: 0 0.4em 0.5em 0.4em;box-sizing: border-box;padding-bottom: 0.4em;background-color: white;}#sk-container-id-3 div.sk-label label {font-family: monospace;font-weight: bold;display: inline-block;line-height: 1.2em;}#sk-container-id-3 div.sk-label-container {text-align: center;}#sk-container-id-3 div.sk-container {/* jupyter's `normalize.less` sets `[hidden] { display: none; }` but bootstrap.min.css set `[hidden] { display: none !important; }` so we also need the `!important` here to be able to override the default hidden behavior on the sphinx rendered scikit-learn.org. See: https://github.com/scikit-learn/scikit-learn/issues/21755 */display: inline-block !important;position: relative;}#sk-container-id-3 div.sk-text-repr-fallback {display: none;}</style><div id=\"sk-container-id-3\" class=\"sk-top-container\"><div class=\"sk-text-repr-fallback\"><pre>KNeighborsClassifier(n_neighbors=30)</pre><b>In a Jupyter environment, please rerun this cell to show the HTML representation or trust the notebook. <br />On GitHub, the HTML representation is unable to render, please try loading this page with nbviewer.org.</b></div><div class=\"sk-container\" hidden><div class=\"sk-item\"><div class=\"sk-estimator sk-toggleable\"><input class=\"sk-toggleable__control sk-hidden--visually\" id=\"sk-estimator-id-3\" type=\"checkbox\" checked><label for=\"sk-estimator-id-3\" class=\"sk-toggleable__label sk-toggleable__label-arrow\">KNeighborsClassifier</label><div class=\"sk-toggleable__content\"><pre>KNeighborsClassifier(n_neighbors=30)</pre></div></div></div></div></div>"
     },
     "execution_count": 21,
     "metadata": {},
     "output_type": "execute_result"
    }
   ],
   "source": [
    "knnModel = KNeighborsClassifier(n_neighbors=30)\n",
    "knnModel.fit(X_train,y_train)"
   ],
   "metadata": {
    "collapsed": false
   }
  },
  {
   "cell_type": "code",
   "execution_count": 23,
   "outputs": [
    {
     "name": "stderr",
     "output_type": "stream",
     "text": [
      "/Users/mxfmeng/anaconda3/lib/python3.11/site-packages/sklearn/base.py:464: UserWarning: X does not have valid feature names, but KNeighborsClassifier was fitted with feature names\n",
      "  warnings.warn(\n"
     ]
    },
    {
     "name": "stdout",
     "output_type": "stream",
     "text": [
      "              precision    recall  f1-score   support\n",
      "\n",
      "           0       0.69      0.02      0.05      2867\n",
      "           1       0.87      1.00      0.93     54114\n",
      "           2       0.00      0.00      0.00       751\n",
      "           3       0.00      0.00      0.00      4468\n",
      "\n",
      "    accuracy                           0.87     62200\n",
      "   macro avg       0.39      0.26      0.24     62200\n",
      "weighted avg       0.79      0.87      0.81     62200\n",
      "\n"
     ]
    },
    {
     "name": "stderr",
     "output_type": "stream",
     "text": [
      "/Users/mxfmeng/anaconda3/lib/python3.11/site-packages/sklearn/metrics/_classification.py:1469: UndefinedMetricWarning: Precision and F-score are ill-defined and being set to 0.0 in labels with no predicted samples. Use `zero_division` parameter to control this behavior.\n",
      "  _warn_prf(average, modifier, msg_start, len(result))\n",
      "/Users/mxfmeng/anaconda3/lib/python3.11/site-packages/sklearn/metrics/_classification.py:1469: UndefinedMetricWarning: Precision and F-score are ill-defined and being set to 0.0 in labels with no predicted samples. Use `zero_division` parameter to control this behavior.\n",
      "  _warn_prf(average, modifier, msg_start, len(result))\n",
      "/Users/mxfmeng/anaconda3/lib/python3.11/site-packages/sklearn/metrics/_classification.py:1469: UndefinedMetricWarning: Precision and F-score are ill-defined and being set to 0.0 in labels with no predicted samples. Use `zero_division` parameter to control this behavior.\n",
      "  _warn_prf(average, modifier, msg_start, len(result))\n"
     ]
    }
   ],
   "source": [
    "print(classification_report(y_test, knnModel.predict(X_test.values)))\n"
   ],
   "metadata": {
    "collapsed": false
   }
  },
  {
   "cell_type": "code",
   "execution_count": 24,
   "outputs": [
    {
     "data": {
      "text/plain": "        loan_amnt  term  int_rate  installment  grade  emp_length  \\\n0         27050.0     0     10.99       885.46      4          12   \n1          9750.0     0     13.98       333.14      3           2   \n2         12000.0     0      6.62       368.45      5          12   \n3         12000.0     0     11.99       398.52      4          12   \n4          7550.0     0     16.24       266.34      3           4   \n...           ...   ...       ...          ...    ...         ...   \n310995     8000.0     0      8.19       251.40      5          10   \n310996    10000.0     0      6.49       306.45      5           2   \n310997    13150.0     1     14.99       312.77      3           9   \n310998    11575.0     0     15.59       404.61      2          12   \n310999    24000.0     0     11.99       797.03      4          12   \n\n        home_ownership  annual_inc  verification_status loan_status  ...  \\\n0                    3     55000.0                    2     Current  ...   \n1                    1     26000.0                    0     Current  ...   \n2                    2    105000.0                    0     Current  ...   \n3                    2    130000.0                    1     Current  ...   \n4                    1     28000.0                    0     Current  ...   \n...                ...         ...                  ...         ...  ...   \n310995               2     50000.0                    1     Current  ...   \n310996               1     75000.0                    2     Current  ...   \n310997               2     30000.0                    2     Current  ...   \n310998               1     25400.0                    2     Current  ...   \n310999               2     79000.0                    2     Current  ...   \n\n        revol_util  total_acc  total_pymnt  total_rec_late_fee  \\\n0             61.2       27.0     21251.04                 0.0   \n1             52.8       28.0      7994.83                 0.0   \n2             21.6       22.0      8842.80                 0.0   \n3             67.0       19.0      9564.40                 0.0   \n4             72.0        5.0      6407.38                 0.0   \n...            ...        ...          ...                 ...   \n310995        63.2       27.0      3009.52                 0.0   \n310996        34.7       32.0      3670.19                 0.0   \n310997         3.2       14.0      3731.34                 0.0   \n310998        65.0       18.0      4863.33                 0.0   \n310999        84.5       23.0      9532.39                 0.0   \n\n        last_pymnt_amnt  application_type  acc_now_delinq  tot_coll_amt  \\\n0                885.46                 0             0.0           0.0   \n1                333.14                 0             0.0           0.0   \n2                368.45                 0             0.0           0.0   \n3                398.52                 0             0.0           0.0   \n4                266.34                 0             0.0           0.0   \n...                 ...               ...             ...           ...   \n310995           251.40                 0             0.0           0.0   \n310996           306.45                 0             0.0           0.0   \n310997           312.77                 0             0.0           0.0   \n310998           404.61                 0             0.0           0.0   \n310999           797.03                 0             0.0           0.0   \n\n        tot_cur_bal  label  \n0          114834.0      1  \n1           14123.0      1  \n2          267646.0      1  \n3          327264.0      1  \n4            5759.0      1  \n...             ...    ...  \n310995     211412.0      1  \n310996      88120.0      1  \n310997     158977.0      1  \n310998      19798.0      1  \n310999     140285.0      1  \n\n[311000 rows x 27 columns]",
      "text/html": "<div>\n<style scoped>\n    .dataframe tbody tr th:only-of-type {\n        vertical-align: middle;\n    }\n\n    .dataframe tbody tr th {\n        vertical-align: top;\n    }\n\n    .dataframe thead th {\n        text-align: right;\n    }\n</style>\n<table border=\"1\" class=\"dataframe\">\n  <thead>\n    <tr style=\"text-align: right;\">\n      <th></th>\n      <th>loan_amnt</th>\n      <th>term</th>\n      <th>int_rate</th>\n      <th>installment</th>\n      <th>grade</th>\n      <th>emp_length</th>\n      <th>home_ownership</th>\n      <th>annual_inc</th>\n      <th>verification_status</th>\n      <th>loan_status</th>\n      <th>...</th>\n      <th>revol_util</th>\n      <th>total_acc</th>\n      <th>total_pymnt</th>\n      <th>total_rec_late_fee</th>\n      <th>last_pymnt_amnt</th>\n      <th>application_type</th>\n      <th>acc_now_delinq</th>\n      <th>tot_coll_amt</th>\n      <th>tot_cur_bal</th>\n      <th>label</th>\n    </tr>\n  </thead>\n  <tbody>\n    <tr>\n      <th>0</th>\n      <td>27050.0</td>\n      <td>0</td>\n      <td>10.99</td>\n      <td>885.46</td>\n      <td>4</td>\n      <td>12</td>\n      <td>3</td>\n      <td>55000.0</td>\n      <td>2</td>\n      <td>Current</td>\n      <td>...</td>\n      <td>61.2</td>\n      <td>27.0</td>\n      <td>21251.04</td>\n      <td>0.0</td>\n      <td>885.46</td>\n      <td>0</td>\n      <td>0.0</td>\n      <td>0.0</td>\n      <td>114834.0</td>\n      <td>1</td>\n    </tr>\n    <tr>\n      <th>1</th>\n      <td>9750.0</td>\n      <td>0</td>\n      <td>13.98</td>\n      <td>333.14</td>\n      <td>3</td>\n      <td>2</td>\n      <td>1</td>\n      <td>26000.0</td>\n      <td>0</td>\n      <td>Current</td>\n      <td>...</td>\n      <td>52.8</td>\n      <td>28.0</td>\n      <td>7994.83</td>\n      <td>0.0</td>\n      <td>333.14</td>\n      <td>0</td>\n      <td>0.0</td>\n      <td>0.0</td>\n      <td>14123.0</td>\n      <td>1</td>\n    </tr>\n    <tr>\n      <th>2</th>\n      <td>12000.0</td>\n      <td>0</td>\n      <td>6.62</td>\n      <td>368.45</td>\n      <td>5</td>\n      <td>12</td>\n      <td>2</td>\n      <td>105000.0</td>\n      <td>0</td>\n      <td>Current</td>\n      <td>...</td>\n      <td>21.6</td>\n      <td>22.0</td>\n      <td>8842.80</td>\n      <td>0.0</td>\n      <td>368.45</td>\n      <td>0</td>\n      <td>0.0</td>\n      <td>0.0</td>\n      <td>267646.0</td>\n      <td>1</td>\n    </tr>\n    <tr>\n      <th>3</th>\n      <td>12000.0</td>\n      <td>0</td>\n      <td>11.99</td>\n      <td>398.52</td>\n      <td>4</td>\n      <td>12</td>\n      <td>2</td>\n      <td>130000.0</td>\n      <td>1</td>\n      <td>Current</td>\n      <td>...</td>\n      <td>67.0</td>\n      <td>19.0</td>\n      <td>9564.40</td>\n      <td>0.0</td>\n      <td>398.52</td>\n      <td>0</td>\n      <td>0.0</td>\n      <td>0.0</td>\n      <td>327264.0</td>\n      <td>1</td>\n    </tr>\n    <tr>\n      <th>4</th>\n      <td>7550.0</td>\n      <td>0</td>\n      <td>16.24</td>\n      <td>266.34</td>\n      <td>3</td>\n      <td>4</td>\n      <td>1</td>\n      <td>28000.0</td>\n      <td>0</td>\n      <td>Current</td>\n      <td>...</td>\n      <td>72.0</td>\n      <td>5.0</td>\n      <td>6407.38</td>\n      <td>0.0</td>\n      <td>266.34</td>\n      <td>0</td>\n      <td>0.0</td>\n      <td>0.0</td>\n      <td>5759.0</td>\n      <td>1</td>\n    </tr>\n    <tr>\n      <th>...</th>\n      <td>...</td>\n      <td>...</td>\n      <td>...</td>\n      <td>...</td>\n      <td>...</td>\n      <td>...</td>\n      <td>...</td>\n      <td>...</td>\n      <td>...</td>\n      <td>...</td>\n      <td>...</td>\n      <td>...</td>\n      <td>...</td>\n      <td>...</td>\n      <td>...</td>\n      <td>...</td>\n      <td>...</td>\n      <td>...</td>\n      <td>...</td>\n      <td>...</td>\n      <td>...</td>\n    </tr>\n    <tr>\n      <th>310995</th>\n      <td>8000.0</td>\n      <td>0</td>\n      <td>8.19</td>\n      <td>251.40</td>\n      <td>5</td>\n      <td>10</td>\n      <td>2</td>\n      <td>50000.0</td>\n      <td>1</td>\n      <td>Current</td>\n      <td>...</td>\n      <td>63.2</td>\n      <td>27.0</td>\n      <td>3009.52</td>\n      <td>0.0</td>\n      <td>251.40</td>\n      <td>0</td>\n      <td>0.0</td>\n      <td>0.0</td>\n      <td>211412.0</td>\n      <td>1</td>\n    </tr>\n    <tr>\n      <th>310996</th>\n      <td>10000.0</td>\n      <td>0</td>\n      <td>6.49</td>\n      <td>306.45</td>\n      <td>5</td>\n      <td>2</td>\n      <td>1</td>\n      <td>75000.0</td>\n      <td>2</td>\n      <td>Current</td>\n      <td>...</td>\n      <td>34.7</td>\n      <td>32.0</td>\n      <td>3670.19</td>\n      <td>0.0</td>\n      <td>306.45</td>\n      <td>0</td>\n      <td>0.0</td>\n      <td>0.0</td>\n      <td>88120.0</td>\n      <td>1</td>\n    </tr>\n    <tr>\n      <th>310997</th>\n      <td>13150.0</td>\n      <td>1</td>\n      <td>14.99</td>\n      <td>312.77</td>\n      <td>3</td>\n      <td>9</td>\n      <td>2</td>\n      <td>30000.0</td>\n      <td>2</td>\n      <td>Current</td>\n      <td>...</td>\n      <td>3.2</td>\n      <td>14.0</td>\n      <td>3731.34</td>\n      <td>0.0</td>\n      <td>312.77</td>\n      <td>0</td>\n      <td>0.0</td>\n      <td>0.0</td>\n      <td>158977.0</td>\n      <td>1</td>\n    </tr>\n    <tr>\n      <th>310998</th>\n      <td>11575.0</td>\n      <td>0</td>\n      <td>15.59</td>\n      <td>404.61</td>\n      <td>2</td>\n      <td>12</td>\n      <td>1</td>\n      <td>25400.0</td>\n      <td>2</td>\n      <td>Current</td>\n      <td>...</td>\n      <td>65.0</td>\n      <td>18.0</td>\n      <td>4863.33</td>\n      <td>0.0</td>\n      <td>404.61</td>\n      <td>0</td>\n      <td>0.0</td>\n      <td>0.0</td>\n      <td>19798.0</td>\n      <td>1</td>\n    </tr>\n    <tr>\n      <th>310999</th>\n      <td>24000.0</td>\n      <td>0</td>\n      <td>11.99</td>\n      <td>797.03</td>\n      <td>4</td>\n      <td>12</td>\n      <td>2</td>\n      <td>79000.0</td>\n      <td>2</td>\n      <td>Current</td>\n      <td>...</td>\n      <td>84.5</td>\n      <td>23.0</td>\n      <td>9532.39</td>\n      <td>0.0</td>\n      <td>797.03</td>\n      <td>0</td>\n      <td>0.0</td>\n      <td>0.0</td>\n      <td>140285.0</td>\n      <td>1</td>\n    </tr>\n  </tbody>\n</table>\n<p>311000 rows × 27 columns</p>\n</div>"
     },
     "execution_count": 24,
     "metadata": {},
     "output_type": "execute_result"
    }
   ],
   "source": [
    "df_loan"
   ],
   "metadata": {
    "collapsed": false
   }
  },
  {
   "cell_type": "code",
   "execution_count": 22,
   "outputs": [],
   "source": [],
   "metadata": {
    "collapsed": false
   }
  },
  {
   "cell_type": "code",
   "execution_count": 22,
   "outputs": [],
   "source": [],
   "metadata": {
    "collapsed": false
   }
  }
 ],
 "metadata": {
  "kernelspec": {
   "display_name": "Python 3",
   "language": "python",
   "name": "python3"
  },
  "language_info": {
   "codemirror_mode": {
    "name": "ipython",
    "version": 2
   },
   "file_extension": ".py",
   "mimetype": "text/x-python",
   "name": "python",
   "nbconvert_exporter": "python",
   "pygments_lexer": "ipython2",
   "version": "2.7.6"
  }
 },
 "nbformat": 4,
 "nbformat_minor": 0
}
